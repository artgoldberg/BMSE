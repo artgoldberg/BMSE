{
 "cells": [
  {
   "attachments": {},
   "cell_type": "markdown",
   "metadata": {},
   "source": [
    "## Python method types\n",
    "\n",
    "\n",
    "**[Arthur Goldberg](https://www.mountsinai.org/profiles/arthur-p-goldberg)**\n",
    "\n",
    "This notebook was created for the [Biomedical Software Engineering](https://learn.mssm.edu/webapps/blackboard/content/listContentEditable.jsp?content_id=_448512_1&course_id=_5776_1 \"Biomedical Software Engineering Blackboard site\") course at the [Mount Sinai School of Medicine](https://icahn.mssm.edu/).\n",
    "\n",
    "Python supports three object method types. \n",
    "1. normal methods\n",
    "2. class methods\n",
    "3. static methods\n",
    "\n",
    "This notebook illustrates how they are used and constructed."
   ]
  },
  {
   "cell_type": "code",
   "execution_count": 3,
   "metadata": {},
   "outputs": [
    {
     "name": "stdout",
     "output_type": "stream",
     "text": [
      "Example.x_squared(10): 100\n",
      "Example.get_num_instances_created(): 0\n",
      "example_1.get_value(): hi\n",
      "Example.get_num_instances_created(): 1\n",
      "example_2.get_value(): 7\n",
      "Example.get_num_instances_created(): 2\n",
      "Example.x_squared(10): 100\n"
     ]
    }
   ],
   "source": [
    "class Example(object):\n",
    "\n",
    "    # a class variable\n",
    "    num_instances_created = 0\n",
    "\n",
    "    def __init__(self, value):\n",
    "        self.value = value\n",
    "        Example.num_instances_created += 1\n",
    "\n",
    "    # a normal method: use to access a class instance, via self parameter\n",
    "    def get_value(self):\n",
    "        return self.value\n",
    "\n",
    "    # a class method: use to access its class, via cls parameter\n",
    "    @classmethod\n",
    "    def get_num_instances_created(cls):\n",
    "        return cls.num_instances_created\n",
    "\n",
    "    # a static method: use to process its arguments\n",
    "    @staticmethod\n",
    "    def x_squared(x):\n",
    "        return x*x\n",
    "\n",
    "print('Example.x_squared(10):', Example.x_squared(10))\n",
    "print('Example.get_num_instances_created():', Example.get_num_instances_created())\n",
    "example_1 = Example('hi')\n",
    "print('example_1.get_value():', example_1.get_value())\n",
    "print('Example.get_num_instances_created():', Example.get_num_instances_created())\n",
    "example_2 = Example(7)\n",
    "print('example_2.get_value():', example_2.get_value())\n",
    "print('Example.get_num_instances_created():', Example.get_num_instances_created())\n",
    "print('Example.x_squared(10):', Example.x_squared(10))"
   ]
  }
 ],
 "metadata": {
  "kernelspec": {
   "display_name": "Python 3",
   "language": "python",
   "name": "python3"
  },
  "language_info": {
   "codemirror_mode": {
    "name": "ipython",
    "version": 3
   },
   "file_extension": ".py",
   "mimetype": "text/x-python",
   "name": "python",
   "nbconvert_exporter": "python",
   "pygments_lexer": "ipython3",
   "version": "3.6.3"
  }
 },
 "nbformat": 4,
 "nbformat_minor": 2
}
