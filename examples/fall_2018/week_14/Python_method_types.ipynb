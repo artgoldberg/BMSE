{
 "cells": [
  {
   "cell_type": "markdown",
   "metadata": {},
   "source": [
    "## Python method types: their uses and contruction\n",
    "\n",
    "Arthur Goldberg, ..."
   ]
  },
  {
   "cell_type": "code",
   "execution_count": 2,
   "metadata": {},
   "outputs": [
    {
     "name": "stdout",
     "output_type": "stream",
     "text": [
      "Example.x_squared(10): 100\n",
      "Example.get_num_instances_created(): 0\n",
      "example_1.get_value(): hi\n",
      "Example.get_num_instances_created(): 1\n",
      "example_2.get_value(): 7\n",
      "Example.get_num_instances_created(): 2\n",
      "Example.x_squared(10): 100\n"
     ]
    }
   ],
   "source": [
    "class Example(object):\n",
    "\n",
    "    # a class variable\n",
    "    num_instances_created = 0\n",
    "\n",
    "    def __init__(self, value):\n",
    "        self.value = value\n",
    "        Example.num_instances_created += 1\n",
    "\n",
    "    # a normal method\n",
    "    def get_value(self):\n",
    "        return self.value\n",
    "\n",
    "    # a class method\n",
    "    @classmethod\n",
    "    def get_num_instances_created(cls):\n",
    "        return cls.num_instances_created\n",
    "\n",
    "    # a static method\n",
    "    @staticmethod\n",
    "    def x_squared(x):\n",
    "        return x*x\n",
    "\n",
    "print('Example.x_squared(10):', Example.x_squared(10))\n",
    "print('Example.get_num_instances_created():', Example.get_num_instances_created())\n",
    "example_1 = Example('hi')\n",
    "print('example_1.get_value():', example_1.get_value())\n",
    "print('Example.get_num_instances_created():', Example.get_num_instances_created())\n",
    "example_2 = Example(7)\n",
    "print('example_2.get_value():', example_2.get_value())\n",
    "print('Example.get_num_instances_created():', Example.get_num_instances_created())\n",
    "print('Example.x_squared(10):', Example.x_squared(10))"
   ]
  },
  {
   "cell_type": "code",
   "execution_count": null,
   "metadata": {},
   "outputs": [],
   "source": []
  }
 ],
 "metadata": {
  "kernelspec": {
   "display_name": "Python 3",
   "language": "python",
   "name": "python3"
  },
  "language_info": {
   "codemirror_mode": {
    "name": "ipython",
    "version": 3
   },
   "file_extension": ".py",
   "mimetype": "text/x-python",
   "name": "python",
   "nbconvert_exporter": "python",
   "pygments_lexer": "ipython3",
   "version": "3.6.3"
  }
 },
 "nbformat": 4,
 "nbformat_minor": 2
}
