{
 "cells": [
  {
   "cell_type": "markdown",
   "metadata": {
    "deletable": true,
    "editable": true
   },
   "source": [
    "# Logging Cookbook"
   ]
  },
  {
   "cell_type": "code",
   "execution_count": 1,
   "metadata": {
    "collapsed": false,
    "deletable": true,
    "editable": true
   },
   "outputs": [],
   "source": [
    "# demo_logging.py\n",
    "import logging\n",
    "import auxiliary_module\n",
    "\n",
    "# create logger called 'spam_application'\n",
    "logger = logging.getLogger('spam_application')\n",
    "logger.setLevel(logging.DEBUG)\n",
    "# create file handler which logs even debug messages\n",
    "file_handler = logging.FileHandler('spam.log')\n",
    "file_handler.setLevel(logging.DEBUG)\n",
    "# create console handler with a higher log level\n",
    "console_handler = logging.StreamHandler()\n",
    "console_handler.setLevel(logging.ERROR)\n",
    "# create formatter and add it to the handlers\n",
    "formatter = logging.Formatter('%(asctime)s - %(name)s - %(levelname)s - %(message)s')\n",
    "file_handler.setFormatter(formatter)\n",
    "console_handler.setFormatter(formatter)\n",
    "# add the handlers to the logger\n",
    "logger.addHandler(file_handler)\n",
    "logger.addHandler(console_handler)\n",
    "\n",
    "logger.info('creating an instance of auxiliary_module.Auxiliary')\n",
    "a = auxiliary_module.Auxiliary()\n",
    "logger.info('created an instance of auxiliary_module.Auxiliary')\n",
    "logger.info('calling auxiliary_module.Auxiliary.do_something')\n",
    "a.do_something()\n",
    "logger.info('finished auxiliary_module.Auxiliary.do_something')\n",
    "logger.info('calling auxiliary_module.some_function()')\n",
    "auxiliary_module.some_function()\n",
    "logger.info('done with auxiliary_module.some_function()')\n",
    "\n"
   ]
  },
  {
   "cell_type": "code",
   "execution_count": null,
   "metadata": {
    "collapsed": true,
    "deletable": true,
    "editable": true
   },
   "outputs": [],
   "source": []
  }
 ],
 "metadata": {
  "kernelspec": {
   "display_name": "Python 3",
   "language": "python",
   "name": "python3"
  },
  "language_info": {
   "codemirror_mode": {
    "name": "ipython",
    "version": 3
   },
   "file_extension": ".py",
   "mimetype": "text/x-python",
   "name": "python",
   "nbconvert_exporter": "python",
   "pygments_lexer": "ipython3",
   "version": "3.5.4"
  }
 },
 "nbformat": 4,
 "nbformat_minor": 2
}
