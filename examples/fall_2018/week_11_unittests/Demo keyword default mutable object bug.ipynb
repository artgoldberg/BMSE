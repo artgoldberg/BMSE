{
 "cells": [
  {
   "cell_type": "code",
   "execution_count": 2,
   "metadata": {},
   "outputs": [
    {
     "ename": "AssertionError",
     "evalue": "",
     "output_type": "error",
     "traceback": [
      "\u001b[0;31m---------------------------------------------------------------------------\u001b[0m",
      "\u001b[0;31mAssertionError\u001b[0m                            Traceback (most recent call last)",
      "\u001b[0;32m<ipython-input-2-3d0c20b99afe>\u001b[0m in \u001b[0;36m<module>\u001b[0;34m()\u001b[0m\n\u001b[1;32m     18\u001b[0m \u001b[0;34m\u001b[0m\u001b[0m\n\u001b[1;32m     19\u001b[0m \u001b[0ma_1\u001b[0m\u001b[0;34m.\u001b[0m\u001b[0mlist_example\u001b[0m\u001b[0;34m.\u001b[0m\u001b[0mpop\u001b[0m\u001b[0;34m(\u001b[0m\u001b[0;34m)\u001b[0m\u001b[0;34m\u001b[0m\u001b[0m\n\u001b[0;32m---> 20\u001b[0;31m \u001b[0;32massert\u001b[0m \u001b[0ma_2\u001b[0m\u001b[0;34m.\u001b[0m\u001b[0mlist_example\u001b[0m \u001b[0;34m==\u001b[0m \u001b[0;34m[\u001b[0m\u001b[0;36m1\u001b[0m\u001b[0;34m,\u001b[0m \u001b[0;36m2\u001b[0m\u001b[0;34m,\u001b[0m \u001b[0;36m3\u001b[0m\u001b[0;34m]\u001b[0m\u001b[0;34m\u001b[0m\u001b[0m\n\u001b[0m\u001b[1;32m     21\u001b[0m \u001b[0;34m\u001b[0m\u001b[0m\n\u001b[1;32m     22\u001b[0m \u001b[0mprint\u001b[0m\u001b[0;34m(\u001b[0m\u001b[0ma_1\u001b[0m\u001b[0;34m.\u001b[0m\u001b[0mlist_example\u001b[0m\u001b[0;34m)\u001b[0m\u001b[0;34m\u001b[0m\u001b[0m\n",
      "\u001b[0;31mAssertionError\u001b[0m: "
     ]
    }
   ],
   "source": [
    "# Two of A's keyword defaults are mutable objects -- why is this a problem\n",
    "class A(object):\n",
    "    \n",
    "    def __init__(self, list_example=[1, 2, 3], set_example={'hi', 'mom'}, int_example=3):\n",
    "        self.list_example = list_example\n",
    "        self.set_example = set_example\n",
    "        self.int_example = int_example\n",
    "\n",
    "a_1 = A()\n",
    "assert a_1.list_example == [1, 2, 3]\n",
    "assert a_1.set_example == {'hi', 'mom'}\n",
    "assert a_1.int_example == 3\n",
    "\n",
    "a_2 = A()\n",
    "assert a_2.list_example == [1, 2, 3]\n",
    "assert a_2.set_example == {'hi', 'mom'}\n",
    "assert a_2.int_example == 3\n",
    "\n",
    "a_1.list_example.pop()\n",
    "assert a_2.list_example == [1, 2, 3]"
   ]
  },
  {
   "cell_type": "code",
   "execution_count": 3,
   "metadata": {},
   "outputs": [
    {
     "name": "stdout",
     "output_type": "stream",
     "text": [
      "[1, 2]\n",
      "[1, 2]\n"
     ]
    }
   ],
   "source": [
    "print(a_1.list_example)\n",
    "print(a_2.list_example)"
   ]
  },
  {
   "cell_type": "code",
   "execution_count": 4,
   "metadata": {},
   "outputs": [
    {
     "name": "stdout",
     "output_type": "stream",
     "text": [
      "a_1.int_example: 5\n",
      "a_2.int_example: 3\n"
     ]
    }
   ],
   "source": [
    "a_1.int_example += 2\n",
    "assert a_2.int_example == 3\n",
    "print('a_1.int_example:', a_1.int_example)\n",
    "print('a_2.int_example:', a_2.int_example)"
   ]
  },
  {
   "cell_type": "code",
   "execution_count": null,
   "metadata": {},
   "outputs": [],
   "source": []
  }
 ],
 "metadata": {
  "kernelspec": {
   "display_name": "Python 3",
   "language": "python",
   "name": "python3"
  },
  "language_info": {
   "codemirror_mode": {
    "name": "ipython",
    "version": 3
   },
   "file_extension": ".py",
   "mimetype": "text/x-python",
   "name": "python",
   "nbconvert_exporter": "python",
   "pygments_lexer": "ipython3",
   "version": "3.6.3"
  }
 },
 "nbformat": 4,
 "nbformat_minor": 2
}
