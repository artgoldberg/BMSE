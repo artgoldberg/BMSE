{
  "nbformat": 4,
  "nbformat_minor": 0,
  "metadata": {
    "colab": {
      "name": "BMSE Advanced Python.ipynb",
      "provenance": [],
      "collapsed_sections": []
    },
    "kernelspec": {
      "name": "python3",
      "display_name": "Python 3"
    }
  },
  "cells": [
    {
      "cell_type": "markdown",
      "metadata": {
        "id": "Fq5PMrsNxBj4"
      },
      "source": [
        "**Biomedical Software Engineering**\n",
        "\n",
        "**Prof. Arthur Goldberg**\n",
        "\n",
        "**Dept. Genetics and Genomic Sciences**\n",
        "\n",
        "**Spring 1, 2021**\n",
        "\n",
        "# Advanced Python\n",
        "## lambda expressions"
      ]
    },
    {
      "cell_type": "markdown",
      "metadata": {
        "id": "uc3Om7SCy3fb"
      },
      "source": [
        "A lambda expression is an anonymous function with parameters and a single expression. \n",
        "A `lambda` behaves like a function object defined with:\n",
        "\n",
        "    def <lambda>(parameters):\n",
        "        return expression\n",
        "See [lambda-expressions](https://docs.python.org/3/tutorial/controlflow.html#lambda-expressions).\n",
        "Since a lambda expression doesn't have a name, it needs to be used where it's defined. E.g.:\n"
      ]
    },
    {
      "cell_type": "code",
      "metadata": {
        "id": "Fab2HseCsFd2",
        "colab": {
          "base_uri": "https://localhost:8080/",
          "height": 34
        },
        "outputId": "e1ebac9b-e6b3-464b-c5bc-b61d0ea7e41e"
      },
      "source": [
        "pairs = [(1, 'one'), (2, 'two'), (3, 'three'), (4, 'four')]\n",
        "sorted(pairs, key=lambda pair: pair[1])\n"
      ],
      "execution_count": null,
      "outputs": [
        {
          "output_type": "execute_result",
          "data": {
            "text/plain": [
              "[(4, 'four'), (1, 'one'), (3, 'three'), (2, 'two')]"
            ]
          },
          "metadata": {
            "tags": []
          },
          "execution_count": 24
        }
      ]
    },
    {
      "cell_type": "markdown",
      "metadata": {
        "id": "5499Pxd3zmuF"
      },
      "source": [
        "Better, avoiding unnamed 1 index:"
      ]
    },
    {
      "cell_type": "code",
      "metadata": {
        "id": "TMW3BOiMzt43",
        "colab": {
          "base_uri": "https://localhost:8080/",
          "height": 70
        },
        "outputId": "cbf1c0d0-4623-4f55-822f-7a236e4bef93"
      },
      "source": [
        "from collections import namedtuple\n",
        "NamedTupleExample = namedtuple('NamedTupleExample', 'numeral name')\n",
        "pairs = [NamedTupleExample(1, 'one'), NamedTupleExample(2, 'two'), NamedTupleExample(3, 'three')]\n",
        "# pair.name better than pair[1]\n",
        "# why?\n",
        "sorted(pairs, key=lambda pair: pair.name)"
      ],
      "execution_count": null,
      "outputs": [
        {
          "output_type": "execute_result",
          "data": {
            "text/plain": [
              "[NamedTupleExample(numeral=1, name='one'),\n",
              " NamedTupleExample(numeral=3, name='three'),\n",
              " NamedTupleExample(numeral=2, name='two')]"
            ]
          },
          "metadata": {
            "tags": []
          },
          "execution_count": 25
        }
      ]
    },
    {
      "cell_type": "markdown",
      "metadata": {
        "id": "R2q8Sz4Gz0hX"
      },
      "source": [
        "Alternatively, use an improved namedtuple, `dataclass`.\n",
        "See [PEP 557](https://www.python.org/dev/peps/pep-0557/). New in version 3.7."
      ]
    },
    {
      "cell_type": "code",
      "metadata": {
        "id": "sctGZDC_0l4m",
        "colab": {
          "base_uri": "https://localhost:8080/",
          "height": 87
        },
        "outputId": "8051ca18-3e22-469a-a5b7-dc7974e02e74"
      },
      "source": [
        "from dataclasses import dataclass\n",
        "\n",
        "@dataclass\n",
        "class Pair:\n",
        "    ''' Class for example pair '''\n",
        "    numeral: int\n",
        "    name: str\n",
        "\n",
        "pairs = [Pair(1, 'one'), Pair(2, 'two'), Pair(3, 'three'), Pair(4, 'four')]\n",
        "sorted(pairs, key=lambda pair: pair.name)"
      ],
      "execution_count": null,
      "outputs": [
        {
          "output_type": "execute_result",
          "data": {
            "text/plain": [
              "[Pair(numeral=4, name='four'),\n",
              " Pair(numeral=1, name='one'),\n",
              " Pair(numeral=3, name='three'),\n",
              " Pair(numeral=2, name='two')]"
            ]
          },
          "metadata": {
            "tags": []
          },
          "execution_count": 26
        }
      ]
    },
    {
      "cell_type": "markdown",
      "metadata": {
        "id": "tMXv0gVc03os"
      },
      "source": [
        "`lambda`'s helpful with `filter()`, `map()`, etc.\n",
        "See Python [functions](https://docs.python.org/3/library/functions.html). See [filter](https://docs.python.org/3/library/functions.html#filter). Filter's signature:\n",
        "\n",
        "    filter(function, iterable)"
      ]
    },
    {
      "cell_type": "code",
      "metadata": {
        "id": "_3hyTeYJ2PFm",
        "colab": {
          "base_uri": "https://localhost:8080/",
          "height": 34
        },
        "outputId": "397d61cc-a23f-4e48-8e22-081668ac1fca"
      },
      "source": [
        "@dataclass  # a \"decorator\"; what's a decorator do?\n",
        "class Person:\n",
        "    ''' Class for example person '''\n",
        "    name: str\n",
        "    age: float\n",
        "\n",
        "people = [Person('Ruby', 24), Person('Amelia', 22), Person('Bennett', 60)]\n",
        "list(filter(lambda person: person.age < 30, people))\n",
        "# why do I wrap filter in list()?"
      ],
      "execution_count": null,
      "outputs": [
        {
          "output_type": "execute_result",
          "data": {
            "text/plain": [
              "[Person(name='Ruby', age=24), Person(name='Amelia', age=22)]"
            ]
          },
          "metadata": {
            "tags": []
          },
          "execution_count": 27
        }
      ]
    },
    {
      "cell_type": "code",
      "metadata": {
        "id": "-X7TZu1h2lrq",
        "colab": {
          "base_uri": "https://localhost:8080/",
          "height": 34
        },
        "outputId": "3b140090-9f27-4056-e9af-efa4e3e5f26b"
      },
      "source": [
        "list(filter(lambda person: 24 <= person.age and 'B' in person.name, people))"
      ],
      "execution_count": null,
      "outputs": [
        {
          "output_type": "execute_result",
          "data": {
            "text/plain": [
              "[Person(name='Bennett', age=60)]"
            ]
          },
          "metadata": {
            "tags": []
          },
          "execution_count": 28
        }
      ]
    },
    {
      "cell_type": "markdown",
      "metadata": {
        "id": "Eakw0iOv3NrL"
      },
      "source": [
        "## [`map`](https://docs.python.org/3/library/functions.html#map)\n",
        "\n",
        "Map's signature:\n",
        "\n",
        "    map(function, iterable, ...)\n"
      ]
    },
    {
      "cell_type": "code",
      "metadata": {
        "id": "VYX0EX__3eOf",
        "colab": {
          "base_uri": "https://localhost:8080/",
          "height": 34
        },
        "outputId": "a594ff03-d840-43b7-a5e2-ff8754452fdd"
      },
      "source": [
        "list(map(lambda person: f\"{person.name} Goldberg\", people))"
      ],
      "execution_count": null,
      "outputs": [
        {
          "output_type": "execute_result",
          "data": {
            "text/plain": [
              "['Ruby Goldberg', 'Amelia Goldberg', 'Bennett Goldberg']"
            ]
          },
          "metadata": {
            "tags": []
          },
          "execution_count": 29
        }
      ]
    },
    {
      "cell_type": "code",
      "metadata": {
        "id": "n8ndIoa03lOS",
        "colab": {
          "base_uri": "https://localhost:8080/",
          "height": 34
        },
        "outputId": "431d3c1d-a039-43b9-ced0-eed9bb95baa6"
      },
      "source": [
        "list(map(lambda person, num: (num+1, f\"{person.name} Goldberg\"), people, range(len(people))))"
      ],
      "execution_count": null,
      "outputs": [
        {
          "output_type": "execute_result",
          "data": {
            "text/plain": [
              "[(1, 'Ruby Goldberg'), (2, 'Amelia Goldberg'), (3, 'Bennett Goldberg')]"
            ]
          },
          "metadata": {
            "tags": []
          },
          "execution_count": 30
        }
      ]
    },
    {
      "cell_type": "markdown",
      "metadata": {
        "id": "J3vwYfYo39u7"
      },
      "source": [
        "## comprehensions\n",
        "\n",
        "[tutorial](https://docs.python.org/3/tutorial/datastructures.html), [Python language reference](https://docs.python.org/3/reference/expressions.html#displays-for-lists-sets-and-dictionaries). Are you comfortable reading the grammar in the language reference?"
      ]
    },
    {
      "cell_type": "code",
      "metadata": {
        "id": "47WKlm_a4UZi",
        "colab": {
          "base_uri": "https://localhost:8080/",
          "height": 87
        },
        "outputId": "c9ed8e3d-c259-4ca5-b4dc-37082876d49d"
      },
      "source": [
        "N_SQUARES = 6   # named constants are better than unnamed constants\n",
        "print(list(map(lambda x: x**2, range(N_SQUARES))))\n",
        "# list comprehensions\n",
        "print([x**2 for x in range(N_SQUARES)])\n",
        "# list of tuples\n",
        "print('(x, x**2):')\n",
        "[(x, x**2) for x in range(N_SQUARES)]"
      ],
      "execution_count": null,
      "outputs": [
        {
          "output_type": "stream",
          "text": [
            "[0, 1, 4, 9, 16, 25]\n",
            "[0, 1, 4, 9, 16, 25]\n",
            "(x, x**2):\n"
          ],
          "name": "stdout"
        },
        {
          "output_type": "execute_result",
          "data": {
            "text/plain": [
              "[(0, 0), (1, 1), (2, 4), (3, 9), (4, 16), (5, 25)]"
            ]
          },
          "metadata": {
            "tags": []
          },
          "execution_count": 31
        }
      ]
    },
    {
      "cell_type": "code",
      "metadata": {
        "id": "0zTbVYkd5idT",
        "colab": {
          "base_uri": "https://localhost:8080/",
          "height": 70
        },
        "outputId": "dd505af2-d432-4875-b893-8d9b40e3c23d"
      },
      "source": [
        "# nested for comprehensions with if clause\n",
        "N_INTS = 3\n",
        "print([(i, j) for i in range(N_INTS) for j in range(N_INTS) if i != j])\n",
        "\n",
        "# outer variables are available in inner loops\n",
        "print([f\"x={x}, y={y}\" for x in range(N_INTS) for y in range(x, x+N_INTS)])\n",
        "\n",
        "# and they don't leak into the containing scope\n",
        "x = None\n",
        "[x for x in range(N_INTS)]\n",
        "print(x)"
      ],
      "execution_count": null,
      "outputs": [
        {
          "output_type": "stream",
          "text": [
            "[(0, 1), (0, 2), (1, 0), (1, 2), (2, 0), (2, 1)]\n",
            "['x=0, y=0', 'x=0, y=1', 'x=0, y=2', 'x=1, y=1', 'x=1, y=2', 'x=1, y=3', 'x=2, y=2', 'x=2, y=3', 'x=2, y=4']\n",
            "None\n"
          ],
          "name": "stdout"
        }
      ]
    },
    {
      "cell_type": "markdown",
      "metadata": {
        "id": "2NOHw-n-6PhV"
      },
      "source": [
        "Comprehensions can make sets, too."
      ]
    },
    {
      "cell_type": "code",
      "metadata": {
        "id": "lXniOIhL6VUx",
        "colab": {
          "base_uri": "https://localhost:8080/",
          "height": 34
        },
        "outputId": "0bab2aed-974f-4261-b419-f086929d5ea6"
      },
      "source": [
        "{x*x for x in range(N_INTS)}"
      ],
      "execution_count": null,
      "outputs": [
        {
          "output_type": "execute_result",
          "data": {
            "text/plain": [
              "{0, 1, 4}"
            ]
          },
          "metadata": {
            "tags": []
          },
          "execution_count": 33
        }
      ]
    },
    {
      "cell_type": "markdown",
      "metadata": {
        "id": "Q15gNS896fI5"
      },
      "source": [
        "And comprehensions can make dictionaries."
      ]
    },
    {
      "cell_type": "code",
      "metadata": {
        "id": "11-oiGlp6oro",
        "colab": {
          "base_uri": "https://localhost:8080/",
          "height": 52
        },
        "outputId": "36e0cf24-4f65-4939-b47f-ebe99a2b2e10"
      },
      "source": [
        "# a hard way\n",
        "eg = dict(zip(range(N_SQUARES), [x**2 for x in range(N_SQUARES)]))\n",
        "print(eg)\n",
        "# a comprehension\n",
        "{x: x**2 for x in range(N_SQUARES)}"
      ],
      "execution_count": null,
      "outputs": [
        {
          "output_type": "stream",
          "text": [
            "{0: 0, 1: 1, 2: 4, 3: 9, 4: 16, 5: 25}\n"
          ],
          "name": "stdout"
        },
        {
          "output_type": "execute_result",
          "data": {
            "text/plain": [
              "{0: 0, 1: 1, 2: 4, 3: 9, 4: 16, 5: 25}"
            ]
          },
          "metadata": {
            "tags": []
          },
          "execution_count": 34
        }
      ]
    }
  ]
}