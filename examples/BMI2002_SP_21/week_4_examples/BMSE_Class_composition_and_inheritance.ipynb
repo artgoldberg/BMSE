{
  "nbformat": 4,
  "nbformat_minor": 0,
  "metadata": {
    "kernelspec": {
      "display_name": "Python 3",
      "language": "python",
      "name": "python3"
    },
    "language_info": {
      "codemirror_mode": {
        "name": "ipython",
        "version": 3
      },
      "file_extension": ".py",
      "mimetype": "text/x-python",
      "name": "python",
      "nbconvert_exporter": "python",
      "pygments_lexer": "ipython3",
      "version": "3.6.5"
    },
    "colab": {
      "name": "BMSE Class composition and inheritance.ipynb",
      "provenance": [],
      "collapsed_sections": []
    }
  },
  "cells": [
    {
      "cell_type": "markdown",
      "metadata": {
        "id": "BoNbryFGmhpU"
      },
      "source": [
        "**Biomedical Software Engineering**\n",
        "\n",
        "**Prof. Arthur Goldberg**\n",
        "\n",
        "**Dept. Genetics and Genomic Sciences**\n",
        "\n",
        "**Spring 1, 2021**\n",
        "\n",
        "# Class composition and inheritance in Python\n",
        "\n",
        "## Composition"
      ]
    },
    {
      "cell_type": "code",
      "metadata": {
        "id": "YgRcncfTmhpW",
        "colab": {
          "base_uri": "https://localhost:8080/"
        },
        "outputId": "359f7e6b-3a3b-43a4-91bd-dd98bd56f9d1"
      },
      "source": [
        "# composition of sexes, subjects and samples\n",
        "import enum\n",
        "\n",
        "class Sex(enum.Enum):\n",
        "    # see https://docs.python.org/3/library/enum.html#using-automatic-values\n",
        "    female = enum.auto()\n",
        "    male = enum.auto()\n",
        "    transgender_male = enum.auto()\n",
        "    transgender_female = enum.auto()\n",
        "    non_binary = enum.auto()\n",
        "    unknown = enum.auto()\n",
        "\n",
        "class Subject(object):\n",
        "    \"\"\"An individual human in a study\"\"\"\n",
        "    def __init__(self, id, gender):\n",
        "        self.id = id\n",
        "        self.gender = gender\n",
        "\n",
        "    def __str__(self):\n",
        "        # not the use of f-string; they're very handy\n",
        "        return f\"id: {self.id}; gender: {self.gender.name}\"\n",
        "\n",
        "subject_1 = Subject(23, Sex.female)\n",
        "print(subject_1)"
      ],
      "execution_count": 12,
      "outputs": [
        {
          "output_type": "stream",
          "text": [
            "id: 23; gender: female\n"
          ],
          "name": "stdout"
        }
      ]
    },
    {
      "cell_type": "markdown",
      "metadata": {
        "id": "_v3u_ZPrQFR2"
      },
      "source": [
        "*Now* we create `class Sample`, which reuses `Subject` via composition."
      ]
    },
    {
      "cell_type": "code",
      "metadata": {
        "id": "Vp8QygCLPvgr",
        "colab": {
          "base_uri": "https://localhost:8080/"
        },
        "outputId": "f47ebf25-bde6-42f7-cf71-0b7d72b1c6e4"
      },
      "source": [
        "class Sample(object):\n",
        "    \"\"\"A set of subjects in a study\"\"\"\n",
        "    def __init__(self, name):\n",
        "        self.id = name\n",
        "        self.subjects = {}\n",
        "\n",
        "    def add(self, subject):\n",
        "        # todo: check that a subject with subject.id is not already in this Sample\n",
        "        self.subjects[subject.id] = subject\n",
        "        \n",
        "    def get(self, id):\n",
        "        # todo: useful error if subject not in this Sample\n",
        "        return self.subjects[id]\n",
        "        \n",
        "    def count(self):\n",
        "        \"\"\"Number of subjects\"\"\"\n",
        "        return len(self.subjects)\n",
        "\n",
        "subject_2 = Subject(78, Sex.male)\n",
        "sample = Sample('example_sample')\n",
        "print('sample.count():', sample.count())\n",
        "sample.add(subject_1)\n",
        "sample.add(subject_2)\n",
        "print('sample.count():', sample.count())\n",
        "print('sample.get(78)', sample.get(78))"
      ],
      "execution_count": 13,
      "outputs": [
        {
          "output_type": "stream",
          "text": [
            "sample.count(): 0\n",
            "sample.count(): 2\n",
            "sample.get(78) id: 78; gender: male\n"
          ],
          "name": "stdout"
        }
      ]
    },
    {
      "cell_type": "markdown",
      "metadata": {
        "id": "y0M0qhlAmhpe"
      },
      "source": [
        "## Inheritance, and its benefits\n",
        "Inheritance reuses existing class(es). It enables hierarchical refinement and extension.\n",
        "\n",
        "The existing classes that are reused are the *base* or *superclass* classes, and the new class is the *derived* or *subclass* class. An instance of a dervied class can access the attributes (data and methods) of its base classes. It may also override them. The [`super()`](https://docs.python.org/3/library/functions.html#super) function accesses methods and attributes in the base classes.\n",
        "\n",
        "All classes inherit from Python's built-in `object` class, the root of the class derivation DAG."
      ]
    },
    {
      "cell_type": "code",
      "metadata": {
        "id": "K_Y-U5Ffmhpg",
        "colab": {
          "base_uri": "https://localhost:8080/"
        },
        "outputId": "7516ba01-d6a6-4855-a6a3-ce0e6f952572"
      },
      "source": [
        "class Error(Exception):\n",
        "    \"\"\" Base class for exceptions in this simulator package\n",
        "\n",
        "    Attributes:\n",
        "        message (:obj:`str`): the exception's message\n",
        "    \"\"\"\n",
        "    def __init__(self, message=None):\n",
        "        super().__init__(message)\n",
        "\n",
        "# SimulatorError is derived from Error which is derived from Exception, a Python convention\n",
        "class SimulatorError(Error):\n",
        "    \"\"\" Exception raised for errors in this simulator package\n",
        "\n",
        "    Attributes:\n",
        "        message (:obj:`str`): the exception's message\n",
        "    \"\"\"\n",
        "    def __init__(self, message=None):\n",
        "        super().__init__(message)\n",
        "\n",
        "TEST_MSG = 'short message'\n",
        "simulator_error = SimulatorError(TEST_MSG)\n",
        "print(simulator_error)\n",
        "\n",
        "print('\\nillustrate the class inheritance hierarchy')\n",
        "for cls in [object, Error, SimulatorError, float]:\n",
        "    print(\"SimulatorError is a subclass of {}: {}\".format(cls.__name__,\n",
        "          issubclass(SimulatorError, cls)))\n",
        "\n",
        "print('\\nillustrate the instance inheritance hierarchy')\n",
        "for cls in [object, Error, SimulatorError, float]:\n",
        "    print(\"simulator_error is an instance of {}: {}\".format(cls.__name__,\n",
        "          isinstance(simulator_error, cls)))"
      ],
      "execution_count": 14,
      "outputs": [
        {
          "output_type": "stream",
          "text": [
            "short message\n",
            "\n",
            "illustrate the class inheritance hierarchy\n",
            "SimulatorError is a subclass of object: True\n",
            "SimulatorError is a subclass of Error: True\n",
            "SimulatorError is a subclass of SimulatorError: True\n",
            "SimulatorError is a subclass of float: False\n",
            "\n",
            "illustrate the instance inheritance hierarchy\n",
            "simulator_error is an instance of object: True\n",
            "simulator_error is an instance of Error: True\n",
            "simulator_error is an instance of SimulatorError: True\n",
            "simulator_error is an instance of float: False\n"
          ],
          "name": "stdout"
        }
      ]
    },
    {
      "cell_type": "markdown",
      "metadata": {
        "id": "6_9bggfeT9d9"
      },
      "source": [
        "<font color='green'>Now that we have inheritance, how might we use it to define `class Sample` above?</font>"
      ]
    },
    {
      "cell_type": "markdown",
      "metadata": {
        "id": "TNM1Gg5-mhpr"
      },
      "source": [
        "### Abstract base classes\n",
        "Python [abstract base classes](https://docs.python.org/3/library/abc.html) (ABCs) are classes used to define properties shared by multiple subclasses (see [tutorial](https://pymotw.com/3/abc/)). ABCs achieve this by serving as shared nodes in the inheritance DAG:"
      ]
    },
    {
      "cell_type": "code",
      "metadata": {
        "id": "gY9mqV79LJc4",
        "colab": {
          "base_uri": "https://localhost:8080/",
          "height": 198
        },
        "outputId": "3b61a0d6-097d-4c86-a355-7383e27060f0"
      },
      "source": [
        "from abc import ABC\n",
        "\n",
        "class MyABC(ABC): pass\n",
        "\n",
        "class MyClass(MyABC): pass\n",
        "\n",
        "assert issubclass(MyClass, MyABC)\n",
        "assert isinstance(MyClass(), MyABC)\n",
        "\n",
        "# an int is not a subclass of MyABC, of course\n",
        "assert isinstance(3, MyABC)"
      ],
      "execution_count": 15,
      "outputs": [
        {
          "output_type": "error",
          "ename": "AssertionError",
          "evalue": "ignored",
          "traceback": [
            "\u001b[0;31m---------------------------------------------------------------------------\u001b[0m",
            "\u001b[0;31mAssertionError\u001b[0m                            Traceback (most recent call last)",
            "\u001b[0;32m<ipython-input-15-8e92354a274b>\u001b[0m in \u001b[0;36m<module>\u001b[0;34m()\u001b[0m\n\u001b[1;32m      9\u001b[0m \u001b[0;34m\u001b[0m\u001b[0m\n\u001b[1;32m     10\u001b[0m \u001b[0;31m# an int is not a subclass of MyABC, of course\u001b[0m\u001b[0;34m\u001b[0m\u001b[0;34m\u001b[0m\u001b[0;34m\u001b[0m\u001b[0m\n\u001b[0;32m---> 11\u001b[0;31m \u001b[0;32massert\u001b[0m \u001b[0misinstance\u001b[0m\u001b[0;34m(\u001b[0m\u001b[0;36m3\u001b[0m\u001b[0;34m,\u001b[0m \u001b[0mMyABC\u001b[0m\u001b[0;34m)\u001b[0m\u001b[0;34m\u001b[0m\u001b[0;34m\u001b[0m\u001b[0m\n\u001b[0m",
            "\u001b[0;31mAssertionError\u001b[0m: "
          ]
        }
      ]
    },
    {
      "cell_type": "markdown",
      "metadata": {
        "id": "eBFAVgUdMiaO"
      },
      "source": [
        "An ABC defines a partially enforced interface. An ABC that defines a set of methods, but not their bodies, forces subclasses to implement the methods.\n",
        "\n",
        "ABCs cannot be instantiated themselves. Instead, they're used as superclasses of subclasses that can be instantiated."
      ]
    },
    {
      "cell_type": "code",
      "metadata": {
        "id": "qAgE3AAgDQVv",
        "colab": {
          "base_uri": "https://localhost:8080/"
        },
        "outputId": "4aeaf7af-227b-4036-b5ac-6bd56e0fc649"
      },
      "source": [
        "from abc import ABC, abstractmethod\n",
        "\n",
        "class C(ABC):\n",
        "    # @abstractmethod decorates abstract methods\n",
        "    @abstractmethod\n",
        "    def my_abstract_method(self, arg1): pass\n",
        "\n",
        "    @classmethod\n",
        "    @abstractmethod\n",
        "    def my_abstract_classmethod(cls): pass\n",
        "\n",
        "    @staticmethod\n",
        "    @abstractmethod\n",
        "    def my_abstract_staticmethod(arg2): pass\n",
        "\n",
        "class D(C):\n",
        "    CONSTANT = 37\n",
        "    def __init__(self, data):\n",
        "        self.data = data\n",
        "    def my_abstract_method(self, arg1):\n",
        "        print(self.data, arg1)\n",
        "    @classmethod\n",
        "    def my_abstract_classmethod(cls):\n",
        "        print('CONSTANT =', cls.CONSTANT)\n",
        "\n",
        "    @staticmethod\n",
        "    def my_abstract_staticmethod(arg3):\n",
        "        print('all i know is', arg3)\n",
        "\n",
        "d = D('my name')\n",
        "d.my_abstract_method('is mud')\n",
        "d.my_abstract_classmethod()\n",
        "d.my_abstract_staticmethod(38)"
      ],
      "execution_count": 16,
      "outputs": [
        {
          "output_type": "stream",
          "text": [
            "my name is mud\n",
            "CONSTANT = 37\n",
            "all i know is 38\n"
          ],
          "name": "stdout"
        }
      ]
    },
    {
      "cell_type": "markdown",
      "metadata": {
        "id": "W8kAADdeF0fT"
      },
      "source": [
        "Subclasses of an ABC must implement the ABC's methods."
      ]
    },
    {
      "cell_type": "code",
      "metadata": {
        "id": "79d755xnF5_O",
        "colab": {
          "base_uri": "https://localhost:8080/",
          "height": 198
        },
        "outputId": "f0c6b6bb-e401-47ec-a2a4-c585f9f9da4b"
      },
      "source": [
        "class Bad(C):\n",
        "\n",
        "    def __init__(self, data):\n",
        "        self.data = data\n",
        "\n",
        "    def my_abstract_method(self, arg1):\n",
        "        print(self.data, arg1)\n",
        "\n",
        "    @classmethod\n",
        "    def my_abstract_classmethod(cls):\n",
        "        pass\n",
        "\n",
        "Bad(1)"
      ],
      "execution_count": 17,
      "outputs": [
        {
          "output_type": "error",
          "ename": "TypeError",
          "evalue": "ignored",
          "traceback": [
            "\u001b[0;31m---------------------------------------------------------------------------\u001b[0m",
            "\u001b[0;31mTypeError\u001b[0m                                 Traceback (most recent call last)",
            "\u001b[0;32m<ipython-input-17-a14e444e5731>\u001b[0m in \u001b[0;36m<module>\u001b[0;34m()\u001b[0m\n\u001b[1;32m     11\u001b[0m         \u001b[0;32mpass\u001b[0m\u001b[0;34m\u001b[0m\u001b[0;34m\u001b[0m\u001b[0m\n\u001b[1;32m     12\u001b[0m \u001b[0;34m\u001b[0m\u001b[0m\n\u001b[0;32m---> 13\u001b[0;31m \u001b[0mBad\u001b[0m\u001b[0;34m(\u001b[0m\u001b[0;36m1\u001b[0m\u001b[0;34m)\u001b[0m\u001b[0;34m\u001b[0m\u001b[0;34m\u001b[0m\u001b[0m\n\u001b[0m",
            "\u001b[0;31mTypeError\u001b[0m: Can't instantiate abstract class Bad with abstract methods my_abstract_staticmethod"
          ]
        }
      ]
    },
    {
      "cell_type": "markdown",
      "metadata": {
        "id": "Tw5fGExPO5KG"
      },
      "source": [
        "But adherence to method signatures is optional."
      ]
    },
    {
      "cell_type": "code",
      "metadata": {
        "id": "xPSXa21mO-4R",
        "colab": {
          "base_uri": "https://localhost:8080/"
        },
        "outputId": "316f91aa-57ef-4f8b-f8d1-e1b96121a925"
      },
      "source": [
        "class OK(C):\n",
        "\n",
        "    def __init__(self, data):\n",
        "        self.data = data\n",
        "\n",
        "    # note the extra argument\n",
        "    def my_abstract_method(self, arg1, extra_arg):\n",
        "        print(self.data, arg1)\n",
        "\n",
        "    @classmethod\n",
        "    def my_abstract_classmethod(cls): pass\n",
        "\n",
        "    @staticmethod\n",
        "    def my_abstract_staticmethod(arg3): pass\n",
        "\n",
        "ok = OK(1)\n",
        "ok.my_abstract_method(2, 3)"
      ],
      "execution_count": 18,
      "outputs": [
        {
          "output_type": "stream",
          "text": [
            "1 2\n"
          ],
          "name": "stdout"
        }
      ]
    },
    {
      "cell_type": "markdown",
      "metadata": {
        "id": "4Lmb9hh2OMAo"
      },
      "source": [
        "ABCs are used by Python to define `Sequence`, `MutableSequence`, and the numeric types hierarchy (see [PEP 3141](https://www.python.org/dev/peps/pep-3141))."
      ]
    }
  ]
}