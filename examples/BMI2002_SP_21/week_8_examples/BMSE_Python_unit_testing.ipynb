{
  "nbformat": 4,
  "nbformat_minor": 0,
  "metadata": {
    "colab": {
      "name": "BMSE Python unit testing.ipynb",
      "provenance": [],
      "collapsed_sections": []
    },
    "kernelspec": {
      "name": "python3",
      "display_name": "Python 3"
    }
  },
  "cells": [
    {
      "cell_type": "markdown",
      "metadata": {
        "id": "JKb2bnEhEAl9",
        "colab_type": "text"
      },
      "source": [
        "**Biomedical Software Engineering**\n",
        "\n",
        "**Prof. Arthur Goldberg**\n",
        "\n",
        "**Dept. Genetics and Genomic Sciences**\n",
        "\n",
        "**Spring 1, 2020**\n",
        "\n",
        "# Python unit testing"
      ]
    },
    {
      "cell_type": "code",
      "metadata": {
        "id": "-O0LiRyMDiJa",
        "colab_type": "code",
        "outputId": "98533373-7786-449d-cec6-feae0e809632",
        "colab": {
          "base_uri": "https://localhost:8080/",
          "height": 51
        }
      },
      "source": [
        "import sys\n",
        "print(sys.version)"
      ],
      "execution_count": 0,
      "outputs": [
        {
          "output_type": "stream",
          "text": [
            "3.6.9 (default, Nov  7 2019, 10:44:02) \n",
            "[GCC 8.3.0]\n"
          ],
          "name": "stdout"
        }
      ]
    },
    {
      "cell_type": "markdown",
      "metadata": {
        "id": "2OGlX74NEdNR",
        "colab_type": "text"
      },
      "source": [
        "## Basics of unittest"
      ]
    },
    {
      "cell_type": "markdown",
      "metadata": {
        "id": "XlptQXYNHPj7",
        "colab_type": "text"
      },
      "source": [
        "### Exceptions"
      ]
    },
    {
      "cell_type": "code",
      "metadata": {
        "id": "6qjtUVa2GDLl",
        "colab_type": "code",
        "colab": {}
      },
      "source": [
        "class Error(Exception):\n",
        "    \"\"\" Base class for exceptions in this module\n",
        "    \"\"\"\n",
        "    pass\n",
        "\n",
        "class PersonError(Error):\n",
        "    \"\"\" Exception raised for errors in this module\n",
        "\n",
        "    Attributes:\n",
        "        message -- explanation of the error\n",
        "    \"\"\"\n",
        "    def __init__(self, message):\n",
        "        self.message = message"
      ],
      "execution_count": 0,
      "outputs": []
    },
    {
      "cell_type": "markdown",
      "metadata": {
        "id": "akeqNDmZIUmw",
        "colab_type": "text"
      },
      "source": [
        "### Code to test\n",
        "Let's test a class that represents male or female gender. (Lines have been compressed to fit more on a screen.)"
      ]
    },
    {
      "cell_type": "code",
      "metadata": {
        "id": "PBL9_R0HEpp8",
        "colab_type": "code",
        "colab": {}
      },
      "source": [
        "class Gender(object):\n",
        "    \"\"\" Gender for a person \"\"\"\n",
        "    # TODO: incorporate other genders\n",
        "    MALE = 'M'\n",
        "    FEMALE = 'F'\n",
        "    UNKNOWN = 'unknown'\n",
        "    def __init__(self):\n",
        "        # '1' and '2' map to male and female in PED files\n",
        "        self.gender_map = {\n",
        "            self.MALE: set(['male', 'm', '1']),\n",
        "            self.FEMALE: set(['female', 'f', '2']),\n",
        "            self.UNKNOWN: set(['unknown', 'na', 'not specified', '-9', '0'])}\n",
        "\n",
        "    def get_gender(self, gender):\n",
        "        \"\"\" Convert a string into a gender constant\n",
        "        Args:\n",
        "             gender (:obj:`str`): a gender value\n",
        "        Returns:\n",
        "            :obj:`str`: a reference gender value, stored in a constant value in this class\n",
        "        Raises:\n",
        "            :obj:`PersonError`: if `gender` does not map to a reference gender value\n",
        "        \"\"\"\n",
        "        for gender_constant, synonyms in self.gender_map.items():\n",
        "            if gender.lower() in synonyms:\n",
        "                return gender_constant\n",
        "        raise PersonError(f\"Illegal gender '{gender}'\")\n",
        "\n",
        "    def genders_string_mappings(self):\n",
        "        \"\"\" Report the mappings from strings to gender constants\n",
        "        Returns:\n",
        "            :obj:`str`: a description of the mappings from strings to gender constants\n",
        "        \"\"\"\n",
        "        rv = \"Legal genders, which are case insensitive, map to gender constants:\\n\"\n",
        "        for gender_constant,synonyms in self.gender_map.items():\n",
        "            rv += \"{} -> '{}'\\n\".format(synonyms, gender_constant)\n",
        "        return rv\n"
      ],
      "execution_count": 0,
      "outputs": []
    },
    {
      "cell_type": "markdown",
      "metadata": {
        "id": "qD7HCQ31JZLb",
        "colab_type": "text"
      },
      "source": [
        "### Test `Genders`"
      ]
    },
    {
      "cell_type": "code",
      "metadata": {
        "id": "-UhFLrdyJ-_H",
        "colab_type": "code",
        "outputId": "c6c44959-cc15-408a-d35f-9882ad566c45",
        "colab": {
          "base_uri": "https://localhost:8080/",
          "height": 102
        }
      },
      "source": [
        "import unittest\n",
        "# outside Jupyter will need to import the code being tested\n",
        "# from answer_person import Person, Gender, PersonError\n",
        "\n",
        "# Tests are written in subclasses of TestCase\n",
        "class TestGender(unittest.TestCase):\n",
        "\n",
        "    # each individual test is a function that starts with 'test'\n",
        "    def test_gender(self):\n",
        "        # self.assertEqual(actual, expected) checks that actual == expected\n",
        "        self.assertEqual(Gender().get_gender('Male'), Gender.MALE)\n",
        "        self.assertEqual(Gender().get_gender('female'), Gender.FEMALE)\n",
        "        self.assertEqual(Gender().get_gender('FEMALE'), Gender.FEMALE)\n",
        "        self.assertEqual(Gender().get_gender('NA'), Gender.UNKNOWN)\n",
        "        # test numeric representations\n",
        "        self.assertEqual(Gender().get_gender('1'), Gender.MALE)\n",
        "        self.assertEqual(Gender().get_gender('2'), Gender.FEMALE)\n",
        "        self.assertEqual(Gender().get_gender('0'), Gender.UNKNOWN)\n",
        "        self.assertEqual(Gender().get_gender('-9'), Gender.UNKNOWN)\n",
        "\n",
        "        # self.assertRaises checks that an exception is raised\n",
        "        with self.assertRaises(PersonError):\n",
        "          Gender().get_gender('not a gender')\n",
        "\n",
        "        # assertRaisesRegex also checks the content of the exception\n",
        "        with self.assertRaisesRegex(PersonError, \"Illegal gender\"):\n",
        "          Gender().get_gender('not a gender')\n",
        "\n",
        "        # assertRegex(actual, pattern) checks that pattern.search(actual) holds\n",
        "        self.assertRegex(Gender().genders_string_mappings(), \"'f'.* -> 'F'\")\n",
        "\n",
        "# code to run a unittest in Jupyter\n",
        "def run_test_class(cls):\n",
        "  suite = unittest.TestLoader().loadTestsFromModule(cls)\n",
        "  unittest.TextTestRunner().run(suite)\n",
        "\n",
        "run_test_class(TestGender())"
      ],
      "execution_count": 0,
      "outputs": [
        {
          "output_type": "stream",
          "text": [
            ".\n",
            "----------------------------------------------------------------------\n",
            "Ran 1 test in 0.002s\n",
            "\n",
            "OK\n"
          ],
          "name": "stderr"
        }
      ]
    },
    {
      "cell_type": "markdown",
      "metadata": {
        "id": "vjrD0MTUPb7f",
        "colab_type": "text"
      },
      "source": [
        "### Many other assert functions are available:\n",
        "\n",
        "<img src=\"https://drive.google.com/uc?id=1j6i6o5WKZp-MSiKzSyhNTOkLtRCa2vJi\" width=\"500px\"/>\n",
        "\n",
        "Let's try a few.\n",
        "\n",
        "\n"
      ]
    },
    {
      "cell_type": "code",
      "metadata": {
        "id": "keya7xLkWCHF",
        "colab_type": "code",
        "colab": {}
      },
      "source": [
        "# Here's a Person class\n",
        "class Person(object):\n",
        "    \"\"\" Person\n",
        "\n",
        "    Attributes:\n",
        "        name (:obj:`str`): a person's name\n",
        "        gender (:obj:`str`): a person's gender, which must be an attribute of `Gender`\n",
        "        mother (:obj:`Person`): a person's mother\n",
        "        father (:obj:`Person`): a person's father\n",
        "        children (:obj:`set` of `Person`): a person's children\n",
        "    \"\"\"\n",
        "\n",
        "    def __init__(self, name, gender, mother=None, father=None):\n",
        "        \"\"\" Create a Person instance\n",
        "\n",
        "        Create a Person instance. This is used by the expression Person().\n",
        "        The parameters name and gender are required, while other parameters are optional.\n",
        "\n",
        "        Args:\n",
        "             name (:obj:`str`): the person's name\n",
        "             gender (:obj:`str`): the person's gender\n",
        "             mother (:obj:`Person`, optional): the person's mother\n",
        "             father (:obj:`Person`, optional): the person's father\n",
        "\n",
        "        Raises:\n",
        "            :obj:`PersonError`: if `gender` does not map to a reference gender value\n",
        "        \"\"\"\n",
        "        self.name = name\n",
        "        self.gender = Gender().get_gender(gender)\n",
        "        self.mother = mother\n",
        "        self.father = father\n",
        "        self.children = set()\n",
        "\n",
        "    def __repr__(self):\n",
        "        \"\"\" Provide a string representation of this person\"\"\"\n",
        "        return \"<Person at {}: name: {}; gender: {}>\".format(\n",
        "            str(id(self)),\n",
        "            self.name,\n",
        "            self.gender\n",
        "            )\n",
        "\n",
        "    def __str__(self):\n",
        "        '''A representation of a Person object'''\n",
        "        return self.__repr__()\n",
        "\n",
        "    @staticmethod\n",
        "    def get_persons_name(person):\n",
        "        \"\"\" Get a person's name; if the person is not known, return 'NA'\n",
        "\n",
        "        Returns:\n",
        "            :obj:`str`: the person's name, or 'NA' if they're not known\n",
        "        \"\"\"\n",
        "        if person is None:\n",
        "            return 'NA'\n",
        "        return person.name\n",
        "\n",
        "    def set_mother(self, mother):\n",
        "        \"\"\" Set the mother of this person\n",
        "\n",
        "        Args:\n",
        "             mother (:obj:`Person`): this person's mother\n",
        "\n",
        "        Raises:\n",
        "            :obj:`PersonError`: if `mother` is not female, or if a cycle in the ancestors\n",
        "            graph would be created\n",
        "        \"\"\"\n",
        "        if mother.gender != Gender.FEMALE:\n",
        "            raise PersonError(\"mother named '{}' is not female\".format(mother.name))\n",
        "        mother.children.add(self)\n",
        "        self.mother = mother\n",
        "\n",
        "    def set_father(self, father):\n",
        "        \"\"\" Set the father of this person\n",
        "\n",
        "        Args:\n",
        "             father (:obj:`Person`): this person's father\n",
        "\n",
        "        Raises:\n",
        "            :obj:`PersonError`: if `father` is not male, or if a cycle in the ancestors\n",
        "            graph would be created\n",
        "        \"\"\"\n",
        "        if father.gender != Gender.MALE:\n",
        "            raise PersonError(\"father named '{}' is not male\".format(father.name))\n",
        "        father.children.add(self)\n",
        "        self.father = father\n",
        "\n",
        "    def add_child(self, child):\n",
        "        \"\"\" Add a child to this person's children, and set this person as the child's father or mother\n",
        "\n",
        "        Args:\n",
        "             child (:obj:`Person`): a child of `self`\n",
        "\n",
        "        Raises:\n",
        "            :obj:`PersonError`: if this person does not have a known gender, or if a cycle in the\n",
        "            ancestors graph would be created\n",
        "        \"\"\"\n",
        "        if self.gender not in [Gender.FEMALE, Gender.MALE]:\n",
        "            raise PersonError(\"cannot add child to person named '{}' with unknown gender\".format(\n",
        "                self.name))\n",
        "        if child in self.all_ancestors():\n",
        "            raise PersonError(\"making '{}' a child of '{}', would create ancestor cycle\".format(\n",
        "                child.name, self.name))\n",
        "        if self.gender == Gender.FEMALE:\n",
        "            child.set_mother(self)\n",
        "        if self.gender == Gender.MALE:\n",
        "            child.set_father(self)\n",
        "\n",
        "    def remove_father(self):\n",
        "        \"\"\" Remove this person's father\n",
        "\n",
        "        Raises:\n",
        "            :obj:`PersonError`: if this person does not have a father or this person is not one\n",
        "            of their father's children\n",
        "        \"\"\"\n",
        "        if not isinstance(self.father, Person):\n",
        "            raise PersonError(\"cannot remove father of '{}', as it is not set\".format(self.name))\n",
        "        if not self in self.father.children:\n",
        "            raise PersonError(\"cannot remove father of '{}', not one of his children\".format(self.name))\n",
        "        self.father.children.remove(self)\n",
        "        self.father = None\n",
        "\n",
        "    def remove_mother(self):\n",
        "        \"\"\" Remove this person's mother\n",
        "\n",
        "        Raises:\n",
        "            :obj:`PersonError`: if this person does not have a mother or this person is not one\n",
        "            of their mother's children\n",
        "        \"\"\"\n",
        "        if not isinstance(self.mother, Person):\n",
        "            raise PersonError(\"mother of '{}' is not set and cannot be removed\".format(self.name))\n",
        "        if not self in self.mother.children:\n",
        "            raise PersonError(\"cannot remove mother of '{}', not one of her children\".format(self.name))\n",
        "        self.mother.children.remove(self)\n",
        "        self.mother = None\n",
        "\n",
        "    def ancestors(self, min_depth, max_depth=None):\n",
        "        \"\"\" Return this person's ancestors within a generational depth range\n",
        "\n",
        "        Obtain ancestors whose generational depth satisfies `min_depth` <= depth <= `max_depth`. E.g.,\n",
        "        a person's parents would be obtained with `min_depth` = 1, and this person's parents and\n",
        "        grandparents would be obtained with `min_depth` = 1 and `max_depth` = 2.\n",
        "\n",
        "        Args:\n",
        "            min_depth (:obj:`int`): the minimum depth of ancestors which should be provided;\n",
        "                this person's depth is 0, their parents' depth is 1, etc.\n",
        "            max_depth (:obj:`int`, optional): the minimum depth of ancestors which should be\n",
        "                provided; if `max_depth` is not provided, then `max_depth` == `min_depth` so that only\n",
        "                ancestors at depth == `min_depth` will be provided; a `max_depth` of infinity will obtain\n",
        "                all ancestors at depth >= `min_depth`.\n",
        "\n",
        "        Returns:\n",
        "            :obj:`set` of `Person`: this person's ancestors\n",
        "\n",
        "        Raises:\n",
        "            :obj:`PersonError`: if `max_depth` < `min_depth`\n",
        "        \"\"\"\n",
        "        if max_depth is not None:\n",
        "            if max_depth < min_depth:\n",
        "                    raise PersonError(\"max_depth ({}) cannot be less than min_depth ({})\".format(\n",
        "                        max_depth, min_depth))\n",
        "        else:\n",
        "            # collect just one depth\n",
        "            max_depth = min_depth\n",
        "        collected_ancestors = set()\n",
        "        return self._ancestors(collected_ancestors, min_depth, max_depth)\n",
        "\n",
        "    def _ancestors(self, collected_ancestors, min_depth, max_depth):\n",
        "        \"\"\" Obtain this person's ancestors who lie within the generational depth [min_depth, max_depth]\n",
        "\n",
        "        This is a private, recursive method that recurses through the ancestry via parent references.\n",
        "\n",
        "        Args:\n",
        "            collected_ancestors (:obj:`set`): ancestors collected thus far by this method\n",
        "            min_depth (:obj:`int`): see `ancestors()`\n",
        "            max_depth (:obj:`int`): see `ancestors()`\n",
        "\n",
        "        Returns:\n",
        "            :obj:`set` of `Person`: this person's ancestors\n",
        "\n",
        "        Raises:\n",
        "            :obj:`PersonError`: if `max_depth` < `min_depth`\n",
        "        \"\"\"\n",
        "        if min_depth <= 0:\n",
        "            collected_ancestors.add(self)\n",
        "        if 0 < max_depth:\n",
        "            for parent in [self.mother, self.father]:\n",
        "                if parent is not None:\n",
        "                    parent._ancestors(collected_ancestors, min_depth-1, max_depth-1)\n",
        "        return collected_ancestors\n",
        "\n",
        "    def parents(self):\n",
        "        ''' Provide this person's parents\n",
        "\n",
        "        Returns:\n",
        "            :obj:`set`: this person's known parents\n",
        "        '''\n",
        "        return self.ancestors(1)\n",
        "\n",
        "    def grandparents(self):\n",
        "        ''' Provide this person's known grandparents, by using ancestors()\n",
        "\n",
        "        Returns:\n",
        "            :obj:`set`: this person's known grandparents\n",
        "        '''\n",
        "        return self.ancestors(2)\n",
        "\n",
        "    def all_grandparents(self):\n",
        "        ''' Provide all of this person's known grandparents, from their parents' parents on back\n",
        "\n",
        "        Returns:\n",
        "            :obj:`set`: all of this person's known grandparents\n",
        "        '''\n",
        "        return self.ancestors(2, max_depth=float('inf'))\n",
        "\n",
        "    def all_ancestors(self):\n",
        "        ''' Provide all of this person's known ancestors\n",
        "\n",
        "        Returns:\n",
        "            :obj:`set`: all of this person's known ancestors\n",
        "        '''\n",
        "        return self.ancestors(1, max_depth=float('inf'))"
      ],
      "execution_count": 0,
      "outputs": []
    },
    {
      "cell_type": "markdown",
      "metadata": {
        "id": "_g1BjGgBYTbr",
        "colab_type": "text"
      },
      "source": [
        "### Test parts of it"
      ]
    },
    {
      "cell_type": "code",
      "metadata": {
        "id": "8FfTFoNDYXaY",
        "colab_type": "code",
        "outputId": "23b78cbe-170a-489e-c226-a333bf65e5d6",
        "colab": {
          "base_uri": "https://localhost:8080/",
          "height": 391
        }
      },
      "source": [
        "class TestPerson(unittest.TestCase):\n",
        "\n",
        "    # setUp runs before EACH individual test\n",
        "    def setUp(self):\n",
        "        # instance attributes set by setUp() are available to all individual tests\n",
        "        # create a few Persons\n",
        "        self.child = Person('kid', 'NA')\n",
        "        self.mom = Person('mom', 'f')\n",
        "        self.dad = Person('dad', 'm')\n",
        "\n",
        "    def test_set_mother(self):\n",
        "        # assertTrue(x) checks that bool(x) is True\n",
        "        self.assertTrue(self.mom.gender is Gender.FEMALE)\n",
        "\n",
        "        self.child.set_mother(self.mom)\n",
        "        self.assertEqual(self.child.mother, self.mom)\n",
        "        self.assertIn(self.child, self.mom.children)\n",
        "\n",
        "        # assertIsInstance(a, b) checks that isinstance(a, b) is True\n",
        "        self.assertIsInstance(self.child.mother, Person)\n",
        "\n",
        "        self.mom.gender = Gender.MALE\n",
        "        with self.assertRaises(PersonError):\n",
        "            self.child.set_mother(self.mom)\n",
        "\n",
        "    def test_add_child(self):\n",
        "        self.assertNotIn(self.child, self.mom.children)\n",
        "        self.mom.add_child(self.child)\n",
        "        self.assertEqual(self.child.mother, self.mom)\n",
        "        self.assertIn(self.child, self.mom.children)\n",
        "\n",
        "        self.assertNotIn(self.child, self.dad.children)\n",
        "        self.dad.add_child(self.child)\n",
        "        self.assertEqual(self.child.father, self.dad)\n",
        "        self.assertIn(self.child, self.dad.children)\n",
        "\n",
        "        # assertEqual can compare containers, like sets, lists, dictionaries, ...\n",
        "        self.assertEqual(self.mom.children, self.dad.children)\n",
        "        \n",
        "        list1 = 'we love Monty Python'.split()\n",
        "        self.assertEqual(list1, list1)\n",
        "        self.assertNotEqual(list1, sorted(list1))\n",
        "        self.assertEqual(list1, list1[:-1])\n",
        "\n",
        "run_test_class(TestPerson())"
      ],
      "execution_count": 0,
      "outputs": [
        {
          "output_type": "stream",
          "text": [
            "F.\n",
            "======================================================================\n",
            "FAIL: test_add_child (__main__.TestPerson)\n",
            "----------------------------------------------------------------------\n",
            "Traceback (most recent call last):\n",
            "  File \"<ipython-input-31-dc2e52138b2b>\", line 43, in test_add_child\n",
            "    self.assertEqual(list1, list1[:-1])\n",
            "AssertionError: Lists differ: ['we', 'love', 'Monty', 'Python'] != ['we', 'love', 'Monty']\n",
            "\n",
            "First list contains 1 additional elements.\n",
            "First extra element 3:\n",
            "'Python'\n",
            "\n",
            "- ['we', 'love', 'Monty', 'Python']\n",
            "?                       ----------\n",
            "\n",
            "+ ['we', 'love', 'Monty']\n",
            "\n",
            "----------------------------------------------------------------------\n",
            "Ran 2 tests in 0.003s\n",
            "\n",
            "FAILED (failures=1)\n"
          ],
          "name": "stderr"
        }
      ]
    },
    {
      "cell_type": "code",
      "metadata": {
        "id": "Y9pu3F0Pa62J",
        "colab_type": "code",
        "outputId": "5964bd2a-f844-41b7-9a2c-d37cbbfb3688",
        "colab": {
          "base_uri": "https://localhost:8080/",
          "height": 102
        }
      },
      "source": [
        "class TestPerson2(unittest.TestCase):\n",
        "\n",
        "    # setUp can do anything\n",
        "    def setUp(self):\n",
        "\n",
        "        # make a deep family history\n",
        "        self.generations = 4\n",
        "        self.people = people = []\n",
        "        self.root_child = Person('root_child', Gender.UNKNOWN)\n",
        "        people.append(self.root_child)\n",
        "\n",
        "        # add_parents() recursively creates ancestors back max_depth generations\n",
        "        def add_parents(child, depth, max_depth):\n",
        "            if depth+1 < max_depth:\n",
        "                dad = Person(child.name + '_dad', Gender.MALE)\n",
        "                mom = Person(child.name + '_mom', Gender.FEMALE)\n",
        "                people.append(dad)\n",
        "                people.append(mom)\n",
        "                child.set_father(dad)\n",
        "                child.set_mother(mom)\n",
        "                add_parents(dad, depth+1, max_depth)\n",
        "                add_parents(mom, depth+1, max_depth)\n",
        "        add_parents(self.root_child, 0, self.generations)\n",
        "\n",
        "    def test_all_ancestors(self):\n",
        "      # all_ancestors() returns all of a person's ancestors\n",
        "      self.assertEqual(self.root_child.all_ancestors(), set(self.people[1:]))\n",
        "\n",
        "run_test_class(TestPerson2())"
      ],
      "execution_count": 0,
      "outputs": [
        {
          "output_type": "stream",
          "text": [
            ".\n",
            "----------------------------------------------------------------------\n",
            "Ran 1 test in 0.002s\n",
            "\n",
            "OK\n"
          ],
          "name": "stderr"
        }
      ]
    },
    {
      "cell_type": "markdown",
      "metadata": {
        "id": "ur2SDd_WZK7z",
        "colab_type": "text"
      },
      "source": [
        "### test *fixture*\n",
        "A test *fixture* is the term used to describe the preparation for a test and any cleanup needed after a test. \n",
        "`setUp` can create fixtures that get initialized before each test method. `tearDown` cleans up the fixture after the test runs."
      ]
    },
    {
      "cell_type": "code",
      "metadata": {
        "id": "ff18re7vNR_3",
        "colab_type": "code",
        "outputId": "89b36c5b-1217-4b5d-ea2b-cfc7232f6ac0",
        "colab": {
          "base_uri": "https://localhost:8080/",
          "height": 272
        }
      },
      "source": [
        "import tempfile\n",
        "import shutil\n",
        "\n",
        "class TestExample(unittest.TestCase):\n",
        "\n",
        "    def setUp(self):\n",
        "        self.tempdir = tempfile.mkdtemp()\n",
        "\n",
        "    # tearDown is called immediately after the test method; called even if the test\n",
        "    # method raised an exception\n",
        "    # tearDown is typically used to deallocate resources, as in this commoon pattern\n",
        "    def tearDown(self):\n",
        "        shutil.rmtree(self.tempdir)\n",
        "        pass\n",
        "\n",
        "    def test1(self):\n",
        "      print(self.tempdir)\n",
        "\n",
        "    def test2(self):\n",
        "      print(self.tempdir)\n",
        "\n",
        "run_test_class(TestExample())"
      ],
      "execution_count": 0,
      "outputs": [
        {
          "output_type": "stream",
          "text": [
            "E."
          ],
          "name": "stderr"
        },
        {
          "output_type": "stream",
          "text": [
            "/tmp/tmpnbnmrcy4\n",
            "/tmp/tmp6f387hj3\n"
          ],
          "name": "stdout"
        },
        {
          "output_type": "stream",
          "text": [
            "\n",
            "======================================================================\n",
            "ERROR: test1 (__main__.TestExample)\n",
            "----------------------------------------------------------------------\n",
            "Traceback (most recent call last):\n",
            "  File \"<ipython-input-33-5491bac0488e>\", line 18, in test1\n",
            "    1 / 0\n",
            "ZeroDivisionError: division by zero\n",
            "\n",
            "----------------------------------------------------------------------\n",
            "Ran 2 tests in 0.003s\n",
            "\n",
            "FAILED (errors=1)\n"
          ],
          "name": "stderr"
        }
      ]
    },
    {
      "cell_type": "code",
      "metadata": {
        "id": "4_c3SOs2QWHc",
        "colab_type": "code",
        "outputId": "03bb5224-7dcf-4c03-d25b-d5e37844f6b9",
        "colab": {
          "base_uri": "https://localhost:8080/",
          "height": 51
        }
      },
      "source": [
        "import os\n",
        "print(os.path.isdir('/tmp'))\n",
        "os.listdir('/tmp')"
      ],
      "execution_count": 0,
      "outputs": [
        {
          "output_type": "stream",
          "text": [
            "True\n"
          ],
          "name": "stdout"
        },
        {
          "output_type": "execute_result",
          "data": {
            "text/plain": [
              "['tmpiljwl5s2', 'tmpl1pke9x2']"
            ]
          },
          "metadata": {
            "tags": []
          },
          "execution_count": 34
        }
      ]
    },
    {
      "cell_type": "markdown",
      "metadata": {
        "id": "ALfOI2EyShEw",
        "colab_type": "text"
      },
      "source": [
        "### decorators of unittest methods and classes\n",
        "`@unittest.skip(message)` will skip a test method or `TestClass` and print the message.\n",
        "`@unittest.expectedFailure` indicates that a test method should fail."
      ]
    },
    {
      "cell_type": "code",
      "metadata": {
        "id": "M8SPeMwGSp2x",
        "colab_type": "code",
        "outputId": "5a78a351-6293-4bdb-8aba-0106f1b4302c",
        "colab": {
          "base_uri": "https://localhost:8080/",
          "height": 141
        }
      },
      "source": [
        "class TestExample2(unittest.TestCase):\n",
        "\n",
        "  @unittest.expectedFailure\n",
        "  def test_1(self):\n",
        "      self.assertTrue(False)\n",
        "\n",
        "  # careful: if multiple tests have the same name, the last runs & the others are silently ignored\n",
        "  def test_2(self):\n",
        "      print('\\nhi mom')\n",
        "\n",
        "  @unittest.skip('bad test')\n",
        "  def test_bad(self):\n",
        "      self.assertEqual(False, True)\n",
        "\n",
        "run_test_class(TestExample2())"
      ],
      "execution_count": 43,
      "outputs": [
        {
          "output_type": "stream",
          "text": [
            "x.s"
          ],
          "name": "stderr"
        },
        {
          "output_type": "stream",
          "text": [
            "\n",
            "hi mom\n"
          ],
          "name": "stdout"
        },
        {
          "output_type": "stream",
          "text": [
            "\n",
            "----------------------------------------------------------------------\n",
            "Ran 3 tests in 0.010s\n",
            "\n",
            "OK (skipped=1, expected failures=1)\n"
          ],
          "name": "stderr"
        }
      ]
    }
  ]
}