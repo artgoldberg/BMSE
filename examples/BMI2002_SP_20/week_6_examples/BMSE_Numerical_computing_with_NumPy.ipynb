{
  "nbformat": 4,
  "nbformat_minor": 0,
  "metadata": {
    "colab": {
      "name": "BMSE Numerical computing with NumPy.ipynb",
      "provenance": []
    },
    "kernelspec": {
      "name": "python3",
      "display_name": "Python 3"
    }
  },
  "cells": [
    {
      "cell_type": "markdown",
      "metadata": {
        "id": "5CU4auxycgzQ",
        "colab_type": "text"
      },
      "source": [
        "**Biomedical Software Engineering**\n",
        "\n",
        "**Prof. Arthur Goldberg**\n",
        "\n",
        "**Dept. Genetics and Genomic Sciences**\n",
        "\n",
        "**Spring 1, 2020**\n",
        "\n",
        "# Advanced Python: Numerical computing with `NumPy`"
      ]
    },
    {
      "cell_type": "markdown",
      "metadata": {
        "id": "S1XSecVvcr6e",
        "colab_type": "text"
      },
      "source": [
        "[`NumPy`](https://docs.scipy.org/doc/numpy/index.html) is a popular numerical computing package in Python. NumPy’s main object is the homogeneous multidimensional array. It is a table of elements (usually numbers), all of the same type, indexed by a tuple of positive integers. The following examples illustrate its basic functionality.\n",
        "\n",
        "The [`NumPy` User Guide](https://docs.scipy.org/doc/numpy/user/index.html) provides an introductory overview of `NumPy`. The [`NumPy` Quickstart tutorial](https://docs.scipy.org/doc/numpy/user/quickstart.html) explains `NumPy`'s functionality and supplies simple examples."
      ]
    },
    {
      "cell_type": "markdown",
      "metadata": {
        "id": "TWFuwSX5ecdS",
        "colab_type": "text"
      },
      "source": [
        "Construct arrays:"
      ]
    },
    {
      "cell_type": "code",
      "metadata": {
        "id": "KmX1Le9WcYlY",
        "colab_type": "code",
        "colab": {
          "base_uri": "https://localhost:8080/",
          "height": 68
        },
        "outputId": "046a31d4-045c-46ba-adb8-ee49f54623c0"
      },
      "source": [
        "import numpy as np\n",
        "example_array = np.array([[1, 2, 3], [4, 5, 6]]) # a 2x3 matrix with elements equal to 1..6\n",
        "print(example_array)\n",
        "print(type(example_array)) # the type of numpy arrays is `ndarray`"
      ],
      "execution_count": 25,
      "outputs": [
        {
          "output_type": "stream",
          "text": [
            "[[1 2 3]\n",
            " [4 5 6]]\n",
            "<class 'numpy.ndarray'>\n"
          ],
          "name": "stdout"
        }
      ]
    },
    {
      "cell_type": "code",
      "metadata": {
        "id": "LQsAr0cwe2h0",
        "colab_type": "code",
        "colab": {
          "base_uri": "https://localhost:8080/",
          "height": 51
        },
        "outputId": "77458d3f-a8ad-4d61-8331-3d3f88bb450a"
      },
      "source": [
        "np.empty((2, 2)) # a 2x2 matrix with each element equal to a randomly selected number"
      ],
      "execution_count": 26,
      "outputs": [
        {
          "output_type": "execute_result",
          "data": {
            "text/plain": [
              "array([[0., 0.],\n",
              "       [0., 0.]])"
            ]
          },
          "metadata": {
            "tags": []
          },
          "execution_count": 26
        }
      ]
    },
    {
      "cell_type": "code",
      "metadata": {
        "id": "5WZdALtie4QG",
        "colab_type": "code",
        "colab": {
          "base_uri": "https://localhost:8080/",
          "height": 68
        },
        "outputId": "0a70f672-f09c-4b8c-a442-98ead6893c34"
      },
      "source": [
        "np.zeros((2, 2)) # a 2x2 matrix with each element equal to 0.0\n",
        "np.ones((3, 4)) # a 2x3 matrix with each element equal to 1.0"
      ],
      "execution_count": 27,
      "outputs": [
        {
          "output_type": "execute_result",
          "data": {
            "text/plain": [
              "array([[1., 1., 1., 1.],\n",
              "       [1., 1., 1., 1.],\n",
              "       [1., 1., 1., 1.]])"
            ]
          },
          "metadata": {
            "tags": []
          },
          "execution_count": 27
        }
      ]
    },
    {
      "cell_type": "code",
      "metadata": {
        "id": "4uk9Ro1We5j8",
        "colab_type": "code",
        "colab": {
          "base_uri": "https://localhost:8080/",
          "height": 51
        },
        "outputId": "f0279158-cfbe-42d4-b15c-d746294a60e0"
      },
      "source": [
        "np.full((2, 3), 2.0) # a 2x3 matrix with each element equal to 2.0"
      ],
      "execution_count": 4,
      "outputs": [
        {
          "output_type": "execute_result",
          "data": {
            "text/plain": [
              "array([[2., 2., 2.],\n",
              "       [2., 2., 2.]])"
            ]
          },
          "metadata": {
            "tags": []
          },
          "execution_count": 4
        }
      ]
    },
    {
      "cell_type": "code",
      "metadata": {
        "id": "1Fz794JqhlNo",
        "colab_type": "code",
        "colab": {
          "base_uri": "https://localhost:8080/",
          "height": 34
        },
        "outputId": "3582b29e-edb1-4110-d387-246482f57ef5"
      },
      "source": [
        "np.array([1, 5]) # from a list; can be made from other iterators"
      ],
      "execution_count": 5,
      "outputs": [
        {
          "output_type": "execute_result",
          "data": {
            "text/plain": [
              "array([1, 5])"
            ]
          },
          "metadata": {
            "tags": []
          },
          "execution_count": 5
        }
      ]
    },
    {
      "cell_type": "markdown",
      "metadata": {
        "id": "zRBsDpBqfkg1",
        "colab_type": "text"
      },
      "source": [
        "Access arrays with indexing & slicing"
      ]
    },
    {
      "cell_type": "code",
      "metadata": {
        "id": "KD-S4Yngfn6V",
        "colab_type": "code",
        "colab": {
          "base_uri": "https://localhost:8080/",
          "height": 34
        },
        "outputId": "c3b18cf1-9f15-438e-8d18-31de6b99103e"
      },
      "source": [
        "example_array[0, 0] # row, column"
      ],
      "execution_count": 6,
      "outputs": [
        {
          "output_type": "execute_result",
          "data": {
            "text/plain": [
              "1"
            ]
          },
          "metadata": {
            "tags": []
          },
          "execution_count": 6
        }
      ]
    },
    {
      "cell_type": "code",
      "metadata": {
        "id": "QZu5_qI2f36T",
        "colab_type": "code",
        "colab": {
          "base_uri": "https://localhost:8080/",
          "height": 34
        },
        "outputId": "313d5004-14e3-477f-c98d-0b6834a49723"
      },
      "source": [
        "example_array[(1, 2)] # can use tuple; n-dimensional array addressed by n-tuple"
      ],
      "execution_count": 7,
      "outputs": [
        {
          "output_type": "execute_result",
          "data": {
            "text/plain": [
              "6"
            ]
          },
          "metadata": {
            "tags": []
          },
          "execution_count": 7
        }
      ]
    },
    {
      "cell_type": "code",
      "metadata": {
        "id": "p25s-wTogSFF",
        "colab_type": "code",
        "colab": {
          "base_uri": "https://localhost:8080/",
          "height": 34
        },
        "outputId": "0249deb1-5d16-4651-f5ef-61111c637001"
      },
      "source": [
        "example_array[0, :] # slice first row"
      ],
      "execution_count": 8,
      "outputs": [
        {
          "output_type": "execute_result",
          "data": {
            "text/plain": [
              "array([1, 2, 3])"
            ]
          },
          "metadata": {
            "tags": []
          },
          "execution_count": 8
        }
      ]
    },
    {
      "cell_type": "code",
      "metadata": {
        "id": "9t6nCOYEgwCP",
        "colab_type": "code",
        "colab": {
          "base_uri": "https://localhost:8080/",
          "height": 34
        },
        "outputId": "1616ea4a-7a05-4af0-fd6b-e09211e2634f"
      },
      "source": [
        "example_array[:, 1] # slice 2nd column"
      ],
      "execution_count": 9,
      "outputs": [
        {
          "output_type": "execute_result",
          "data": {
            "text/plain": [
              "array([2, 5])"
            ]
          },
          "metadata": {
            "tags": []
          },
          "execution_count": 9
        }
      ]
    },
    {
      "cell_type": "code",
      "metadata": {
        "id": "5Guurx5jVoTO",
        "colab_type": "code",
        "colab": {
          "base_uri": "https://localhost:8080/",
          "height": 164
        },
        "outputId": "57fa4f5b-9232-41a2-9efa-e34eace6da7e"
      },
      "source": [
        "example_array[(1, 2, 3)] # wrong size tuple will raise error"
      ],
      "execution_count": 28,
      "outputs": [
        {
          "output_type": "error",
          "ename": "IndexError",
          "evalue": "ignored",
          "traceback": [
            "\u001b[0;31m---------------------------------------------------------------------------\u001b[0m",
            "\u001b[0;31mIndexError\u001b[0m                                Traceback (most recent call last)",
            "\u001b[0;32m<ipython-input-28-81bcb0744684>\u001b[0m in \u001b[0;36m<module>\u001b[0;34m()\u001b[0m\n\u001b[0;32m----> 1\u001b[0;31m \u001b[0mexample_array\u001b[0m\u001b[0;34m[\u001b[0m\u001b[0;34m(\u001b[0m\u001b[0;36m1\u001b[0m\u001b[0;34m,\u001b[0m \u001b[0;36m2\u001b[0m\u001b[0;34m,\u001b[0m \u001b[0;36m3\u001b[0m\u001b[0;34m)\u001b[0m\u001b[0;34m]\u001b[0m \u001b[0;31m# wrong size tuple will raise error\u001b[0m\u001b[0;34m\u001b[0m\u001b[0;34m\u001b[0m\u001b[0m\n\u001b[0m",
            "\u001b[0;31mIndexError\u001b[0m: too many indices for array"
          ]
        }
      ]
    },
    {
      "cell_type": "markdown",
      "metadata": {
        "id": "6gQ64suxg9mh",
        "colab_type": "text"
      },
      "source": [
        "Array properties"
      ]
    },
    {
      "cell_type": "code",
      "metadata": {
        "id": "VIW-9plvhAnu",
        "colab_type": "code",
        "colab": {
          "base_uri": "https://localhost:8080/",
          "height": 34
        },
        "outputId": "5b3cd297-afae-47cc-841a-1f27131c0bae"
      },
      "source": [
        "example_array.shape # shape; # rows, # columns; generalizes to n-dimensions"
      ],
      "execution_count": 10,
      "outputs": [
        {
          "output_type": "execute_result",
          "data": {
            "text/plain": [
              "(2, 3)"
            ]
          },
          "metadata": {
            "tags": []
          },
          "execution_count": 10
        }
      ]
    },
    {
      "cell_type": "code",
      "metadata": {
        "id": "Y-qUNkXBhQWP",
        "colab_type": "code",
        "colab": {
          "base_uri": "https://localhost:8080/",
          "height": 34
        },
        "outputId": "94c46f75-3c5b-4219-891f-1ca599043004"
      },
      "source": [
        "example_array.ndim  # number dimensions"
      ],
      "execution_count": 11,
      "outputs": [
        {
          "output_type": "execute_result",
          "data": {
            "text/plain": [
              "2"
            ]
          },
          "metadata": {
            "tags": []
          },
          "execution_count": 11
        }
      ]
    },
    {
      "cell_type": "code",
      "metadata": {
        "id": "W71xV6AThaDb",
        "colab_type": "code",
        "colab": {
          "base_uri": "https://localhost:8080/",
          "height": 34
        },
        "outputId": "babfc246-2e5c-417f-cbb9-a2572d495483"
      },
      "source": [
        "example_array.dtype.name  # name of the data type in all cells"
      ],
      "execution_count": 12,
      "outputs": [
        {
          "output_type": "execute_result",
          "data": {
            "text/plain": [
              "'int64'"
            ]
          },
          "metadata": {
            "tags": []
          },
          "execution_count": 12
        }
      ]
    },
    {
      "cell_type": "code",
      "metadata": {
        "id": "qCH59UbHh-XE",
        "colab_type": "code",
        "colab": {
          "base_uri": "https://localhost:8080/",
          "height": 34
        },
        "outputId": "a4d77fac-5c70-4e65-92db-daa7c4036b6e"
      },
      "source": [
        "b = np.array([1.2, 3.5, 5.1])\n",
        "b.dtype"
      ],
      "execution_count": 13,
      "outputs": [
        {
          "output_type": "execute_result",
          "data": {
            "text/plain": [
              "dtype('float64')"
            ]
          },
          "metadata": {
            "tags": []
          },
          "execution_count": 13
        }
      ]
    },
    {
      "cell_type": "code",
      "metadata": {
        "id": "C1zdcgwbV3wU",
        "colab_type": "code",
        "colab": {
          "base_uri": "https://localhost:8080/",
          "height": 34
        },
        "outputId": "c3e6ac6a-1211-45e9-aca3-85820b0f23a1"
      },
      "source": [
        "# can assign data type on creation\n",
        "c = np.array([2, 3, 5], dtype=np.float64)\n",
        "c.dtype"
      ],
      "execution_count": 29,
      "outputs": [
        {
          "output_type": "execute_result",
          "data": {
            "text/plain": [
              "dtype('float64')"
            ]
          },
          "metadata": {
            "tags": []
          },
          "execution_count": 29
        }
      ]
    },
    {
      "cell_type": "markdown",
      "metadata": {
        "id": "Fk0s3UMiiHf1",
        "colab_type": "text"
      },
      "source": [
        "Operations on arrays"
      ]
    },
    {
      "cell_type": "code",
      "metadata": {
        "id": "XoZSkedTiKGy",
        "colab_type": "code",
        "colab": {
          "base_uri": "https://localhost:8080/",
          "height": 51
        },
        "outputId": "49217f6a-7db0-4ffa-9395-18ca7291b342"
      },
      "source": [
        "example_array + 3 # operate on all elements"
      ],
      "execution_count": 14,
      "outputs": [
        {
          "output_type": "execute_result",
          "data": {
            "text/plain": [
              "array([[4, 5, 6],\n",
              "       [7, 8, 9]])"
            ]
          },
          "metadata": {
            "tags": []
          },
          "execution_count": 14
        }
      ]
    },
    {
      "cell_type": "code",
      "metadata": {
        "id": "wxnVv6yHid5a",
        "colab_type": "code",
        "colab": {
          "base_uri": "https://localhost:8080/",
          "height": 51
        },
        "outputId": "0b8eb743-3af8-4fa2-b2d9-574d59e28120"
      },
      "source": [
        "example_array + np.full((2, 3), 2.0)  # matrix addition; note float elements"
      ],
      "execution_count": 15,
      "outputs": [
        {
          "output_type": "execute_result",
          "data": {
            "text/plain": [
              "array([[3., 4., 5.],\n",
              "       [6., 7., 8.]])"
            ]
          },
          "metadata": {
            "tags": []
          },
          "execution_count": 15
        }
      ]
    },
    {
      "cell_type": "code",
      "metadata": {
        "id": "xiloKPJ2nH7x",
        "colab_type": "code",
        "colab": {
          "base_uri": "https://localhost:8080/",
          "height": 51
        },
        "outputId": "f92ff223-e08d-4088-9b68-0cf2d0fff45d"
      },
      "source": [
        "example_array += 1 # supports unary assignment, +=, *=, etc.\n",
        "example_array"
      ],
      "execution_count": 16,
      "outputs": [
        {
          "output_type": "execute_result",
          "data": {
            "text/plain": [
              "array([[2, 3, 4],\n",
              "       [5, 6, 7]])"
            ]
          },
          "metadata": {
            "tags": []
          },
          "execution_count": 16
        }
      ]
    },
    {
      "cell_type": "code",
      "metadata": {
        "id": "ORl2qLiVi9nW",
        "colab_type": "code",
        "colab": {
          "base_uri": "https://localhost:8080/",
          "height": 34
        },
        "outputId": "d1ee03a5-1f85-4287-dd63-9ffd780e9f1c"
      },
      "source": [
        "example_array.dot(np.array([1, 2, 3])) # matrix multiplication"
      ],
      "execution_count": 17,
      "outputs": [
        {
          "output_type": "execute_result",
          "data": {
            "text/plain": [
              "array([20, 38])"
            ]
          },
          "metadata": {
            "tags": []
          },
          "execution_count": 17
        }
      ]
    },
    {
      "cell_type": "code",
      "metadata": {
        "id": "wFp8LWtEjuhi",
        "colab_type": "code",
        "colab": {
          "base_uri": "https://localhost:8080/",
          "height": 68
        },
        "outputId": "d13cf23a-b3e9-4e1f-9859-7efe1af74006"
      },
      "source": [
        "example_array.transpose() # transpose array"
      ],
      "execution_count": 18,
      "outputs": [
        {
          "output_type": "execute_result",
          "data": {
            "text/plain": [
              "array([[2, 5],\n",
              "       [3, 6],\n",
              "       [4, 7]])"
            ]
          },
          "metadata": {
            "tags": []
          },
          "execution_count": 18
        }
      ]
    },
    {
      "cell_type": "code",
      "metadata": {
        "id": "GlKODQzQj10W",
        "colab_type": "code",
        "colab": {
          "base_uri": "https://localhost:8080/",
          "height": 51
        },
        "outputId": "7df0f4cd-0eea-4595-f8ff-e0607cc012d3"
      },
      "source": [
        "example_array.transpose().transpose()"
      ],
      "execution_count": 19,
      "outputs": [
        {
          "output_type": "execute_result",
          "data": {
            "text/plain": [
              "array([[2, 3, 4],\n",
              "       [5, 6, 7]])"
            ]
          },
          "metadata": {
            "tags": []
          },
          "execution_count": 19
        }
      ]
    },
    {
      "cell_type": "code",
      "metadata": {
        "id": "9hO-nlWclHAm",
        "colab_type": "code",
        "colab": {
          "base_uri": "https://localhost:8080/",
          "height": 51
        },
        "outputId": "991f6342-739e-4601-cedc-0d815fa6afd4"
      },
      "source": [
        "np.square(example_array)  # one of many mathematical functions"
      ],
      "execution_count": 20,
      "outputs": [
        {
          "output_type": "execute_result",
          "data": {
            "text/plain": [
              "array([[ 4,  9, 16],\n",
              "       [25, 36, 49]])"
            ]
          },
          "metadata": {
            "tags": []
          },
          "execution_count": 20
        }
      ]
    },
    {
      "cell_type": "markdown",
      "metadata": {
        "id": "1_Utr-sfWVHQ",
        "colab_type": "text"
      },
      "source": [
        "Many other operators"
      ]
    },
    {
      "cell_type": "markdown",
      "metadata": {
        "id": "Vqi6nWv9kJa8",
        "colab_type": "text"
      },
      "source": [
        "Compare arrays"
      ]
    },
    {
      "cell_type": "code",
      "metadata": {
        "id": "LGHUQM0zkHCU",
        "colab_type": "code",
        "colab": {
          "base_uri": "https://localhost:8080/",
          "height": 34
        },
        "outputId": "55a44837-92a9-4426-e89c-6b35488a4f1c"
      },
      "source": [
        "np.array_equal(example_array, example_array)"
      ],
      "execution_count": 21,
      "outputs": [
        {
          "output_type": "execute_result",
          "data": {
            "text/plain": [
              "True"
            ]
          },
          "metadata": {
            "tags": []
          },
          "execution_count": 21
        }
      ]
    },
    {
      "cell_type": "code",
      "metadata": {
        "id": "1lVm9AqNlsG5",
        "colab_type": "code",
        "colab": {
          "base_uri": "https://localhost:8080/",
          "height": 34
        },
        "outputId": "26e19f6a-6fe1-4044-dcdd-36eed98c6e1c"
      },
      "source": [
        "np.array_equal(example_array, example_array.transpose().transpose())  # transpose inverts itself"
      ],
      "execution_count": 22,
      "outputs": [
        {
          "output_type": "execute_result",
          "data": {
            "text/plain": [
              "True"
            ]
          },
          "metadata": {
            "tags": []
          },
          "execution_count": 22
        }
      ]
    },
    {
      "cell_type": "code",
      "metadata": {
        "id": "XLuhvZMbk_6q",
        "colab_type": "code",
        "colab": {
          "base_uri": "https://localhost:8080/",
          "height": 34
        },
        "outputId": "9003d25e-8a94-49b6-d4d0-ed5dac748531"
      },
      "source": [
        "np.array_equal(example_array, example_array + 1)"
      ],
      "execution_count": 23,
      "outputs": [
        {
          "output_type": "execute_result",
          "data": {
            "text/plain": [
              "False"
            ]
          },
          "metadata": {
            "tags": []
          },
          "execution_count": 23
        }
      ]
    },
    {
      "cell_type": "markdown",
      "metadata": {
        "id": "yIFOfNVGl5iy",
        "colab_type": "text"
      },
      "source": [
        "Data reduction"
      ]
    },
    {
      "cell_type": "code",
      "metadata": {
        "id": "ydKkjgQQl8q9",
        "colab_type": "code",
        "colab": {
          "base_uri": "https://localhost:8080/",
          "height": 153
        },
        "outputId": "9be78400-3d18-4f77-c86f-fb5b77ad13d7"
      },
      "source": [
        "print(example_array.all()) # determine if all of the values are logically equivalent to `True`\n",
        "print(example_array.any()) # determine if any of the values are logically equivalent to `True`\n",
        "print(example_array.sum()) # sum\n",
        "print(example_array.mean()) # mean\n",
        "print(example_array.std()) # standard deviation\n",
        "print(example_array.var()) # variance\n",
        "print(example_array.min()) # minimum\n",
        "print(example_array.max()) # maximum"
      ],
      "execution_count": 24,
      "outputs": [
        {
          "output_type": "stream",
          "text": [
            "True\n",
            "True\n",
            "27\n",
            "4.5\n",
            "1.707825127659933\n",
            "2.9166666666666665\n",
            "2\n",
            "7\n"
          ],
          "name": "stdout"
        }
      ]
    }
  ]
}