{
  "nbformat": 4,
  "nbformat_minor": 0,
  "metadata": {
    "colab": {
      "name": "BMSE Advanced Python, floats",
      "provenance": []
    },
    "kernelspec": {
      "name": "python3",
      "display_name": "Python 3"
    }
  },
  "cells": [
    {
      "cell_type": "markdown",
      "metadata": {
        "id": "JKb2bnEhEAl9",
        "colab_type": "text"
      },
      "source": [
        "**Biomedical Software Engineering**\n",
        "\n",
        "**Prof. Arthur Goldberg**\n",
        "\n",
        "**Dept. Genetics and Genomic Sciences**\n",
        "\n",
        "**Spring 1, 2020**\n",
        "\n",
        "# Advanced Python: using floats"
      ]
    },
    {
      "cell_type": "markdown",
      "metadata": {
        "id": "oZnngsErqh4E",
        "colab_type": "text"
      },
      "source": [
        "## Rounding errors, and comparison\n",
        "Floating-point numbers are represented in computer hardware as base 2 (binary) fractions.\n",
        "Some numbers can be represented exactly.\n",
        "(Source: [Python Tutorial, Chap. 15. Floating Point Arithmetic: Issues and Limitations](https://docs.python.org/3/tutorial/floatingpoint.html))"
      ]
    },
    {
      "cell_type": "code",
      "metadata": {
        "id": "f1svcQXWq_Ww",
        "colab_type": "code",
        "colab": {
          "base_uri": "https://localhost:8080/",
          "height": 68
        },
        "outputId": "6e25d4ff-8ecd-4825-a25a-f70ae3f8ce28"
      },
      "source": [
        "print(0.125)\n",
        "print(f\"{0.125:0.20f}\")\n",
        "assert 0.125 == 1/8\n",
        "1/8 == 0/2 + 0/4 + 1/8"
      ],
      "execution_count": 12,
      "outputs": [
        {
          "output_type": "stream",
          "text": [
            "0.125\n",
            "0.12500000000000000000\n"
          ],
          "name": "stdout"
        },
        {
          "output_type": "execute_result",
          "data": {
            "text/plain": [
              "True"
            ]
          },
          "metadata": {
            "tags": []
          },
          "execution_count": 12
        }
      ]
    },
    {
      "cell_type": "markdown",
      "metadata": {
        "id": "NzLimUVP8OzB",
        "colab_type": "text"
      },
      "source": [
        "Virtually all modern chips use 64-bit IEEE standard 754-1985 floating format: a sign bit, an 11-bit exponent, and 52 bits of mantissa (about 16 decimal digits). Floats are converted into closest 64-bit representation.\n",
        "\n",
        "1/10 is an infinitely repeating binary fraction, which cannot be represented exactly.\n"
      ]
    },
    {
      "cell_type": "code",
      "metadata": {
        "id": "U1C2z3Efs8rC",
        "colab_type": "code",
        "colab": {
          "base_uri": "https://localhost:8080/",
          "height": 51
        },
        "outputId": "29336d9f-e118-4af9-c083-4b02ea41f466"
      },
      "source": [
        "# the 16 digits of precision 0.1\n",
        "# 0.1 is APPROXIMATELY represented\n",
        "print(f\"{0.1:0.17f}\")\n",
        "# all decimal digits in 0.1\n",
        "print(f\"{0.1:0.60f}\")"
      ],
      "execution_count": 13,
      "outputs": [
        {
          "output_type": "stream",
          "text": [
            "0.10000000000000001\n",
            "0.100000000000000005551115123125782702118158340454101562500000\n"
          ],
          "name": "stdout"
        }
      ]
    },
    {
      "cell_type": "markdown",
      "metadata": {
        "id": "5tW1v8L19CJy",
        "colab_type": "text"
      },
      "source": [
        "Since different floats have different rounding errors in their representation, they may not compare as expected. Except in certain special cases, it's not a good idea to compare floats for equality. E.g., does 0.1 + 0.1 + 0.1 = 0.3?"
      ]
    },
    {
      "cell_type": "code",
      "metadata": {
        "id": "07oPCOGj067E",
        "colab_type": "code",
        "colab": {
          "base_uri": "https://localhost:8080/",
          "height": 34
        },
        "outputId": "b5302615-ed29-48cd-cbc6-98bc4b117fc8"
      },
      "source": [
        "0.1 + 0.1 + 0.1 == 0.3    # nope!"
      ],
      "execution_count": 14,
      "outputs": [
        {
          "output_type": "execute_result",
          "data": {
            "text/plain": [
              "False"
            ]
          },
          "metadata": {
            "tags": []
          },
          "execution_count": 14
        }
      ]
    },
    {
      "cell_type": "code",
      "metadata": {
        "id": "78Ed-WS_7bAW",
        "colab_type": "code",
        "colab": {
          "base_uri": "https://localhost:8080/",
          "height": 51
        },
        "outputId": "16077dff-c380-406a-8a43-d9175d897d31"
      },
      "source": [
        "# math can help\n",
        "import math\n",
        "# sum of 10 copies of 0.1\n",
        "print(sum([0.1] * 10))\n",
        "# math.fsum(iterable)\n",
        "# Return an accurate floating point sum of values in the iterable\n",
        "math.fsum([0.1] * 10) == 1.0"
      ],
      "execution_count": 4,
      "outputs": [
        {
          "output_type": "stream",
          "text": [
            "0.9999999999999999\n"
          ],
          "name": "stdout"
        },
        {
          "output_type": "execute_result",
          "data": {
            "text/plain": [
              "True"
            ]
          },
          "metadata": {
            "tags": []
          },
          "execution_count": 4
        }
      ]
    },
    {
      "cell_type": "markdown",
      "metadata": {
        "id": "BkqS6jR99hyX",
        "colab_type": "text"
      },
      "source": [
        "But that doesn't make it easy to compare floats in general.\n",
        "\n",
        "### Use relative and absolute tolerances to compare floats\n",
        "[math.isclose(a, b, *, rel_tol=1e-09, abs_tol=0.0)](https://docs.python.org/3/library/math.html#math.isclose)\n",
        "\n",
        "Return `True` if the values a and b are close to each other and `False` otherwise.\n",
        "\n",
        "Whether or not two values are considered close is determined according to given absolute and relative tolerances.\n",
        "\n",
        "*rel_tol* is the relative tolerance – it is the maximum allowed difference between *a* and *b*, relative to the larger absolute value of *a* or *b*. *rel_tol* must be greater than zero.\n",
        "\n",
        "*abs_tol* is the minimum absolute tolerance – useful for comparisons near zero. *abs_tol* must be at least zero.\n",
        "\n",
        "If no errors occur, the result will be: `abs(a-b) <= max(rel_tol * max(abs(a), abs(b)), abs_tol)`.\n",
        "\n",
        "\n",
        "See also [PEP 485 – A function for testing approximate equality](https://www.python.org/dev/peps/pep-0485/)."
      ]
    },
    {
      "cell_type": "code",
      "metadata": {
        "id": "5WFu3ZmQ8fKI",
        "colab_type": "code",
        "colab": {
          "base_uri": "https://localhost:8080/",
          "height": 51
        },
        "outputId": "ad1ba00e-bc35-486e-b6e8-9e5d07c25102"
      },
      "source": [
        "# compare floats\n",
        "from math import isclose\n",
        "print((0.1 + 0.1 + 0.1) - 0.3)  # the difference between two ways of computing 0.3\n",
        "isclose(0.1 + 0.1 + 0.1, 0.3)"
      ],
      "execution_count": 5,
      "outputs": [
        {
          "output_type": "stream",
          "text": [
            "5.551115123125783e-17\n"
          ],
          "name": "stdout"
        },
        {
          "output_type": "execute_result",
          "data": {
            "text/plain": [
              "True"
            ]
          },
          "metadata": {
            "tags": []
          },
          "execution_count": 5
        }
      ]
    },
    {
      "cell_type": "code",
      "metadata": {
        "id": "t1hsub0FBolI",
        "colab_type": "code",
        "colab": {
          "base_uri": "https://localhost:8080/",
          "height": 136
        },
        "outputId": "c955efa4-ccde-4791-9ed4-19e7b1524d3d"
      },
      "source": [
        "# let's compare some pairs of numbers\n",
        "pairs = (\n",
        "    (1.000001E10, 1.000000001E10),    # large numbers\n",
        "    (1.000001E-10, 1.000000001E-10),  # small numbers\n",
        "    (0.0, -0.0),                      # yes, we have plus and minus zero\n",
        "    (float('inf'), float('inf')),\n",
        "    (-float('inf'), -float('inf')),\n",
        "    (1.0, float('NaN')),\n",
        "    (float('NaN'), float('NaN')),     # nothing is equal to (or close to) NaN (not a number)\n",
        ")\n",
        "# run isclose() on these pairs\n",
        "for pair in pairs:\n",
        "    first, second = pair\n",
        "    print(f\"first={first:.15e} second={second:.15e} {isclose(first, second)}\")"
      ],
      "execution_count": 15,
      "outputs": [
        {
          "output_type": "stream",
          "text": [
            "first=1.000001000000000e+10 second=1.000000001000000e+10 False\n",
            "first=1.000001000000000e-10 second=1.000000001000000e-10 False\n",
            "first=0.000000000000000e+00 second=-0.000000000000000e+00 True\n",
            "first=inf second=inf True\n",
            "first=-inf second=-inf True\n",
            "first=1.000000000000000e+00 second=nan False\n",
            "first=nan second=nan False\n"
          ],
          "name": "stdout"
        }
      ]
    },
    {
      "cell_type": "markdown",
      "metadata": {
        "id": "i5QrW3B4DLt4",
        "colab_type": "text"
      },
      "source": [
        "Suppose we want our pairs of big and small numbers to be evaluated as *close*. What values of *rtol* and *atol* should we use?\n",
        "First, the big numbers."
      ]
    },
    {
      "cell_type": "code",
      "metadata": {
        "id": "yoqRpc-NDnP8",
        "colab_type": "code",
        "colab": {
          "base_uri": "https://localhost:8080/",
          "height": 102
        },
        "outputId": "d137bf33-230d-494c-89d4-407852ce9ddd"
      },
      "source": [
        "# investigate the big & small numbers\n",
        "big_1, big_2 = 1.000001E10, 1.000000001E10\n",
        "\n",
        "# functions to compare pairs of numbers, like isclose() does\n",
        "# isclose() returns: abs(a-b) <= max(rel_tol * max(abs(a), abs(b)), abs_tol) \n",
        "def abs_diff(x, y):\n",
        "    return abs(x - y)\n",
        "print(f\"abs_diff {abs_diff(big_1, big_2)}\")\n",
        "\n",
        "def rel_diff(x, y):\n",
        "    larger = max(abs(x), abs(y))\n",
        "    return abs(x - y)/larger\n",
        "\n",
        "print(f\"rel_diff {rel_diff(big_1, big_2)}\")\n",
        "# make rel_tol & abs_tol large enough to so that isclose(big_1, big_2) holds\n",
        "print(isclose(big_1, big_2, rel_tol=1e-5, abs_tol=1e5))\n",
        "# make if either rel_tol OR abs_tol is big enough, then isclose(big_1, big_2) will holds\n",
        "print(isclose(big_1, big_2, rel_tol=1e-5))\n",
        "isclose(big_1, big_2, abs_tol=1e5)"
      ],
      "execution_count": 16,
      "outputs": [
        {
          "output_type": "stream",
          "text": [
            "abs_diff 9990.0\n",
            "rel_diff 9.98999001000999e-07\n",
            "True\n",
            "True\n"
          ],
          "name": "stdout"
        },
        {
          "output_type": "execute_result",
          "data": {
            "text/plain": [
              "True"
            ]
          },
          "metadata": {
            "tags": []
          },
          "execution_count": 16
        }
      ]
    },
    {
      "cell_type": "markdown",
      "metadata": {
        "id": "caMAHPivGfxF",
        "colab_type": "text"
      },
      "source": [
        "Let's look at the small numbers."
      ]
    },
    {
      "cell_type": "code",
      "metadata": {
        "id": "0c4o8zPxGe79",
        "colab_type": "code",
        "colab": {
          "base_uri": "https://localhost:8080/",
          "height": 85
        },
        "outputId": "9ef68b3a-e4dc-40a8-b675-8bd3a6279f71"
      },
      "source": [
        "small_1, small_2 = 1.000001E-10, 1.000000001E-10\n",
        "print(f\"abs_diff {abs_diff(small_1, small_2)}\")\n",
        "print(f\"rel_diff {rel_diff(small_1, small_2)}\")\n",
        "print(isclose(small_1, small_2, rel_tol=1e-6, abs_tol=1e-15))\n",
        "# in this case neither rel_tol nor abs_tol are big enough\n",
        "isclose(small_1, small_2, rel_tol=1e-8, abs_tol=1e-18)"
      ],
      "execution_count": 8,
      "outputs": [
        {
          "output_type": "stream",
          "text": [
            "abs_diff 9.989999999627648e-17\n",
            "rel_diff 9.989990009637639e-07\n",
            "True\n"
          ],
          "name": "stdout"
        },
        {
          "output_type": "execute_result",
          "data": {
            "text/plain": [
              "False"
            ]
          },
          "metadata": {
            "tags": []
          },
          "execution_count": 8
        }
      ]
    },
    {
      "cell_type": "markdown",
      "metadata": {
        "colab_type": "text",
        "id": "ypTuRoeTqpu_"
      },
      "source": [
        "## Exact calculations with Decimal\n",
        "(Although the documentation meanders terribly, see the [Decimal Quick Start Tutorial](https://docs.python.org/3.8/library/decimal.html#quick-start-tutorial))"
      ]
    },
    {
      "cell_type": "code",
      "metadata": {
        "id": "1aY9ir--a9ou",
        "colab_type": "code",
        "colab": {
          "base_uri": "https://localhost:8080/",
          "height": 85
        },
        "outputId": "1335cab6-c432-499f-f2aa-34102921528d"
      },
      "source": [
        "from decimal import *\n",
        "print(3*0.1 - 0.3)\n",
        "# the argment to Decimal is a string so that the number can be exact\n",
        "decimal_0p1 = Decimal('0.1')\n",
        "print(f\"{decimal_0p1:.40f}\")\n",
        "decimal_0p3 = Decimal('0.3')\n",
        "print(f\"{decimal_0p3:.40f}\")\n",
        "# In Decimal, 3 * 0.1 == 0.3\n",
        "3 * decimal_0p1 == decimal_0p3"
      ],
      "execution_count": 9,
      "outputs": [
        {
          "output_type": "stream",
          "text": [
            "5.551115123125783e-17\n",
            "0.1000000000000000000000000000000000000000\n",
            "0.3000000000000000000000000000000000000000\n"
          ],
          "name": "stdout"
        },
        {
          "output_type": "execute_result",
          "data": {
            "text/plain": [
              "True"
            ]
          },
          "metadata": {
            "tags": []
          },
          "execution_count": 9
        }
      ]
    },
    {
      "cell_type": "markdown",
      "metadata": {
        "id": "GiuR5QChE_3B",
        "colab_type": "text"
      },
      "source": [
        "Suppose you want to make an infinite sequence of evenly spaced floating point values, e.g., 0, 0.1, 0.2, ... . `NumPy` [`linspace`](https://docs.scipy.org/doc/numpy/reference/generated/numpy.linspace.html) doesn't evenly space floating values, or make an infinite sequence.\n",
        "I wanted an infinite sequence of evenly spaced floating point values so that my simulator could take checkpoints at exact, evenly spaced times."
      ]
    },
    {
      "cell_type": "code",
      "metadata": {
        "id": "QLjkQPR_HzEd",
        "colab_type": "code",
        "colab": {
          "base_uri": "https://localhost:8080/",
          "height": 204
        },
        "outputId": "fb19c41e-fb07-4211-f4fb-73aa3796a9ad"
      },
      "source": [
        "import numpy as np\n",
        "# numpy linspace isn't exact\n",
        "[f\"{v:.20f}, \" for v in np.linspace(0, 1, 11)]"
      ],
      "execution_count": 10,
      "outputs": [
        {
          "output_type": "execute_result",
          "data": {
            "text/plain": [
              "['0.00000000000000000000, ',\n",
              " '0.10000000000000000555, ',\n",
              " '0.20000000000000001110, ',\n",
              " '0.30000000000000004441, ',\n",
              " '0.40000000000000002220, ',\n",
              " '0.50000000000000000000, ',\n",
              " '0.60000000000000008882, ',\n",
              " '0.70000000000000006661, ',\n",
              " '0.80000000000000004441, ',\n",
              " '0.90000000000000002220, ',\n",
              " '1.00000000000000000000, ']"
            ]
          },
          "metadata": {
            "tags": []
          },
          "execution_count": 10
        }
      ]
    },
    {
      "cell_type": "markdown",
      "metadata": {
        "id": "I3mHJ7YZSrf_",
        "colab_type": "text"
      },
      "source": [
        "Using `Decimal`, solved this problem with `UniformSequence`, which inherits from `Iterator`."
      ]
    },
    {
      "cell_type": "code",
      "metadata": {
        "id": "eMm3Uy4QTUSR",
        "colab_type": "code",
        "colab": {
          "base_uri": "https://localhost:8080/",
          "height": 187
        },
        "outputId": "9a02ad5a-b6be-4112-b743-1695321debbe"
      },
      "source": [
        "\"\"\" Generate an infinite sequence of evenly spaced values\n",
        "\n",
        ":Author: Arthur Goldberg <Arthur.Goldberg@mssm.edu>\n",
        ":Date: 2019-12-11\n",
        ":Copyright: 2019, Karr Lab\n",
        ":License: MIT\n",
        "\"\"\"\n",
        "\n",
        "from decimal import Decimal, getcontext\n",
        "import collections\n",
        "\n",
        "UNIFORM_SEQ_PRECISION = 6\n",
        "\n",
        "\n",
        "class UniformSequence(collections.abc.Iterator):\n",
        "    \"\"\" Generate an infinite sequence of evenly spaced values, especially for non-integral step sizes\n",
        "\n",
        "    The start and step size must be an integer, a float or string that can be represented as a Decimal\n",
        "    with a mantissa that contains no more than `UNIFORM_SEQ_PRECISION` digits.\n",
        "    Avoids floating-point roundoff errors by using a :obj:`Decimal` to represent the step size.\n",
        "\n",
        "    Attributes:\n",
        "        _start (:obj:`Decimal`): starting point of the sequence\n",
        "        _step (:obj:`Decimal`): step size for the sequence\n",
        "        _num_steps (:obj:`int`): number of steps taken in the sequence\n",
        "    \"\"\"\n",
        "\n",
        "    def __init__(self, start, step):\n",
        "        \"\"\" Initialize a :obj:`UniformSequence`\n",
        "\n",
        "        Args:\n",
        "            start (:obj:`str` or :obj:`number`): starting point of the sequence\n",
        "            step (:obj:`str` or :obj:`number`): step size for the sequence\n",
        "\n",
        "        Raises:\n",
        "            :obj:`ValueError`: if the step size is 0, NaN, or infinite, or\n",
        "                if the precision in `start` or `step` exceeds `UNIFORM_SEQ_PRECISION`\n",
        "        \"\"\"\n",
        "        getcontext().prec = UNIFORM_SEQ_PRECISION\n",
        "        self._start = Decimal(start)\n",
        "        self._step = Decimal(step)\n",
        "        if not self._step.is_normal():\n",
        "            raise ValueError(f\"UniformSequence: step={step} can't be 0, NaN, infinite, or subnormal\")\n",
        "\n",
        "        # start and step cannot contain more digits than the Decimal precision\n",
        "        if UNIFORM_SEQ_PRECISION < len(self._start.as_tuple().digits):\n",
        "            raise ValueError(f\"UniformSequence: precision in start={start} exceeds UNIFORM_SEQ_PRECISION \"\n",
        "                             f\"threshold={UNIFORM_SEQ_PRECISION}\")\n",
        "        if UNIFORM_SEQ_PRECISION < len(self._step.as_tuple().digits):\n",
        "            raise ValueError(f\"UniformSequence: precision in step={step} exceeds UNIFORM_SEQ_PRECISION \"\n",
        "                             f\"threshold={UNIFORM_SEQ_PRECISION}\")\n",
        "        self._num_steps = 0\n",
        "\n",
        "    def __iter__(self):\n",
        "        \"\"\" Get this :obj:`UniformSequence`\n",
        "\n",
        "        Returns:\n",
        "            :obj:`UniformSequence`: this :obj:`UniformSequence`\n",
        "        \"\"\"\n",
        "        return self\n",
        "\n",
        "    def __next__(self):\n",
        "        \"\"\" Get next value in the sequence\n",
        "\n",
        "        Returns:\n",
        "            :obj:`Decimal`: next value in this :obj:`UniformSequence`\n",
        "        \"\"\"\n",
        "        # This expression is evaluated using exact Decimal math\n",
        "        next_value = self._start + self._num_steps * self._step # this is the key line\n",
        "        self._num_steps += 1\n",
        "        if next_value.is_zero():\n",
        "            return 0.\n",
        "        return next_value\n",
        "\n",
        "us = UniformSequence(0, '0.1')\n",
        "for _ in range(10):\n",
        "  print(f\"{us.__next__():.20f}\")"
      ],
      "execution_count": 11,
      "outputs": [
        {
          "output_type": "stream",
          "text": [
            "0.00000000000000000000\n",
            "0.10000000000000000000\n",
            "0.20000000000000000000\n",
            "0.30000000000000000000\n",
            "0.40000000000000000000\n",
            "0.50000000000000000000\n",
            "0.60000000000000000000\n",
            "0.70000000000000000000\n",
            "0.80000000000000000000\n",
            "0.90000000000000000000\n"
          ],
          "name": "stdout"
        }
      ]
    },
    {
      "cell_type": "code",
      "metadata": {
        "id": "YRAQRHYRT5g6",
        "colab_type": "code",
        "colab": {
          "base_uri": "https://localhost:8080/",
          "height": 317
        },
        "outputId": "8a7ffcec-f198-4d22-cd5f-15885b95ee7e"
      },
      "source": [
        "# UniformSequence raises an exception if the start or step cannot be represented exactly\n",
        "# UniformSequence(0, 0.1)\n",
        "import math\n",
        "UniformSequence(math.sqrt(2), 1)\n",
        "us = UniformSequence(0, '0.1')"
      ],
      "execution_count": 21,
      "outputs": [
        {
          "output_type": "error",
          "ename": "ValueError",
          "evalue": "ignored",
          "traceback": [
            "\u001b[0;31m---------------------------------------------------------------------------\u001b[0m",
            "\u001b[0;31mValueError\u001b[0m                                Traceback (most recent call last)",
            "\u001b[0;32m<ipython-input-21-c057caa085e9>\u001b[0m in \u001b[0;36m<module>\u001b[0;34m()\u001b[0m\n\u001b[1;32m      1\u001b[0m \u001b[0;32mimport\u001b[0m \u001b[0mmath\u001b[0m\u001b[0;34m\u001b[0m\u001b[0;34m\u001b[0m\u001b[0m\n\u001b[0;32m----> 2\u001b[0;31m \u001b[0mUniformSequence\u001b[0m\u001b[0;34m(\u001b[0m\u001b[0mmath\u001b[0m\u001b[0;34m.\u001b[0m\u001b[0msqrt\u001b[0m\u001b[0;34m(\u001b[0m\u001b[0;36m2\u001b[0m\u001b[0;34m)\u001b[0m\u001b[0;34m,\u001b[0m \u001b[0;36m1\u001b[0m\u001b[0;34m)\u001b[0m\u001b[0;34m\u001b[0m\u001b[0;34m\u001b[0m\u001b[0m\n\u001b[0m\u001b[1;32m      3\u001b[0m \u001b[0mus\u001b[0m \u001b[0;34m=\u001b[0m \u001b[0mUniformSequence\u001b[0m\u001b[0;34m(\u001b[0m\u001b[0;36m0\u001b[0m\u001b[0;34m,\u001b[0m \u001b[0;34m'0.1'\u001b[0m\u001b[0;34m)\u001b[0m\u001b[0;34m\u001b[0m\u001b[0;34m\u001b[0m\u001b[0m\n",
            "\u001b[0;32m<ipython-input-11-dd8786aed7be>\u001b[0m in \u001b[0;36m__init__\u001b[0;34m(self, start, step)\u001b[0m\n\u001b[1;32m     45\u001b[0m         \u001b[0;31m# start and step cannot contain more digits than the Decimal precision\u001b[0m\u001b[0;34m\u001b[0m\u001b[0;34m\u001b[0m\u001b[0;34m\u001b[0m\u001b[0m\n\u001b[1;32m     46\u001b[0m         \u001b[0;32mif\u001b[0m \u001b[0mUNIFORM_SEQ_PRECISION\u001b[0m \u001b[0;34m<\u001b[0m \u001b[0mlen\u001b[0m\u001b[0;34m(\u001b[0m\u001b[0mself\u001b[0m\u001b[0;34m.\u001b[0m\u001b[0m_start\u001b[0m\u001b[0;34m.\u001b[0m\u001b[0mas_tuple\u001b[0m\u001b[0;34m(\u001b[0m\u001b[0;34m)\u001b[0m\u001b[0;34m.\u001b[0m\u001b[0mdigits\u001b[0m\u001b[0;34m)\u001b[0m\u001b[0;34m:\u001b[0m\u001b[0;34m\u001b[0m\u001b[0;34m\u001b[0m\u001b[0m\n\u001b[0;32m---> 47\u001b[0;31m             raise ValueError(f\"UniformSequence: precision in start={start} exceeds UNIFORM_SEQ_PRECISION \"\n\u001b[0m\u001b[1;32m     48\u001b[0m                              f\"threshold={UNIFORM_SEQ_PRECISION}\")\n\u001b[1;32m     49\u001b[0m         \u001b[0;32mif\u001b[0m \u001b[0mUNIFORM_SEQ_PRECISION\u001b[0m \u001b[0;34m<\u001b[0m \u001b[0mlen\u001b[0m\u001b[0;34m(\u001b[0m\u001b[0mself\u001b[0m\u001b[0;34m.\u001b[0m\u001b[0m_step\u001b[0m\u001b[0;34m.\u001b[0m\u001b[0mas_tuple\u001b[0m\u001b[0;34m(\u001b[0m\u001b[0;34m)\u001b[0m\u001b[0;34m.\u001b[0m\u001b[0mdigits\u001b[0m\u001b[0;34m)\u001b[0m\u001b[0;34m:\u001b[0m\u001b[0;34m\u001b[0m\u001b[0;34m\u001b[0m\u001b[0m\n",
            "\u001b[0;31mValueError\u001b[0m: UniformSequence: precision in start=1.4142135623730951 exceeds UNIFORM_SEQ_PRECISION threshold=6"
          ]
        }
      ]
    }
  ]
}