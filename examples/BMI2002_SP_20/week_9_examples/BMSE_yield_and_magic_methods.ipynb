{
  "nbformat": 4,
  "nbformat_minor": 0,
  "metadata": {
    "colab": {
      "name": "BMSE yield and magic methods.ipynb",
      "provenance": [],
      "collapsed_sections": []
    },
    "kernelspec": {
      "name": "python3",
      "display_name": "Python 3"
    }
  },
  "cells": [
    {
      "cell_type": "code",
      "metadata": {
        "id": "j8-dnapGRLxj",
        "colab_type": "code",
        "colab": {}
      },
      "source": [
        ""
      ],
      "execution_count": 0,
      "outputs": []
    },
    {
      "cell_type": "markdown",
      "metadata": {
        "id": "jxkW1tGXRYRF",
        "colab_type": "text"
      },
      "source": [
        "**Biomedical Software Engineering**\n",
        "\n",
        "**Prof. Arthur Goldberg**\n",
        "\n",
        "**Dept. Genetics and Genomic Sciences**\n",
        "\n",
        "**Spring 1, 2020**\n",
        "\n",
        "# `yield` and generators, *magic* methods"
      ]
    },
    {
      "cell_type": "markdown",
      "metadata": {
        "id": "IbSui6d7UTWS",
        "colab_type": "text"
      },
      "source": [
        "[`yield`](https://docs.python.org/3/reference/expressions.html#yield-expressions) is like return, but the run-time saves the state of the function which executes the `yield`."
      ]
    },
    {
      "cell_type": "code",
      "metadata": {
        "id": "Ay2M7GGzReRP",
        "colab_type": "code",
        "outputId": "f0cc97d5-2483-4a22-d53a-70e0b8c35a7b",
        "colab": {
          "base_uri": "https://localhost:8080/",
          "height": 35
        }
      },
      "source": [
        "def filtered_iteritems(d, filter_keys):\n",
        "    \"\"\"A generator that filters a dict's items to keys in `filter_keys`.\n",
        "\n",
        "    Args:\n",
        "        d (:obj:`dict`): dictionary to filter\n",
        "        filter_keys (:obj:`list` of :obj:`str`): list of keys to retain\n",
        "\n",
        "    Yields:\n",
        "        :obj:`tuple`: (key, value) tuples from `d` whose keys are in `filter_keys`\n",
        "    \"\"\"\n",
        "    # Note docstring uses Yields: instead of Returns:\n",
        "    for key, val in d.items():\n",
        "        if key not in filter_keys:\n",
        "            continue\n",
        "        yield key, val\n",
        "\n",
        "presidents = {'Washington': 1,\n",
        "              'Adams': 2,\n",
        "              'Jefferson': 3,\n",
        "              'Madison': 4}\n",
        "# calling a generator (a function with yield) creates a generator object\n",
        "filtered_iteritems(presidents, {'Adams'})"
      ],
      "execution_count": 0,
      "outputs": [
        {
          "output_type": "execute_result",
          "data": {
            "text/plain": [
              "<generator object filtered_iteritems at 0x7f1b8ec81ca8>"
            ]
          },
          "metadata": {
            "tags": []
          },
          "execution_count": 22
        }
      ]
    },
    {
      "cell_type": "code",
      "metadata": {
        "id": "heN0DxZLSemD",
        "colab_type": "code",
        "outputId": "273c6135-00c1-4f3b-884f-17c8333c5d41",
        "colab": {
          "base_uri": "https://localhost:8080/",
          "height": 52
        }
      },
      "source": [
        "filtered_presidents = filtered_iteritems(presidents, {'Washington', 'Jefferson'})\n",
        "# a generator object is an iterator\n",
        "# __next__() gets the next item in an iterator\n",
        "for _ in range(2):\n",
        "  print(filtered_presidents.__next__())"
      ],
      "execution_count": 0,
      "outputs": [
        {
          "output_type": "stream",
          "text": [
            "('Washington', 1)\n",
            "('Jefferson', 3)\n"
          ],
          "name": "stdout"
        }
      ]
    },
    {
      "cell_type": "markdown",
      "metadata": {
        "id": "PE1MGy_aXtBR",
        "colab_type": "text"
      },
      "source": [
        "If no more calls to yield are provided by the generator, then `__next__()` raises a `StopIteration` exception.\n",
        "\n"
      ]
    },
    {
      "cell_type": "code",
      "metadata": {
        "id": "u2Dxw7igYD5B",
        "colab_type": "code",
        "outputId": "d7f37f8f-a839-4f42-a3b8-6ab552308333",
        "colab": {
          "base_uri": "https://localhost:8080/",
          "height": 240
        }
      },
      "source": [
        "filtered_presidents = filtered_iteritems(presidents, {'Washington', 'Jefferson'})\n",
        "# a generator creates an iterator\n",
        "# __next__() gets the next item in an iterator\n",
        "for _ in range(3):\n",
        "  print(filtered_presidents.__next__())"
      ],
      "execution_count": 0,
      "outputs": [
        {
          "output_type": "stream",
          "text": [
            "('Washington', 1)\n",
            "('Jefferson', 3)\n"
          ],
          "name": "stdout"
        },
        {
          "output_type": "error",
          "ename": "StopIteration",
          "evalue": "ignored",
          "traceback": [
            "\u001b[0;31m---------------------------------------------------------------------------\u001b[0m",
            "\u001b[0;31mStopIteration\u001b[0m                             Traceback (most recent call last)",
            "\u001b[0;32m<ipython-input-8-971eda010c57>\u001b[0m in \u001b[0;36m<module>\u001b[0;34m()\u001b[0m\n\u001b[1;32m      3\u001b[0m \u001b[0;31m# __next__() gets the next item in an iterator\u001b[0m\u001b[0;34m\u001b[0m\u001b[0;34m\u001b[0m\u001b[0;34m\u001b[0m\u001b[0m\n\u001b[1;32m      4\u001b[0m \u001b[0;32mfor\u001b[0m \u001b[0m_\u001b[0m \u001b[0;32min\u001b[0m \u001b[0mrange\u001b[0m\u001b[0;34m(\u001b[0m\u001b[0;36m3\u001b[0m\u001b[0;34m)\u001b[0m\u001b[0;34m:\u001b[0m\u001b[0;34m\u001b[0m\u001b[0;34m\u001b[0m\u001b[0m\n\u001b[0;32m----> 5\u001b[0;31m   \u001b[0mprint\u001b[0m\u001b[0;34m(\u001b[0m\u001b[0mfiltered_presidents\u001b[0m\u001b[0;34m.\u001b[0m\u001b[0m__next__\u001b[0m\u001b[0;34m(\u001b[0m\u001b[0;34m)\u001b[0m\u001b[0;34m)\u001b[0m\u001b[0;34m\u001b[0m\u001b[0;34m\u001b[0m\u001b[0m\n\u001b[0m",
            "\u001b[0;31mStopIteration\u001b[0m: "
          ]
        }
      ]
    },
    {
      "cell_type": "markdown",
      "metadata": {
        "id": "u1XYYQ4gYSYj",
        "colab_type": "text"
      },
      "source": [
        "Generators are especially helpful for infinite sequences. (They don't fit in lists.)\n",
        "\n",
        "Question for students: write a generator that creates a sequence of Fibonacci numbers"
      ]
    },
    {
      "cell_type": "markdown",
      "metadata": {
        "id": "dsC02mc4vUcV",
        "colab_type": "text"
      },
      "source": [
        "# *magic* methods for comparing objects"
      ]
    },
    {
      "cell_type": "markdown",
      "metadata": {
        "id": "ay-3yx1E_Hrk",
        "colab_type": "text"
      },
      "source": [
        "The rich comparison methods are documented in the [Basic customization](https://docs.python.org/3/reference/datamodel.html#basic-customization) section of the Data Model reference.\n",
        "\n",
        "Each comparison operator maps to a method, as listed. E.g., `x<y` calls `x.__lt__(y)`, etc.\n",
        "\n",
        "The example below shows part of the `Event` class in my [discrete event simulator, DE-Sim](https://github.com/KarrLab/de_sim). The simulator must execute events in non-decreasing time order. (Concurrent events are allowed).\n",
        "\n",
        "To efficiently achieve this, `Events` are stored in a priority queue (provided by the [`heapq`](https://docs.python.org/3/library/heapq.html) package) which keeps the event with the lowest time at the start of the queue. "
      ]
    },
    {
      "cell_type": "code",
      "metadata": {
        "id": "hJO9IGhlvmVE",
        "colab_type": "code",
        "outputId": "7190cd09-898f-4e64-84db-72fa8e3f5d7b",
        "colab": {
          "base_uri": "https://localhost:8080/",
          "height": 34
        }
      },
      "source": [
        "class Event(object):\n",
        "    \"\"\" An object that holds a discrete event simulation (DES) event\n",
        "\n",
        "    Each DES event is scheduled by creating an `Event` instance and storing it in the\n",
        "    simulator's event queue. To reduce interface errors the `message`\n",
        "    attribute must be structured as specified in the `message_types` module.\n",
        "\n",
        "    Attributes:\n",
        "        creation_time (:obj:`float`): simulation time when the event is created (aka `send_time`)\n",
        "        event_time (:obj:`float`): simulation time when the event must be executed (aka `receive_time`)\n",
        "        sending_object (:obj:`SimulationObject`): reference to the object that sends the event\n",
        "        receiving_object (:obj:`SimulationObject`): reference to the object that receives\n",
        "            (aka executes) the event\n",
        "        message (:obj:`SimulationMessage`): a `SimulationMessage` carried by the event; its type\n",
        "            provides the simulation application's type for an `Event`; it may also carry a payload\n",
        "            for the `Event` in its attributes.\n",
        "    \"\"\"\n",
        "\n",
        "    def __init__(self, creation_time, event_time, sending_object, receiving_object, message):\n",
        "        self.creation_time = creation_time\n",
        "        self.event_time = event_time\n",
        "        self.sending_object = sending_object\n",
        "        self.receiving_object = receiving_object\n",
        "        self.message = message\n",
        "\n",
        "    def __lt__(self, other):\n",
        "        \"\"\" Does this `Event` occur earlier than `other`?\n",
        "\n",
        "        Args:\n",
        "            other (:obj:`Event`): another `Event`\n",
        "\n",
        "        Returns:\n",
        "            :obj:`bool`: `True` if this `Event` occurs earlier than `other`\n",
        "        \"\"\"\n",
        "        return self.event_time < other.event_time\n",
        "\n",
        "    def __le__(self, other):\n",
        "        \"\"\" Does this `Event` occur earlier or at the same time as `other`?\n",
        "\n",
        "        Args:\n",
        "            other (:obj:`Event`): another `Event`\n",
        "\n",
        "        Returns:\n",
        "            :obj:`bool`: `True` if this `Event` occurs earlier or at the same time as `other`\n",
        "        \"\"\"\n",
        "        return not (other < self)\n",
        "\n",
        "    def __gt__(self, other):\n",
        "        \"\"\" Does this `Event` occur later than `other`?\n",
        "\n",
        "        Args:\n",
        "            other (:obj:`Event`): another `Event`\n",
        "\n",
        "        Returns:\n",
        "            :obj:`bool`: `True` if this `Event` occurs later than `other`\n",
        "        \"\"\"\n",
        "        return self.event_time > other.event_time\n",
        "\n",
        "    def __ge__(self, other):\n",
        "        \"\"\" Does this `Event` occur later or at the same time as `other`?\n",
        "\n",
        "        Args:\n",
        "            other (:obj:`Event`): another `Event`\n",
        "\n",
        "        Returns:\n",
        "            :obj:`bool`: `True` if this `Event` occurs later or at the same time as `other`\n",
        "        \"\"\"\n",
        "        return not (self < other)\n",
        "\n",
        "def make_event(event_time):\n",
        "    # For demo purposes, make an Event that contains only event_time\n",
        "    # (self, creation_time, event_time, sending_object, receiving_object, message)\n",
        "    return Event(None, event_time, None, None, None)\n",
        "\n",
        "e2 = make_event(2)\n",
        "e4 = make_event(4)\n",
        "# try all rich comparison methods\n",
        "assert e2 < e4\n",
        "assert e4 > e2\n",
        "assert e2 <= e4\n",
        "assert e4 >= e2\n",
        "# expect no exceptions"
      ],
      "execution_count": 0,
      "outputs": [
        {
          "output_type": "execute_result",
          "data": {
            "text/plain": [
              "True"
            ]
          },
          "metadata": {
            "tags": []
          },
          "execution_count": 9
        }
      ]
    },
    {
      "cell_type": "markdown",
      "metadata": {
        "id": "ILr4X3wfTJpM",
        "colab_type": "text"
      },
      "source": [
        "Let's use `Event` in a priority queue as it would be used by a discrete event simulator."
      ]
    },
    {
      "cell_type": "code",
      "metadata": {
        "id": "1mNXWcamCNjp",
        "colab_type": "code",
        "outputId": "7c3084a3-4964-4a18-8cd7-50861ce7e23e",
        "colab": {
          "base_uri": "https://localhost:8080/",
          "height": 306
        }
      },
      "source": [
        "import heapq\n",
        "\n",
        "event_queue = []\n",
        "# initialze the event queue with some events\n",
        "for et in [3, 7, 1, 11, 9]:\n",
        "    heapq.heappush(event_queue, make_event(et))\n",
        "\n",
        "def times(event_queue):\n",
        "    return [e.event_time for e in event_queue]\n",
        "\n",
        "print('initial queue', times(event_queue))\n",
        "\n",
        "# Act like a simulator, repeatedly removing the smallest event and adding a new event.\n",
        "# I'm being careful to avoid scheduling an event at a time that's earlier than\n",
        "# an event that's already executed.\n",
        "for new_et in [6, 7, 10, 20, 22]:\n",
        "    next_event = heapq.heappop(event_queue)\n",
        "    print('execute event at ', next_event.event_time)\n",
        "    print('schedule event at ', new_et)\n",
        "    heapq.heappush(event_queue, make_event(new_et))\n",
        "    print('start of queue', event_queue[0].event_time)\n",
        "print('final queue', times(event_queue))\n"
      ],
      "execution_count": 0,
      "outputs": [
        {
          "output_type": "stream",
          "text": [
            "initial queue [1, 7, 3, 11, 9]\n",
            "execute event at  1\n",
            "schedule event at  6\n",
            "start of queue 3\n",
            "execute event at  3\n",
            "schedule event at  7\n",
            "start of queue 6\n",
            "execute event at  6\n",
            "schedule event at  10\n",
            "start of queue 7\n",
            "execute event at  7\n",
            "schedule event at  20\n",
            "start of queue 7\n",
            "execute event at  7\n",
            "schedule event at  22\n",
            "start of queue 9\n",
            "final queue [9, 10, 20, 11, 22]\n"
          ],
          "name": "stdout"
        }
      ]
    },
    {
      "cell_type": "markdown",
      "metadata": {
        "id": "HXaI8Os2QC2h",
        "colab_type": "text"
      },
      "source": [
        "Questions for students: which rich comparison methods are missing from `Event`? What happens when you invoke the corresponding comparison operators? Why?\n",
        "Why is it OK that these comparison methods are not implemented in `Event`?"
      ]
    },
    {
      "cell_type": "code",
      "metadata": {
        "id": "jYyZL0OfWXu6",
        "colab_type": "code",
        "outputId": "c858dc45-d2f3-4437-da73-62c2ca821fb8",
        "colab": {
          "base_uri": "https://localhost:8080/",
          "height": 34
        }
      },
      "source": [
        "e2 == e4"
      ],
      "execution_count": 0,
      "outputs": [
        {
          "output_type": "execute_result",
          "data": {
            "text/plain": [
              "False"
            ]
          },
          "metadata": {
            "tags": []
          },
          "execution_count": 28
        }
      ]
    },
    {
      "cell_type": "code",
      "metadata": {
        "id": "ySM3n2K8WmRR",
        "colab_type": "code",
        "outputId": "8fa4d48e-6d65-451a-e901-e795fbd63520",
        "colab": {
          "base_uri": "https://localhost:8080/",
          "height": 34
        }
      },
      "source": [
        "e2 == e2"
      ],
      "execution_count": 0,
      "outputs": [
        {
          "output_type": "execute_result",
          "data": {
            "text/plain": [
              "True"
            ]
          },
          "metadata": {
            "tags": []
          },
          "execution_count": 29
        }
      ]
    },
    {
      "cell_type": "code",
      "metadata": {
        "id": "IIF4EsJxWqJx",
        "colab_type": "code",
        "outputId": "e1a331e0-7b60-47b4-887c-74b429169ca3",
        "colab": {
          "base_uri": "https://localhost:8080/",
          "height": 34
        }
      },
      "source": [
        "e2 != e4"
      ],
      "execution_count": 0,
      "outputs": [
        {
          "output_type": "execute_result",
          "data": {
            "text/plain": [
              "True"
            ]
          },
          "metadata": {
            "tags": []
          },
          "execution_count": 30
        }
      ]
    },
    {
      "cell_type": "code",
      "metadata": {
        "id": "8pUmmzQ6XEZ_",
        "colab_type": "code",
        "colab": {}
      },
      "source": [
        "class F(object):\n",
        "    pass\n",
        "\n",
        "f1 = F()\n",
        "f2 = F()\n",
        "assert f1 == f1\n",
        "assert f1 != f2\n",
        "# no output expected"
      ],
      "execution_count": 0,
      "outputs": []
    }
  ]
}