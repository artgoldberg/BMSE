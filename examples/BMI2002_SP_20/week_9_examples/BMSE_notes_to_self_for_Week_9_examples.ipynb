{
  "nbformat": 4,
  "nbformat_minor": 0,
  "metadata": {
    "colab": {
      "name": "BMSE notes to self for Week 9 examples.ipynb",
      "provenance": []
    },
    "kernelspec": {
      "name": "python3",
      "display_name": "Python 3"
    }
  },
  "cells": [
    {
      "cell_type": "markdown",
      "metadata": {
        "id": "GOARXyD39Kjl",
        "colab_type": "text"
      },
      "source": [
        "### All lines in program can be executed without executing all branches"
      ]
    },
    {
      "cell_type": "code",
      "metadata": {
        "id": "qb7k6Ril9cd8",
        "colab_type": "code",
        "outputId": "6316acbc-570b-48ea-c3af-ed8938c73c59",
        "colab": {
          "base_uri": "https://localhost:8080/",
          "height": 35
        }
      },
      "source": [
        "# Example 1\n",
        "c = True\n",
        "while c:\n",
        "  print('in while')\n",
        "  break"
      ],
      "execution_count": 0,
      "outputs": [
        {
          "output_type": "stream",
          "text": [
            "in while\n"
          ],
          "name": "stdout"
        }
      ]
    },
    {
      "cell_type": "code",
      "metadata": {
        "id": "USFBpUj5-D8w",
        "colab_type": "code",
        "outputId": "c3dc9ceb-0493-400d-fdad-d1ba035d5087",
        "colab": {
          "base_uri": "https://localhost:8080/",
          "height": 35
        }
      },
      "source": [
        "# Example 2\n",
        "def f(c):\n",
        "  if not c:\n",
        "    print('in f')\n",
        "    return\n",
        "f(False)"
      ],
      "execution_count": 0,
      "outputs": [
        {
          "output_type": "stream",
          "text": [
            "in f\n"
          ],
          "name": "stdout"
        }
      ]
    },
    {
      "cell_type": "markdown",
      "metadata": {
        "id": "Rwjo6mJJKVQt",
        "colab_type": "text"
      },
      "source": [
        "Branches that will never execute can be communicated to `coverage` by `# pragma: no branch`"
      ]
    },
    {
      "cell_type": "code",
      "metadata": {
        "id": "shM1y5ZCO3i-",
        "colab_type": "code",
        "colab": {}
      },
      "source": [
        "# Question for students: what assert test can we add to test the branch being missed, but not reported by coverage?:\n",
        "# self.assertNotIn('eat', f2(False))"
      ],
      "execution_count": 0,
      "outputs": []
    },
    {
      "cell_type": "code",
      "metadata": {
        "id": "nUGSJOn_ZCKL",
        "colab_type": "code",
        "outputId": "d09b99c1-e677-4979-ab7a-3a2ed5a70a1b",
        "colab": {
          "base_uri": "https://localhost:8080/",
          "height": 187
        }
      },
      "source": [
        "def fibonacci():\n",
        "  prev_prev = 0\n",
        "  yield prev_prev\n",
        "  prev = 1\n",
        "  yield prev\n",
        "  while True:\n",
        "    next = prev_prev + prev\n",
        "    prev_prev, prev = prev, next\n",
        "    yield next\n",
        "\n",
        "f = fibonacci()\n",
        "for _ in range(10):\n",
        "  print(f.__next__())"
      ],
      "execution_count": 0,
      "outputs": [
        {
          "output_type": "stream",
          "text": [
            "0\n",
            "1\n",
            "1\n",
            "2\n",
            "3\n",
            "5\n",
            "8\n",
            "13\n",
            "21\n",
            "34\n"
          ],
          "name": "stdout"
        }
      ]
    },
    {
      "cell_type": "markdown",
      "metadata": {
        "id": "IDMJayLAOytI",
        "colab_type": "text"
      },
      "source": [
        "What happens when you invoke the corresponding comparison operators? Why?\n",
        "\n",
        "All classes subclass `object`. Therefore, they use the default rich comparison methods implemented by `object`. It does this:"
      ]
    },
    {
      "cell_type": "code",
      "metadata": {
        "id": "jk3gnxtnRQfO",
        "colab_type": "code",
        "outputId": "1e30d685-50e3-4d1a-8dc7-014511eb2320",
        "colab": {
          "base_uri": "https://localhost:8080/",
          "height": 102
        }
      },
      "source": [
        "class F(object):\n",
        "\n",
        "  def __eq__(self, other):\n",
        "      return id(self) == id(other)\n",
        "\n",
        "  def __ne__(self, other):\n",
        "      return id(self) != id(other)\n",
        "\n",
        "f = F()\n",
        "print(f == f)\n",
        "print(f != f)\n",
        "f2 = F()\n",
        "print(f == f2)\n",
        "print(f != f2)\n",
        "f is f"
      ],
      "execution_count": 0,
      "outputs": [
        {
          "output_type": "stream",
          "text": [
            "True\n",
            "False\n",
            "False\n",
            "True\n"
          ],
          "name": "stdout"
        },
        {
          "output_type": "execute_result",
          "data": {
            "text/plain": [
              "True"
            ]
          },
          "metadata": {
            "tags": []
          },
          "execution_count": 8
        }
      ]
    },
    {
      "cell_type": "markdown",
      "metadata": {
        "id": "DGVYMcBdSalS",
        "colab_type": "text"
      },
      "source": [
        "[`id(object)`](https://docs.python.org/3/library/functions.html#id) is a built-in function that returns the identity of `object`, an integer which is guaranteed to be unique and constant for this object during its lifetime. The C python implementation, Cython, returns the object's address."
      ]
    },
    {
      "cell_type": "code",
      "metadata": {
        "id": "OEgynum6YWBI",
        "colab_type": "code",
        "outputId": "367f1a2e-2945-4675-af54-89ac17fa5396",
        "colab": {
          "base_uri": "https://localhost:8080/",
          "height": 34
        }
      },
      "source": [
        "id(2)\n",
        "id(1564654)"
      ],
      "execution_count": 0,
      "outputs": [
        {
          "output_type": "execute_result",
          "data": {
            "text/plain": [
              "139740335743088"
            ]
          },
          "metadata": {
            "tags": []
          },
          "execution_count": 10
        }
      ]
    }
  ]
}