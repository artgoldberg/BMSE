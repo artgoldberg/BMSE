{
 "cells": [
  {
   "cell_type": "markdown",
   "metadata": {
    "deletable": true,
    "editable": true
   },
   "source": [
    "# Modules advanced"
   ]
  },
  {
   "cell_type": "markdown",
   "metadata": {
    "deletable": true,
    "editable": true
   },
   "source": [
    "## Make code that reads a protein database"
   ]
  },
  {
   "cell_type": "code",
   "execution_count": 2,
   "metadata": {
    "collapsed": false,
    "deletable": true,
    "editable": true
   },
   "outputs": [
    {
     "name": "stdout",
     "output_type": "stream",
     "text": [
      "(19109, 48)\n"
     ]
    },
    {
     "data": {
      "text/plain": [
       "[Index(['A1BG', 'A1CF', 'A2M', 'A2ML1', 'A3GALT2', 'A4GALT', 'A4GNT', 'AAAS',\n",
       "        'AACS', 'AADAC',\n",
       "        ...\n",
       "        'ZWILCH', 'ZWINT', 'ZXDA', 'ZXDB', 'ZXDC', 'ZYG11A', 'ZYG11B', 'ZYX',\n",
       "        'ZZEF1', 'ZZZ3'],\n",
       "       dtype='object', name='symbol', length=19109),\n",
       " Index(['hgnc_id', 'name', 'locus_group', 'locus_type', 'status', 'location',\n",
       "        'location_sortable', 'alias_symbol', 'alias_name', 'prev_symbol',\n",
       "        'prev_name', 'gene_family', 'gene_family_id', 'date_approved_reserved',\n",
       "        'date_symbol_changed', 'date_name_changed', 'date_modified',\n",
       "        'entrez_id', 'ensembl_gene_id', 'vega_id', 'ucsc_id', 'ena',\n",
       "        'refseq_accession', 'ccds_id', 'uniprot_ids', 'pubmed_id', 'mgd_id',\n",
       "        'rgd_id', 'lsdb', 'cosmic', 'omim_id', 'mirbase', 'homeodb',\n",
       "        'snornabase', 'bioparadigms_slc', 'orphanet', 'pseudogene.org',\n",
       "        'horde_id', 'merops', 'imgt', 'iuphar', 'kznf_gene_catalog',\n",
       "        'mamit-trnadb', 'cd', 'lncrnadb', 'enzyme_id',\n",
       "        'intermediate_filament_db', 'rna_central_ids'],\n",
       "       dtype='object')]"
      ]
     },
     "execution_count": 2,
     "metadata": {},
     "output_type": "execute_result"
    }
   ],
   "source": [
    "%load_ext autoreload\n",
    "%autoreload 2\n",
    "\n",
    "# Obtain Human Genome Organisation (HUGO) Gene Nomenclature Committee (HGNC) protein DBMS\n",
    "# from ftp://ftp.ebi.ac.uk/pub/databases/genenames/new/tsv/locus_groups/protein-coding_gene.txt\n",
    "# and rename the protein-coding_gene.txt to protein_dbms_file below\n",
    "\n",
    "import pandas\n",
    "\n",
    "protein_dbms_file = 'HGNC_protein-coding_gene.tsv'\n",
    "protein_dbms = pandas.read_table(protein_dbms_file, index_col=1, low_memory=False, )\n",
    "print(protein_dbms.shape)\n",
    "protein_dbms.axes"
   ]
  },
  {
   "cell_type": "code",
   "execution_count": 3,
   "metadata": {
    "collapsed": false,
    "deletable": true,
    "editable": true
   },
   "outputs": [
    {
     "data": {
      "text/html": [
       "<div>\n",
       "<style>\n",
       "    .dataframe thead tr:only-child th {\n",
       "        text-align: right;\n",
       "    }\n",
       "\n",
       "    .dataframe thead th {\n",
       "        text-align: left;\n",
       "    }\n",
       "\n",
       "    .dataframe tbody tr th {\n",
       "        vertical-align: top;\n",
       "    }\n",
       "</style>\n",
       "<table border=\"1\" class=\"dataframe\">\n",
       "  <thead>\n",
       "    <tr style=\"text-align: right;\">\n",
       "      <th></th>\n",
       "      <th>hgnc_id</th>\n",
       "      <th>name</th>\n",
       "      <th>locus_group</th>\n",
       "      <th>locus_type</th>\n",
       "      <th>status</th>\n",
       "      <th>location</th>\n",
       "      <th>location_sortable</th>\n",
       "      <th>alias_symbol</th>\n",
       "      <th>alias_name</th>\n",
       "      <th>prev_symbol</th>\n",
       "      <th>...</th>\n",
       "      <th>merops</th>\n",
       "      <th>imgt</th>\n",
       "      <th>iuphar</th>\n",
       "      <th>kznf_gene_catalog</th>\n",
       "      <th>mamit-trnadb</th>\n",
       "      <th>cd</th>\n",
       "      <th>lncrnadb</th>\n",
       "      <th>enzyme_id</th>\n",
       "      <th>intermediate_filament_db</th>\n",
       "      <th>rna_central_ids</th>\n",
       "    </tr>\n",
       "    <tr>\n",
       "      <th>symbol</th>\n",
       "      <th></th>\n",
       "      <th></th>\n",
       "      <th></th>\n",
       "      <th></th>\n",
       "      <th></th>\n",
       "      <th></th>\n",
       "      <th></th>\n",
       "      <th></th>\n",
       "      <th></th>\n",
       "      <th></th>\n",
       "      <th></th>\n",
       "      <th></th>\n",
       "      <th></th>\n",
       "      <th></th>\n",
       "      <th></th>\n",
       "      <th></th>\n",
       "      <th></th>\n",
       "      <th></th>\n",
       "      <th></th>\n",
       "      <th></th>\n",
       "      <th></th>\n",
       "    </tr>\n",
       "  </thead>\n",
       "  <tbody>\n",
       "    <tr>\n",
       "      <th>A1BG</th>\n",
       "      <td>HGNC:5</td>\n",
       "      <td>alpha-1-B glycoprotein</td>\n",
       "      <td>protein-coding gene</td>\n",
       "      <td>gene with protein product</td>\n",
       "      <td>Approved</td>\n",
       "      <td>19q13.43</td>\n",
       "      <td>19q13.43</td>\n",
       "      <td>NaN</td>\n",
       "      <td>NaN</td>\n",
       "      <td>NaN</td>\n",
       "      <td>...</td>\n",
       "      <td>I43.950</td>\n",
       "      <td>NaN</td>\n",
       "      <td>NaN</td>\n",
       "      <td>NaN</td>\n",
       "      <td>NaN</td>\n",
       "      <td>NaN</td>\n",
       "      <td>NaN</td>\n",
       "      <td>NaN</td>\n",
       "      <td>NaN</td>\n",
       "      <td>NaN</td>\n",
       "    </tr>\n",
       "    <tr>\n",
       "      <th>A1CF</th>\n",
       "      <td>HGNC:24086</td>\n",
       "      <td>APOBEC1 complementation factor</td>\n",
       "      <td>protein-coding gene</td>\n",
       "      <td>gene with protein product</td>\n",
       "      <td>Approved</td>\n",
       "      <td>10q11.23</td>\n",
       "      <td>10q11.23</td>\n",
       "      <td>ACF|ASP|ACF64|ACF65|APOBEC1CF</td>\n",
       "      <td>NaN</td>\n",
       "      <td>NaN</td>\n",
       "      <td>...</td>\n",
       "      <td>NaN</td>\n",
       "      <td>NaN</td>\n",
       "      <td>NaN</td>\n",
       "      <td>NaN</td>\n",
       "      <td>NaN</td>\n",
       "      <td>NaN</td>\n",
       "      <td>NaN</td>\n",
       "      <td>NaN</td>\n",
       "      <td>NaN</td>\n",
       "      <td>NaN</td>\n",
       "    </tr>\n",
       "    <tr>\n",
       "      <th>A2M</th>\n",
       "      <td>HGNC:7</td>\n",
       "      <td>alpha-2-macroglobulin</td>\n",
       "      <td>protein-coding gene</td>\n",
       "      <td>gene with protein product</td>\n",
       "      <td>Approved</td>\n",
       "      <td>12p13.31</td>\n",
       "      <td>12p13.31</td>\n",
       "      <td>FWP007|S863-7|CPAMD5</td>\n",
       "      <td>NaN</td>\n",
       "      <td>NaN</td>\n",
       "      <td>...</td>\n",
       "      <td>I39.001</td>\n",
       "      <td>NaN</td>\n",
       "      <td>NaN</td>\n",
       "      <td>NaN</td>\n",
       "      <td>NaN</td>\n",
       "      <td>NaN</td>\n",
       "      <td>NaN</td>\n",
       "      <td>NaN</td>\n",
       "      <td>NaN</td>\n",
       "      <td>NaN</td>\n",
       "    </tr>\n",
       "  </tbody>\n",
       "</table>\n",
       "<p>3 rows × 48 columns</p>\n",
       "</div>"
      ],
      "text/plain": [
       "           hgnc_id                            name          locus_group  \\\n",
       "symbol                                                                    \n",
       "A1BG        HGNC:5          alpha-1-B glycoprotein  protein-coding gene   \n",
       "A1CF    HGNC:24086  APOBEC1 complementation factor  protein-coding gene   \n",
       "A2M         HGNC:7           alpha-2-macroglobulin  protein-coding gene   \n",
       "\n",
       "                       locus_type    status  location location_sortable  \\\n",
       "symbol                                                                    \n",
       "A1BG    gene with protein product  Approved  19q13.43          19q13.43   \n",
       "A1CF    gene with protein product  Approved  10q11.23          10q11.23   \n",
       "A2M     gene with protein product  Approved  12p13.31          12p13.31   \n",
       "\n",
       "                         alias_symbol alias_name prev_symbol       ...        \\\n",
       "symbol                                                             ...         \n",
       "A1BG                              NaN        NaN         NaN       ...         \n",
       "A1CF    ACF|ASP|ACF64|ACF65|APOBEC1CF        NaN         NaN       ...         \n",
       "A2M              FWP007|S863-7|CPAMD5        NaN         NaN       ...         \n",
       "\n",
       "         merops imgt iuphar kznf_gene_catalog mamit-trnadb   cd lncrnadb  \\\n",
       "symbol                                                                     \n",
       "A1BG    I43.950  NaN    NaN               NaN          NaN  NaN      NaN   \n",
       "A1CF        NaN  NaN    NaN               NaN          NaN  NaN      NaN   \n",
       "A2M     I39.001  NaN    NaN               NaN          NaN  NaN      NaN   \n",
       "\n",
       "        enzyme_id intermediate_filament_db rna_central_ids  \n",
       "symbol                                                      \n",
       "A1BG          NaN                      NaN             NaN  \n",
       "A1CF          NaN                      NaN             NaN  \n",
       "A2M           NaN                      NaN             NaN  \n",
       "\n",
       "[3 rows x 48 columns]"
      ]
     },
     "execution_count": 3,
     "metadata": {},
     "output_type": "execute_result"
    }
   ],
   "source": [
    "# output the first 3 rows of the HGNC protein DBMS\n",
    "protein_dbms.head(3)"
   ]
  },
  {
   "cell_type": "code",
   "execution_count": 4,
   "metadata": {
    "collapsed": false,
    "deletable": true,
    "editable": true
   },
   "outputs": [
    {
     "data": {
      "text/plain": [
       "hgnc_id                                                             HGNC:9588\n",
       "name                                           phosphatase and tensin homolog\n",
       "locus_group                                               protein-coding gene\n",
       "locus_type                                          gene with protein product\n",
       "status                                                               Approved\n",
       "location                                                             10q23.31\n",
       "location_sortable                                                    10q23.31\n",
       "alias_symbol                                                 MMAC1|TEP1|PTEN1\n",
       "alias_name                             mutated in multiple advanced cancers 1\n",
       "prev_symbol                                                          BZS|MHAM\n",
       "prev_name                                                                 NaN\n",
       "gene_family                 C2 tensin-type domain containing|PTEN protein ...\n",
       "gene_family_id                                                   837|902|1079\n",
       "date_approved_reserved                                             1997-04-21\n",
       "date_symbol_changed                                                       NaN\n",
       "date_name_changed                                                  2008-07-31\n",
       "date_modified                                                      2017-03-24\n",
       "entrez_id                                                                5728\n",
       "ensembl_gene_id                                               ENSG00000171862\n",
       "vega_id                                                    OTTHUMG00000018688\n",
       "ucsc_id                                                            uc001kfb.4\n",
       "ena                                                                    U92436\n",
       "refseq_accession                                                    NM_000314\n",
       "ccds_id                                                             CCDS31238\n",
       "uniprot_ids                                                            P60484\n",
       "pubmed_id                                                             9090379\n",
       "mgd_id                                                             MGI:109583\n",
       "rgd_id                                                              RGD:61995\n",
       "lsdb                          LRG_311|http://www.lrg-sequence.org/LRG/LRG_311\n",
       "cosmic                                                                   PTEN\n",
       "omim_id                                                                601728\n",
       "mirbase                                                                   NaN\n",
       "homeodb                                                                   NaN\n",
       "snornabase                                                                NaN\n",
       "bioparadigms_slc                                                          NaN\n",
       "orphanet                                                               118128\n",
       "pseudogene.org                                                            NaN\n",
       "horde_id                                                                  NaN\n",
       "merops                                                                    NaN\n",
       "imgt                                                                      NaN\n",
       "iuphar                                                          objectId:2497\n",
       "kznf_gene_catalog                                                         NaN\n",
       "mamit-trnadb                                                              NaN\n",
       "cd                                                                        NaN\n",
       "lncrnadb                                                                  NaN\n",
       "enzyme_id                                          3.1.3.16|3.1.3.48|3.1.3.67\n",
       "intermediate_filament_db                                                  NaN\n",
       "rna_central_ids                                                           NaN\n",
       "Name: PTEN, dtype: object"
      ]
     },
     "execution_count": 4,
     "metadata": {},
     "output_type": "execute_result"
    }
   ],
   "source": [
    "# obtain a dictionary for the protein PTEN\n",
    "protein_dbms.loc['PTEN']"
   ]
  },
  {
   "cell_type": "markdown",
   "metadata": {
    "deletable": true,
    "editable": true
   },
   "source": [
    "### Make 'gene_metadata', a module that provides this protein information"
   ]
  },
  {
   "cell_type": "code",
   "execution_count": 5,
   "metadata": {
    "collapsed": false,
    "deletable": true,
    "editable": true
   },
   "outputs": [
    {
     "name": "stdout",
     "output_type": "stream",
     "text": [
      "Overwriting gene_metadata.py\n"
     ]
    }
   ],
   "source": [
    "%%writefile gene_metadata.py\n",
    "# the line above tells Jupyter to write this cell to the file gene_metadata.py\n",
    "\n",
    "import pandas\n",
    "protein_dbms_file = 'HGNC_protein-coding_gene.tsv'\n",
    "protein_dbms = pandas.read_table(protein_dbms_file, index_col=1, low_memory=False, )\n",
    "\n",
    "def get_protein(protein_name):\n",
    "    # get meta information about `protein_name`\n",
    "    return protein_dbms.loc[protein_name]"
   ]
  },
  {
   "cell_type": "code",
   "execution_count": 6,
   "metadata": {
    "collapsed": false,
    "deletable": true,
    "editable": true
   },
   "outputs": [
    {
     "data": {
      "text/plain": [
       "hgnc_id                                                             HGNC:9588\n",
       "name                                           phosphatase and tensin homolog\n",
       "locus_group                                               protein-coding gene\n",
       "locus_type                                          gene with protein product\n",
       "status                                                               Approved\n",
       "location                                                             10q23.31\n",
       "location_sortable                                                    10q23.31\n",
       "alias_symbol                                                 MMAC1|TEP1|PTEN1\n",
       "alias_name                             mutated in multiple advanced cancers 1\n",
       "prev_symbol                                                          BZS|MHAM\n",
       "prev_name                                                                 NaN\n",
       "gene_family                 C2 tensin-type domain containing|PTEN protein ...\n",
       "gene_family_id                                                   837|902|1079\n",
       "date_approved_reserved                                             1997-04-21\n",
       "date_symbol_changed                                                       NaN\n",
       "date_name_changed                                                  2008-07-31\n",
       "date_modified                                                      2017-03-24\n",
       "entrez_id                                                                5728\n",
       "ensembl_gene_id                                               ENSG00000171862\n",
       "vega_id                                                    OTTHUMG00000018688\n",
       "ucsc_id                                                            uc001kfb.4\n",
       "ena                                                                    U92436\n",
       "refseq_accession                                                    NM_000314\n",
       "ccds_id                                                             CCDS31238\n",
       "uniprot_ids                                                            P60484\n",
       "pubmed_id                                                             9090379\n",
       "mgd_id                                                             MGI:109583\n",
       "rgd_id                                                              RGD:61995\n",
       "lsdb                          LRG_311|http://www.lrg-sequence.org/LRG/LRG_311\n",
       "cosmic                                                                   PTEN\n",
       "omim_id                                                                601728\n",
       "mirbase                                                                   NaN\n",
       "homeodb                                                                   NaN\n",
       "snornabase                                                                NaN\n",
       "bioparadigms_slc                                                          NaN\n",
       "orphanet                                                               118128\n",
       "pseudogene.org                                                            NaN\n",
       "horde_id                                                                  NaN\n",
       "merops                                                                    NaN\n",
       "imgt                                                                      NaN\n",
       "iuphar                                                          objectId:2497\n",
       "kznf_gene_catalog                                                         NaN\n",
       "mamit-trnadb                                                              NaN\n",
       "cd                                                                        NaN\n",
       "lncrnadb                                                                  NaN\n",
       "enzyme_id                                          3.1.3.16|3.1.3.48|3.1.3.67\n",
       "intermediate_filament_db                                                  NaN\n",
       "rna_central_ids                                                           NaN\n",
       "Name: PTEN, dtype: object"
      ]
     },
     "execution_count": 6,
     "metadata": {},
     "output_type": "execute_result"
    }
   ],
   "source": [
    "import gene_metadata\n",
    "gene_metadata.get_protein('PTEN')"
   ]
  },
  {
   "cell_type": "code",
   "execution_count": 5,
   "metadata": {
    "collapsed": false,
    "deletable": true,
    "editable": true
   },
   "outputs": [
    {
     "name": "stdout",
     "output_type": "stream",
     "text": [
      "MYC locus_type: gene with protein product\n"
     ]
    }
   ],
   "source": [
    "from gene_metadata import get_protein\n",
    "print('MYC locus_type:', get_protein('MYC')['locus_type'])"
   ]
  },
  {
   "cell_type": "markdown",
   "metadata": {},
   "source": [
    "### get_protein() fails on lowercase gene names"
   ]
  },
  {
   "cell_type": "code",
   "execution_count": 6,
   "metadata": {
    "collapsed": false,
    "deletable": true,
    "editable": true
   },
   "outputs": [
    {
     "name": "stdout",
     "output_type": "stream",
     "text": [
      "cannot find 'myc'\n"
     ]
    }
   ],
   "source": [
    "from gene_metadata import get_protein\n",
    "\n",
    "try:\n",
    "    print('MYC locus_type:', get_protein('myc')['locus_type'])\n",
    "except KeyError:\n",
    "    print(\"cannot find 'myc'\")"
   ]
  },
  {
   "cell_type": "markdown",
   "metadata": {},
   "source": [
    "### Put a module in the subdirectory 'test'"
   ]
  },
  {
   "cell_type": "code",
   "execution_count": 7,
   "metadata": {
    "collapsed": false,
    "deletable": true,
    "editable": true
   },
   "outputs": [
    {
     "name": "stdout",
     "output_type": "stream",
     "text": [
      "Overwriting test/toupper.py\n"
     ]
    }
   ],
   "source": [
    "%%writefile test/toupper.py\n",
    "\n",
    "def toupper(s):\n",
    "    # return upper case transform of `s`\n",
    "    return s.upper()"
   ]
  },
  {
   "cell_type": "markdown",
   "metadata": {},
   "source": [
    "### Try to use it; after creating 'test/__init__.py' the import of toupper will work"
   ]
  },
  {
   "cell_type": "code",
   "execution_count": 7,
   "metadata": {
    "collapsed": false,
    "deletable": true,
    "editable": true
   },
   "outputs": [
    {
     "name": "stdout",
     "output_type": "stream",
     "text": [
      "MYC locus_type: gene with protein product\n"
     ]
    }
   ],
   "source": [
    "# need to have __init__.py in test/ for this to work\n",
    "\n",
    "from gene_metadata import get_protein\n",
    "from test.toupper import toupper\n",
    "print('MYC locus_type:', get_protein(toupper('myc'))['locus_type'])"
   ]
  }
 ],
 "metadata": {
  "kernelspec": {
   "display_name": "Python 3",
   "language": "python",
   "name": "python3"
  },
  "language_info": {
   "codemirror_mode": {
    "name": "ipython",
    "version": 3
   },
   "file_extension": ".py",
   "mimetype": "text/x-python",
   "name": "python",
   "nbconvert_exporter": "python",
   "pygments_lexer": "ipython3",
   "version": "3.5.4"
  }
 },
 "nbformat": 4,
 "nbformat_minor": 2
}
