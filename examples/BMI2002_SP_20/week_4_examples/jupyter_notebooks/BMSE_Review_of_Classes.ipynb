{
  "nbformat": 4,
  "nbformat_minor": 0,
  "metadata": {
    "kernelspec": {
      "display_name": "Python 3",
      "language": "python",
      "name": "python3"
    },
    "language_info": {
      "codemirror_mode": {
        "name": "ipython",
        "version": 3
      },
      "file_extension": ".py",
      "mimetype": "text/x-python",
      "name": "python",
      "nbconvert_exporter": "python",
      "pygments_lexer": "ipython3",
      "version": "3.6.5"
    },
    "colab": {
      "name": "BMSE Review of Classes.ipynb",
      "provenance": [],
      "collapsed_sections": []
    }
  },
  "cells": [
    {
      "cell_type": "markdown",
      "metadata": {
        "id": "c-EUwrPHmUAq",
        "colab_type": "text"
      },
      "source": [
        "**Biomedical Software Engineering**\n",
        "\n",
        "**Prof. Arthur Goldberg**\n",
        "\n",
        "**Dept. Genetics and Genomic Sciences**\n",
        "\n",
        "**Spring 1, 2020**\n",
        "\n",
        "# Review of Python classes"
      ]
    },
    {
      "cell_type": "markdown",
      "metadata": {
        "id": "beY2wytZmUAt",
        "colab_type": "text"
      },
      "source": [
        "A `class` combines code and data. This notebook covers the main features of Python classes.\n",
        "\n",
        "This example declares and uses a class called `Person`. Note the following:\n",
        "+ Class definitions begin with the keyword `class`.\n",
        "+ Every Python class *inherits* functionality from at least one *base* class; in this example the base class is Python's built-in `object` class; we will return to inheritance later.\n",
        "+ A class definition may contain arbitrarily many functions, which are called *methods*.\n",
        "+ The name of a class becomes a `constructor` that creates and returns *instances* (individual *objects*) of the class.\n",
        "+ A class' `__init__` function defines the constructor's initialization behavior -- its parameters and code.\n",
        "+ In a class' method definitions, the first parameter is, by convention, `self`, which refers to the class' instance.\n",
        "+ The construct `self.name` refers to an *attribute* of a class; attributes can be written and read, and store data and functions (which are data themselves).\n",
        "+ By convention ([PEP8](https://www.python.org/dev/peps/pep-0008/?)) class names are written in `CamelCase` style, whereas methods and attributes are written in `lower_case_with_underscore` style.\n",
        "\n",
        "Also note that executing a Jupyter cell prints the return value of the last statement in the cell."
      ]
    },
    {
      "cell_type": "code",
      "metadata": {
        "id": "1LJriH4hmUAv",
        "colab_type": "code",
        "outputId": "f324a7f3-7f6e-4895-8068-a7bd41d7df15",
        "colab": {
          "base_uri": "https://localhost:8080/",
          "height": 52
        }
      },
      "source": [
        "class Person1(object):\n",
        "    def __init__(self, first_name, last_name):\n",
        "        self.first_name = first_name\n",
        "        self.last_name = last_name\n",
        "\n",
        "    def whole_name(self):\n",
        "        return self.first_name + ' ' + self.last_name\n",
        "\n",
        "arthur_goldberg = Person1('Arthur', 'Goldberg')\n",
        "print(arthur_goldberg.last_name)\n",
        "arthur_goldberg.whole_name()"
      ],
      "execution_count": 0,
      "outputs": [
        {
          "output_type": "stream",
          "text": [
            "Goldberg\n"
          ],
          "name": "stdout"
        },
        {
          "output_type": "execute_result",
          "data": {
            "text/plain": [
              "'Arthur Goldberg'"
            ]
          },
          "metadata": {
            "tags": []
          },
          "execution_count": 13
        }
      ]
    },
    {
      "cell_type": "markdown",
      "metadata": {
        "id": "A2PchzQfmUA0",
        "colab_type": "text"
      },
      "source": [
        "More observations on classes in the example below:\n",
        "+ Arbitrarily many *instances* (*objects*) of a class can be created.\n",
        "+ User-defined classes are instances of class `class`, just like built-in classes.\n",
        "+ The default string representation of an instance of a user-defined class just indicates the name of the class and the location of the instance."
      ]
    },
    {
      "cell_type": "code",
      "metadata": {
        "id": "UaWsMmB3mUA1",
        "colab_type": "code",
        "outputId": "e794a113-bb99-4db0-9ae0-2846efaef8e6",
        "colab": {
          "base_uri": "https://localhost:8080/",
          "height": 87
        }
      },
      "source": [
        "dean = Person1('Dennis', 'Charney')\n",
        "print(dean.whole_name())\n",
        "\n",
        "# what are Person1 and list?\n",
        "print('Person1:', Person1)\n",
        "print('list:', list)   # The names of many built-in classes are not in CamelCase.\n",
        "\n",
        "print('dean:', dean)"
      ],
      "execution_count": 0,
      "outputs": [
        {
          "output_type": "stream",
          "text": [
            "Dennis Charney\n",
            "Person1: <class '__main__.Person1'>\n",
            "list: <class 'list'>\n",
            "dean: <__main__.Person1 object at 0x7fae2c8d7c18>\n"
          ],
          "name": "stdout"
        }
      ]
    },
    {
      "cell_type": "markdown",
      "metadata": {
        "id": "WG511zRtmUA5",
        "colab_type": "text"
      },
      "source": [
        "Let's make a more interesting `Person`. New features and approaches:\n",
        "+ Constants can be associated with a class. Use attribute names in `ALL_CAPS` to define them.\n",
        "+ Validate input; report errors by raising a `ValueError` `Exception`. For a big class or module, define your own `Exception` type.\n",
        "+ Several kinds of methods:\n",
        "  + A static method is decorated by `@staticmethod`. E.g., `validate_names` is a method that doesn't reference the instance via an initial `self` argument; instead, it's just a function in `Person`.\n",
        "  + A class method is decorated by `@classmethod`. E.g., `validate_age` is a method that takes a reference to its `class` as its first argument, `cls` by convention.\n",
        "  + `@staticmethod` and  `@classmethod` are decorators, which are functions that take a function, and \"wrap\" a call to that function with code that modifies the function's arguments and/or return values. If you want to write your own, try the [decorator module](https://github.com/micheles/decorator/blob/master/docs/documentation.md).\n",
        "+ The special method `__str__()` should return a readable, informative string representation of an object. It overrides the definition for `__str__()` in object. Special methods and attributes in Python are enclosed in `__`, and are called dunder or magic methods or attributes."
      ]
    },
    {
      "cell_type": "code",
      "metadata": {
        "id": "7hrWRSOLmUA6",
        "colab_type": "code",
        "outputId": "639bc7d0-1e46-46d0-9b35-31b8b61c4872",
        "colab": {
          "base_uri": "https://localhost:8080/",
          "height": 141
        }
      },
      "source": [
        "class Person(object):\n",
        "    MAX_AGE = 120\n",
        "\n",
        "    def __init__(self, first_name, last_name, age):\n",
        "        errors = self.validate_names([first_name, last_name])\n",
        "        if errors:\n",
        "          raise ValueError(errors)\n",
        "        self.first_name = first_name\n",
        "        self.last_name = last_name\n",
        "        errors = self.validate_age(age)\n",
        "        if errors:\n",
        "          raise ValueError(errors)\n",
        "        self.age = age\n",
        "\n",
        "    @staticmethod\n",
        "    def validate_names(names):\n",
        "        errors = []\n",
        "        for name in names:\n",
        "            if not isinstance(name, str):\n",
        "                errors.append(f\"error: '{name}' is not a str\")\n",
        "        # can this for loop be written as a list comprehension? would it be readable?\n",
        "        return errors\n",
        "\n",
        "    @classmethod\n",
        "    def validate_age(cls, age):\n",
        "        errors = []\n",
        "        if not (isinstance(age, int) or isinstance(age, float)):\n",
        "          errors.append(f\"error: age '{age}' is not a number\")\n",
        "          return errors\n",
        "        if age <= 0:\n",
        "          errors.append(f\"error: age '{age}' is not positive\")\n",
        "        if cls.MAX_AGE < age:\n",
        "          errors.append(f\"error: age '{age}' is too large\")\n",
        "        return errors\n",
        "\n",
        "    def whole_name(self):\n",
        "        return self.first_name + ' ' + self.last_name\n",
        "\n",
        "    def __str__(self):\n",
        "        attributes = []\n",
        "        attributes.append('name: ' + self.whole_name())\n",
        "        attributes.append(f'age: {self.age}')\n",
        "        return '; '.join(attributes)\n",
        "\n",
        "me = Person('Arthur', 'Goldberg', 95)\n",
        "print(me)\n",
        "def try_person(first, last, age):\n",
        "  try:\n",
        "    print('trying:', first, last, age)\n",
        "    p = Person(first, last, age)\n",
        "    return p\n",
        "  except ValueError as e:\n",
        "    print('errors:', e)\n",
        "try_person('first', 'last', 0)\n",
        "try_person('first', 'last', 200)\n",
        "try_person(6, 'last', 17)"
      ],
      "execution_count": 0,
      "outputs": [
        {
          "output_type": "stream",
          "text": [
            "name: Arthur Goldberg; age: 95\n",
            "trying: first last 0\n",
            "errors: [\"error: age '0' is not positive\"]\n",
            "trying: first last 200\n",
            "errors: [\"error: age '200' is too large\"]\n",
            "trying: 6 last 17\n",
            "errors: [\"error: '6' is not a str\"]\n"
          ],
          "name": "stdout"
        }
      ]
    },
    {
      "cell_type": "markdown",
      "metadata": {
        "id": "-J2mKYjUq6_k",
        "colab_type": "text"
      },
      "source": [
        "In the cell above I've been careful to execute all lines of code in `Person`."
      ]
    },
    {
      "cell_type": "code",
      "metadata": {
        "id": "HlqnzzgfMH9x",
        "colab_type": "code",
        "colab": {}
      },
      "source": [
        ""
      ],
      "execution_count": 0,
      "outputs": []
    }
  ]
}