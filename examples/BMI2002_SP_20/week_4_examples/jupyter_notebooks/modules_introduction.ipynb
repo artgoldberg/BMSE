{
 "cells": [
  {
   "cell_type": "markdown",
   "metadata": {
    "deletable": true,
    "editable": true
   },
   "source": [
    "# Modules"
   ]
  },
  {
   "cell_type": "markdown",
   "metadata": {
    "deletable": true,
    "editable": true
   },
   "source": [
    "## Simple module examples"
   ]
  },
  {
   "cell_type": "markdown",
   "metadata": {
    "deletable": true,
    "editable": true
   },
   "source": [
    "### Use existing modules"
   ]
  },
  {
   "cell_type": "code",
   "execution_count": 24,
   "metadata": {
    "collapsed": false,
    "deletable": true,
    "editable": true
   },
   "outputs": [
    {
     "data": {
      "text/html": [
       "<div>\n",
       "<style>\n",
       "    .dataframe thead tr:only-child th {\n",
       "        text-align: right;\n",
       "    }\n",
       "\n",
       "    .dataframe thead th {\n",
       "        text-align: left;\n",
       "    }\n",
       "\n",
       "    .dataframe tbody tr th {\n",
       "        vertical-align: top;\n",
       "    }\n",
       "</style>\n",
       "<table border=\"1\" class=\"dataframe\">\n",
       "  <thead>\n",
       "    <tr style=\"text-align: right;\">\n",
       "      <th></th>\n",
       "      <th>CA</th>\n",
       "      <th>NJ</th>\n",
       "      <th>NY</th>\n",
       "    </tr>\n",
       "  </thead>\n",
       "  <tbody>\n",
       "    <tr>\n",
       "      <th>0</th>\n",
       "      <td>Brown</td>\n",
       "      <td>Christie</td>\n",
       "      <td>Cuomo</td>\n",
       "    </tr>\n",
       "    <tr>\n",
       "      <th>1</th>\n",
       "      <td>2011</td>\n",
       "      <td>2010</td>\n",
       "      <td>2011</td>\n",
       "    </tr>\n",
       "  </tbody>\n",
       "</table>\n",
       "</div>"
      ],
      "text/plain": [
       "      CA        NJ     NY\n",
       "0  Brown  Christie  Cuomo\n",
       "1   2011      2010   2011"
      ]
     },
     "execution_count": 24,
     "metadata": {},
     "output_type": "execute_result"
    }
   ],
   "source": [
    "# powerful Python data analysis toolkit\n",
    "# https://pandas.pydata.org/pandas-docs/stable/index.html\n",
    "\n",
    "# import a module:\n",
    "import pandas\n",
    "\n",
    "# a DataFrame is a 2D array\n",
    "governors = {'NY': ['Cuomo', 2011], 'NJ': ['Christie', 2010], 'CA': ['Brown', 2011]}\n",
    "pandas.DataFrame(governors)"
   ]
  },
  {
   "cell_type": "markdown",
   "metadata": {
    "deletable": true,
    "editable": true
   },
   "source": [
    "### Import local names in module"
   ]
  },
  {
   "cell_type": "code",
   "execution_count": 25,
   "metadata": {
    "collapsed": false,
    "deletable": true,
    "editable": true
   },
   "outputs": [
    {
     "data": {
      "text/html": [
       "<div>\n",
       "<style>\n",
       "    .dataframe thead tr:only-child th {\n",
       "        text-align: right;\n",
       "    }\n",
       "\n",
       "    .dataframe thead th {\n",
       "        text-align: left;\n",
       "    }\n",
       "\n",
       "    .dataframe tbody tr th {\n",
       "        vertical-align: top;\n",
       "    }\n",
       "</style>\n",
       "<table border=\"1\" class=\"dataframe\">\n",
       "  <thead>\n",
       "    <tr style=\"text-align: right;\">\n",
       "      <th></th>\n",
       "      <th>CA</th>\n",
       "      <th>NJ</th>\n",
       "      <th>NY</th>\n",
       "    </tr>\n",
       "  </thead>\n",
       "  <tbody>\n",
       "    <tr>\n",
       "      <th>0</th>\n",
       "      <td>Brown</td>\n",
       "      <td>Christie</td>\n",
       "      <td>Cuomo</td>\n",
       "    </tr>\n",
       "    <tr>\n",
       "      <th>1</th>\n",
       "      <td>2011</td>\n",
       "      <td>2010</td>\n",
       "      <td>2011</td>\n",
       "    </tr>\n",
       "  </tbody>\n",
       "</table>\n",
       "</div>"
      ],
      "text/plain": [
       "      CA        NJ     NY\n",
       "0  Brown  Christie  Cuomo\n",
       "1   2011      2010   2011"
      ]
     },
     "execution_count": 25,
     "metadata": {},
     "output_type": "execute_result"
    }
   ],
   "source": [
    "# import a module:\n",
    "from pandas import (DataFrame, )\n",
    "DataFrame(governors)"
   ]
  },
  {
   "cell_type": "markdown",
   "metadata": {
    "deletable": true,
    "editable": true
   },
   "source": [
    "### Use other packages"
   ]
  },
  {
   "cell_type": "code",
   "execution_count": 30,
   "metadata": {
    "collapsed": false,
    "deletable": true,
    "editable": true
   },
   "outputs": [
    {
     "data": {
      "text/plain": [
       "0"
      ]
     },
     "execution_count": 30,
     "metadata": {},
     "output_type": "execute_result"
    }
   ],
   "source": [
    "from gtts import gTTS  # google text to speech\n",
    "import os   # Python standard library operating system package\n",
    "\n",
    "# note: gTTS requires an Internet connection\n",
    "tts = gTTS(text='Good morning', lang='en')\n",
    "tts.save(\"good.mp3\")\n",
    "os.system(\"afplay good.mp3\")"
   ]
  },
  {
   "cell_type": "markdown",
   "metadata": {
    "deletable": true,
    "editable": true
   },
   "source": [
    "### Make a module"
   ]
  },
  {
   "cell_type": "code",
   "execution_count": 31,
   "metadata": {
    "collapsed": false,
    "deletable": true,
    "editable": true
   },
   "outputs": [
    {
     "name": "stdout",
     "output_type": "stream",
     "text": [
      "Overwriting pig_latin.py\n"
     ]
    }
   ],
   "source": [
    "%%writefile pig_latin.py\n",
    "# the line above tells Jupyter to write this cell to the file pig_latin.py\n",
    "\n",
    "# remember pig latin?\n",
    "def strip_punctuation(line):\n",
    "    punctuation = ''\n",
    "    line = line.strip()\n",
    "    if len(line)>0:\n",
    "        if line[-1] in ('.','!','?'):\n",
    "            punctuation = line[-1]\n",
    "            line = line[:-1]\n",
    "    return line, punctuation\n",
    "\n",
    "def pig_latin_sentence(sentence):\n",
    "    # convert `sentence` into Pig Latin\n",
    "    sentence, punctuation = strip_punctuation(sentence)\n",
    "    sentence = sentence.split()\n",
    "    new_words = []\n",
    "    for word in sentence:\n",
    "        endString= str(word[1:])\n",
    "        them=endString, str(word[0:1]), 'ay'\n",
    "        new_word=\"\".join(them)\n",
    "        new_words.append(new_word)\n",
    "    new_sentence = ' '.join(new_words)\n",
    "    new_sentence = new_sentence.lower()\n",
    "    if len(new_sentence):\n",
    "        new_sentence = new_sentence[0].upper() + new_sentence[1:]\n",
    "    return new_sentence"
   ]
  },
  {
   "cell_type": "markdown",
   "metadata": {
    "deletable": true,
    "editable": true
   },
   "source": [
    "### Use the module I made"
   ]
  },
  {
   "cell_type": "code",
   "execution_count": 35,
   "metadata": {
    "collapsed": false,
    "deletable": true,
    "editable": true
   },
   "outputs": [
    {
     "name": "stdout",
     "output_type": "stream",
     "text": [
      "Oodgay vening,eay adieslay ndaay entlemengay\n",
      "pig_latin /Users/arthur_at_sinai/Google Drive/ArthurShare/MS_BMI/BMI administration/Courses/Biomedical Software Engineering course/Lectures/Week 7 materials- Software Design III/pig_latin.py\n"
     ]
    }
   ],
   "source": [
    "from pig_latin import pig_latin_sentence\n",
    "\n",
    "pl_greeting = pig_latin_sentence('Good evening, ladies and gentlemen.')\n",
    "print(pl_greeting)\n",
    "\n",
    "tts = gTTS(text=pl_greeting, lang='en')\n",
    "file_name = \"pig_latin_greeting.mp3\"\n",
    "tts.save(file_name)\n",
    "os.system(\"afplay \" + file_name)\n",
    "\n",
    "news = pig_latin_sentence(\"a group of psychiatrists have questioned Trump's fitness to serve\")\n",
    "fn = 'tmp.mp3'\n",
    "gTTS(text=news, lang='en').save(fn)\n",
    "os.system(\"afplay \" + fn)"
   ]
  },
  {
   "cell_type": "code",
   "execution_count": null,
   "metadata": {
    "collapsed": true
   },
   "outputs": [],
   "source": []
  }
 ],
 "metadata": {
  "kernelspec": {
   "display_name": "Python 3",
   "language": "python",
   "name": "python3"
  },
  "language_info": {
   "codemirror_mode": {
    "name": "ipython",
    "version": 3
   },
   "file_extension": ".py",
   "mimetype": "text/x-python",
   "name": "python",
   "nbconvert_exporter": "python",
   "pygments_lexer": "ipython3",
   "version": "3.5.4"
  }
 },
 "nbformat": 4,
 "nbformat_minor": 2
}
