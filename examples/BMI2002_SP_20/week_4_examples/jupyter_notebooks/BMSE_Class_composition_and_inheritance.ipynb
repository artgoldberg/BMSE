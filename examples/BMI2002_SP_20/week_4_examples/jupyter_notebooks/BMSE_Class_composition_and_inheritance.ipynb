{
  "nbformat": 4,
  "nbformat_minor": 0,
  "metadata": {
    "kernelspec": {
      "display_name": "Python 3",
      "language": "python",
      "name": "python3"
    },
    "language_info": {
      "codemirror_mode": {
        "name": "ipython",
        "version": 3
      },
      "file_extension": ".py",
      "mimetype": "text/x-python",
      "name": "python",
      "nbconvert_exporter": "python",
      "pygments_lexer": "ipython3",
      "version": "3.6.5"
    },
    "colab": {
      "name": "BMSE Class composition and inheritance.ipynb",
      "provenance": [],
      "collapsed_sections": []
    }
  },
  "cells": [
    {
      "cell_type": "markdown",
      "metadata": {
        "id": "BoNbryFGmhpU",
        "colab_type": "text"
      },
      "source": [
        "**Biomedical Software Engineering**\n",
        "\n",
        "**Prof. Arthur Goldberg**\n",
        "\n",
        "**Dept. Genetics and Genomic Sciences**\n",
        "\n",
        "**Spring 1, 2020**\n",
        "\n",
        "# Class composition and inheritance\n",
        "\n",
        "## Composition"
      ]
    },
    {
      "cell_type": "code",
      "metadata": {
        "id": "YgRcncfTmhpW",
        "colab_type": "code",
        "outputId": "24ed2167-58f6-48f1-8ccb-f67d0d14446c",
        "colab": {
          "base_uri": "https://localhost:8080/",
          "height": 33
        }
      },
      "source": [
        "# composition of sexes, subjects and samples\n",
        "from enum import Enum\n",
        "\n",
        "class Sex(Enum):\n",
        "    female = 1\n",
        "    male = 2\n",
        "    unknown = 3\n",
        "\n",
        "class Subject(object):\n",
        "    \"\"\"An individual human in a study\"\"\"\n",
        "    def __init__(self, id, gender):\n",
        "        self.id = id\n",
        "        self.gender = gender\n",
        "\n",
        "    def __str__(self):\n",
        "        return f\"id: {self.id}; gender: {self.gender.name}\"\n",
        "\n",
        "subject_1 = Subject(23, Sex.female)\n",
        "print(subject_1)"
      ],
      "execution_count": 27,
      "outputs": [
        {
          "output_type": "stream",
          "text": [
            "id: 23; gender: female\n"
          ],
          "name": "stdout"
        }
      ]
    },
    {
      "cell_type": "markdown",
      "metadata": {
        "id": "_v3u_ZPrQFR2",
        "colab_type": "text"
      },
      "source": [
        "Now we create `class Sample`, which reuses `Subject` via composition."
      ]
    },
    {
      "cell_type": "code",
      "metadata": {
        "id": "Vp8QygCLPvgr",
        "colab_type": "code",
        "outputId": "a770d4b6-362f-4a10-fe3d-55070778973e",
        "colab": {
          "base_uri": "https://localhost:8080/",
          "height": 66
        }
      },
      "source": [
        "class Sample(object):\n",
        "    \"\"\"A set of subjects in a study\"\"\"\n",
        "    def __init__(self, name):\n",
        "        self.id = name\n",
        "        self.subjects = {}\n",
        "\n",
        "    def add(self, subject):\n",
        "        # todo: check that a subject with subject.id is not already in this Sample\n",
        "        self.subjects[subject.id] = subject\n",
        "        \n",
        "    def get(self, id):\n",
        "        # todo: useful error if subject not in this Sample\n",
        "        return self.subjects[id]\n",
        "        \n",
        "    def count(self):\n",
        "        \"\"\"Number of subjects\"\"\"\n",
        "        return len(self.subjects)\n",
        "\n",
        "subject_2 = Subject(78, Sex.male)\n",
        "sample = Sample('example_sample')\n",
        "print('sample.count():', sample.count())\n",
        "sample.add(subject_1)\n",
        "sample.add(subject_2)\n",
        "print('sample.count():', sample.count())\n",
        "print('sample.get(78)', sample.get(78))"
      ],
      "execution_count": 28,
      "outputs": [
        {
          "output_type": "stream",
          "text": [
            "sample.count(): 0\n",
            "sample.count(): 2\n",
            "sample.get(78) id: 78; gender: male\n"
          ],
          "name": "stdout"
        }
      ]
    },
    {
      "cell_type": "markdown",
      "metadata": {
        "id": "y0M0qhlAmhpe",
        "colab_type": "text"
      },
      "source": [
        "## Inheritance, and its benefits\n",
        "Inheritance reuses existing class(es). It enables hierarchical refinement and extension.\n",
        "\n",
        "The existing class that's reused is the *base* or *superclass* class, and the new class is the *derived* or *subclass* class. An instance of a dervied class can access the attributes (data and methods) of its base class. It may also override them. The [`super()`](https://docs.python.org/3/library/functions.html#super) function accesses methods and attributes in the base class.\n",
        "\n",
        "All classes inherit from Python's built-in `object` class, the root of the class derivation DAG."
      ]
    },
    {
      "cell_type": "code",
      "metadata": {
        "id": "K_Y-U5Ffmhpg",
        "colab_type": "code",
        "outputId": "287713c0-a4aa-43b5-8948-28e75fbd8562",
        "colab": {
          "base_uri": "https://localhost:8080/",
          "height": 66
        }
      },
      "source": [
        "class Root(object):\n",
        "    \" manages id and name \"\n",
        "    def __init__(self, id, name):\n",
        "        self.id = id\n",
        "        self.name = name\n",
        "    def get_id(self):\n",
        "        return self.id\n",
        "    def get_name(self):\n",
        "        return self.name\n",
        "\n",
        "class DataElement(Root):\n",
        "    \" manage a data element \"\n",
        "    def __init__(self, id, name, data):\n",
        "        self.data = data\n",
        "        super().__init__(id, name)\n",
        "\n",
        "from math import pi\n",
        "data_element = DataElement(1, 'pi', pi)\n",
        "# get id and name from the base class\n",
        "print('id:', data_element.get_id())\n",
        "print(f'name: {data_element.get_name()}')\n",
        "print(f'data: {data_element.data:.6f}')"
      ],
      "execution_count": 29,
      "outputs": [
        {
          "output_type": "stream",
          "text": [
            "id: 1\n",
            "name: pi\n",
            "data: 3.141593\n"
          ],
          "name": "stdout"
        }
      ]
    },
    {
      "cell_type": "code",
      "metadata": {
        "id": "yLlNHgHimhpl",
        "colab_type": "code",
        "outputId": "ee129b1f-1fcc-4184-beec-cf468f52c003",
        "colab": {
          "base_uri": "https://localhost:8080/",
          "height": 115
        }
      },
      "source": [
        "class AnnotatedDataElement(DataElement):\n",
        "    \" annotate a data element \"\n",
        "    def __init__(self, id, name, data, annotation):\n",
        "        self.annotation = annotation\n",
        "        super().__init__(id, name, data)\n",
        "\n",
        "from math import e\n",
        "annotated_data_element = AnnotatedDataElement(2, 'e', e, 'a great constant')\n",
        "ade = annotated_data_element\n",
        "print(ade.id, ade.name, ade.data, \"'{}'\".format(ade.annotation))\n",
        "\n",
        "# illustrate the inheritance hierarchy\n",
        "for cls in [object, Root, DataElement, AnnotatedDataElement, float]:\n",
        "    print(\"annotated_data_element in an instance of {}: {}\".format(cls.__name__,\n",
        "          isinstance(annotated_data_element, cls)))"
      ],
      "execution_count": 30,
      "outputs": [
        {
          "output_type": "stream",
          "text": [
            "2 e 2.718281828459045 'a great constant'\n",
            "annotated_data_element in an instance of object: True\n",
            "annotated_data_element in an instance of Root: True\n",
            "annotated_data_element in an instance of DataElement: True\n",
            "annotated_data_element in an instance of AnnotatedDataElement: True\n",
            "annotated_data_element in an instance of float: False\n"
          ],
          "name": "stdout"
        }
      ]
    },
    {
      "cell_type": "markdown",
      "metadata": {
        "id": "O1Izj2yxxnkj",
        "colab_type": "text"
      },
      "source": [
        "### A practical example of inheritance\n",
        "[DE Sim](https://github.com/KarrLab/de_sim) is an object oriented [discrete event simulator](https://en.wikipedia.org/wiki/Discrete-event_simulation) I've built. Our multialgorithmic whole-cell simulator, [WC Sim](https://github.com/KarrLab/wc_sim), uses DE Sim.\n",
        "\n",
        "A discrete event simulation (DES) models a system as a sequence of discrete events that occur at increasing instants in time. An OO DES structures a simulation as a set of simulation objects, each of which models an element of the simulation. For example, a simulation of air travel would have simulation objects representing airport air traffic control centers and airplanes. Objects schedule an event by sending an event message that specifies the time and nature of the event to model. Objects model the behavior of their entity by executing their events in increasing (actually non-decreasing) time order.\n",
        "\n",
        "To enable easy construction of simulations, DE Sim defines a generic simulation object `ApplicationSimulationObject` and a generic simulation message `SimulationMessage`.\n",
        "The code below defines `TemplatePeriodicSimulationObject`, a simulation object derived from `ApplicationSimulationObject` that executes periodically. Note that `TemplatePeriodicSimulationObject` cannot be used directly, but must be subclassed by an object that overrides `handle_event(self)` with a method that actually handles events.\n"
      ]
    },
    {
      "cell_type": "code",
      "metadata": {
        "id": "EZ2k8I7O29sw",
        "colab_type": "code",
        "colab": {}
      },
      "source": [
        "class Error(Exception):\n",
        "    \"\"\" Base class for exceptions in de_sim\n",
        "\n",
        "    Attributes:\n",
        "        message (:obj:`str`): the exception's message\n",
        "    \"\"\"\n",
        "    def __init__(self, message=None):\n",
        "        super().__init__(message)\n",
        "\n",
        "# SimulatorError is derived from Error which is derived from Exception, a Python convention\n",
        "class SimulatorError(Error):\n",
        "    \"\"\" Exception raised for errors in de_sim\n",
        "\n",
        "    Attributes:\n",
        "        message (:obj:`str`): the exception's message\n",
        "    \"\"\"\n",
        "    def __init__(self, message=None):\n",
        "        super().__init__(message)\n",
        "\n",
        "# These 3 class definitions are stubs\n",
        "class SimulationMessage(object):\n",
        "  pass\n",
        "\n",
        "class UniformSequence(object):\n",
        "  pass\n",
        "\n",
        "class ApplicationSimulationObject(object):\n",
        "  pass\n",
        "\n",
        "class NextEvent(SimulationMessage):\n",
        "    pass\n",
        "\n",
        "class TemplatePeriodicSimulationObject(ApplicationSimulationObject):\n",
        "    \"\"\" Template self-clocking ApplicationSimulationObject\n",
        "\n",
        "    Events occur at time 0, `period`, `2 x period`, ...\n",
        "\n",
        "    Attributes:\n",
        "        period (:obj:`float`): interval between events, in simulated seconds\n",
        "        event_time_sequence (:obj:`UniformSequence`): a uniform sequence generator\n",
        "    \"\"\"\n",
        "    def __init__(self, name, period):\n",
        "        if period <= 0:\n",
        "            raise SimulatorError(\"period must be positive, but is {}\".format(period))\n",
        "        self.period = period\n",
        "        self.event_time_sequence = UniformSequence(0, period)\n",
        "        super().__init__(name)\n",
        "\n",
        "    def schedule_next_event(self):\n",
        "        \"\"\" Schedule the next event at `self.period` simulated time in the future\n",
        "        \"\"\"\n",
        "        next_event_time = self.event_time_sequence.__next__()\n",
        "        # Uses `send_event_absolute` in `ApplicationSimulationObject`\n",
        "        self.send_event_absolute(next_event_time, self, NextEvent())\n",
        "\n",
        "    def handle_event(self):\n",
        "        \"\"\" Handle the periodic event\n",
        "\n",
        "        Derived classes must override this method and actually handle the event\n",
        "        \"\"\"\n",
        "        pass    # pragma: no cover     # must be overridden\n",
        "\n",
        "    def send_initial_events(self):\n",
        "        # create the initial event\n",
        "        self.schedule_next_event()\n",
        "\n",
        "    def handle_simulation_event(self, event):\n",
        "        self.handle_event()\n",
        "        self.schedule_next_event()\n"
      ],
      "execution_count": 0,
      "outputs": []
    },
    {
      "cell_type": "markdown",
      "metadata": {
        "id": "TNM1Gg5-mhpr",
        "colab_type": "text"
      },
      "source": [
        "### Abstract base classes\n",
        "Python [abstract base classes](https://docs.python.org/3/library/abc.html) (ABCs) are classes used to define properties shared by multiple subclasses (see [tutorial](https://pymotw.com/3/abc/)). ABCs achieve this by serving as shared nodes in the inheritance DAG:"
      ]
    },
    {
      "cell_type": "code",
      "metadata": {
        "id": "gY9mqV79LJc4",
        "colab_type": "code",
        "colab": {
          "base_uri": "https://localhost:8080/",
          "height": 191
        },
        "outputId": "65877f1a-d544-4165-a6c1-e32d25ad7898"
      },
      "source": [
        "from abc import ABC\n",
        "\n",
        "class MyABC(ABC): pass\n",
        "\n",
        "class MyClass(MyABC): pass\n",
        "\n",
        "assert issubclass(MyClass, MyABC)\n",
        "assert isinstance(MyClass(), MyABC)\n",
        "\n",
        "# an int is not a subclass of MyABC, of course\n",
        "assert isinstance(3, MyABC)"
      ],
      "execution_count": 32,
      "outputs": [
        {
          "output_type": "error",
          "ename": "AssertionError",
          "evalue": "ignored",
          "traceback": [
            "\u001b[0;31m---------------------------------------------------------------------------\u001b[0m",
            "\u001b[0;31mAssertionError\u001b[0m                            Traceback (most recent call last)",
            "\u001b[0;32m<ipython-input-32-8e92354a274b>\u001b[0m in \u001b[0;36m<module>\u001b[0;34m()\u001b[0m\n\u001b[1;32m      9\u001b[0m \u001b[0;34m\u001b[0m\u001b[0m\n\u001b[1;32m     10\u001b[0m \u001b[0;31m# an int is not a subclass of MyABC, of course\u001b[0m\u001b[0;34m\u001b[0m\u001b[0;34m\u001b[0m\u001b[0;34m\u001b[0m\u001b[0m\n\u001b[0;32m---> 11\u001b[0;31m \u001b[0;32massert\u001b[0m \u001b[0misinstance\u001b[0m\u001b[0;34m(\u001b[0m\u001b[0;36m3\u001b[0m\u001b[0;34m,\u001b[0m \u001b[0mMyABC\u001b[0m\u001b[0;34m)\u001b[0m\u001b[0;34m\u001b[0m\u001b[0;34m\u001b[0m\u001b[0m\n\u001b[0m",
            "\u001b[0;31mAssertionError\u001b[0m: "
          ]
        }
      ]
    },
    {
      "cell_type": "markdown",
      "metadata": {
        "id": "eBFAVgUdMiaO",
        "colab_type": "text"
      },
      "source": [
        "An ABC defines a partially enforced interface. An ABC that defines a set of methods, but not their bodies, forces subclasses to implement the methods.\n",
        "\n",
        "ABCs cannot be instantiated themselves. Instead, they're used as superclasses of subclasses that can be instantiated."
      ]
    },
    {
      "cell_type": "code",
      "metadata": {
        "id": "qAgE3AAgDQVv",
        "colab_type": "code",
        "colab": {
          "base_uri": "https://localhost:8080/",
          "height": 66
        },
        "outputId": "f1b65d81-8940-448d-9f53-b4262964a7b6"
      },
      "source": [
        "from abc import ABC, abstractmethod\n",
        "\n",
        "class C(ABC):\n",
        "    # @abstractmethod decorates abstract methods\n",
        "    @abstractmethod\n",
        "    def my_abstract_method(self, arg1):\n",
        "        pass\n",
        "\n",
        "    @classmethod\n",
        "    @abstractmethod\n",
        "    def my_abstract_classmethod(cls):\n",
        "        pass\n",
        "\n",
        "    @staticmethod\n",
        "    @abstractmethod\n",
        "    def my_abstract_staticmethod(arg2):\n",
        "        pass\n",
        "\n",
        "class D(C):\n",
        "\n",
        "    CONSTANT = 37\n",
        "    def __init__(self, data):\n",
        "        self.data = data\n",
        "\n",
        "    def my_abstract_method(self, arg1):\n",
        "        print(self.data, arg1)\n",
        "\n",
        "    @classmethod\n",
        "    def my_abstract_classmethod(cls):\n",
        "        print('CONSTANT =', cls.CONSTANT)\n",
        "\n",
        "    @staticmethod\n",
        "    def my_abstract_staticmethod(arg3):\n",
        "        print('all i know is', arg3)\n",
        "\n",
        "d = D('my name')\n",
        "d.my_abstract_method('is mud')\n",
        "d.my_abstract_classmethod()\n",
        "d.my_abstract_staticmethod(38)"
      ],
      "execution_count": 33,
      "outputs": [
        {
          "output_type": "stream",
          "text": [
            "my name is mud\n",
            "CONSTANT = 37\n",
            "all i know is 38\n"
          ],
          "name": "stdout"
        }
      ]
    },
    {
      "cell_type": "markdown",
      "metadata": {
        "id": "W8kAADdeF0fT",
        "colab_type": "text"
      },
      "source": [
        "Subclasses of an ABC must implement the ABC's methods."
      ]
    },
    {
      "cell_type": "code",
      "metadata": {
        "id": "79d755xnF5_O",
        "colab_type": "code",
        "colab": {
          "base_uri": "https://localhost:8080/",
          "height": 191
        },
        "outputId": "11beaef8-0d39-47b9-a208-77615fb99664"
      },
      "source": [
        "class Bad(C):\n",
        "\n",
        "    def __init__(self, data):\n",
        "        self.data = data\n",
        "\n",
        "    def my_abstract_method(self, arg1):\n",
        "        print(self.data, arg1)\n",
        "\n",
        "    @classmethod\n",
        "    def my_abstract_classmethod(cls):\n",
        "        pass\n",
        "\n",
        "Bad(1)"
      ],
      "execution_count": 34,
      "outputs": [
        {
          "output_type": "error",
          "ename": "TypeError",
          "evalue": "ignored",
          "traceback": [
            "\u001b[0;31m---------------------------------------------------------------------------\u001b[0m",
            "\u001b[0;31mTypeError\u001b[0m                                 Traceback (most recent call last)",
            "\u001b[0;32m<ipython-input-34-a14e444e5731>\u001b[0m in \u001b[0;36m<module>\u001b[0;34m()\u001b[0m\n\u001b[1;32m     11\u001b[0m         \u001b[0;32mpass\u001b[0m\u001b[0;34m\u001b[0m\u001b[0;34m\u001b[0m\u001b[0m\n\u001b[1;32m     12\u001b[0m \u001b[0;34m\u001b[0m\u001b[0m\n\u001b[0;32m---> 13\u001b[0;31m \u001b[0mBad\u001b[0m\u001b[0;34m(\u001b[0m\u001b[0;36m1\u001b[0m\u001b[0;34m)\u001b[0m\u001b[0;34m\u001b[0m\u001b[0;34m\u001b[0m\u001b[0m\n\u001b[0m",
            "\u001b[0;31mTypeError\u001b[0m: Can't instantiate abstract class Bad with abstract methods my_abstract_staticmethod"
          ]
        }
      ]
    },
    {
      "cell_type": "markdown",
      "metadata": {
        "id": "Tw5fGExPO5KG",
        "colab_type": "text"
      },
      "source": [
        "But adherence to method signatures is optional."
      ]
    },
    {
      "cell_type": "code",
      "metadata": {
        "id": "xPSXa21mO-4R",
        "colab_type": "code",
        "colab": {
          "base_uri": "https://localhost:8080/",
          "height": 33
        },
        "outputId": "4ae46605-ef56-41dc-bda1-4f9d0b96f900"
      },
      "source": [
        "class OK(C):\n",
        "\n",
        "    def __init__(self, data):\n",
        "        self.data = data\n",
        "\n",
        "    # note the extra argument\n",
        "    def my_abstract_method(self, arg1, extra_arg):\n",
        "        print(self.data, arg1)\n",
        "\n",
        "    @classmethod\n",
        "    def my_abstract_classmethod(cls): pass\n",
        "\n",
        "    @staticmethod\n",
        "    def my_abstract_staticmethod(arg3): pass\n",
        "\n",
        "ok = OK(1)\n",
        "ok.my_abstract_method(2, 3)"
      ],
      "execution_count": 35,
      "outputs": [
        {
          "output_type": "stream",
          "text": [
            "1 2\n"
          ],
          "name": "stdout"
        }
      ]
    },
    {
      "cell_type": "markdown",
      "metadata": {
        "id": "4Lmb9hh2OMAo",
        "colab_type": "text"
      },
      "source": [
        "ABCs are used by Python to define `Sequence`, `MutableSequence`, and the numeric types hierarchy (see [PEP 3141](https://www.python.org/dev/peps/pep-3141))."
      ]
    }
  ]
}