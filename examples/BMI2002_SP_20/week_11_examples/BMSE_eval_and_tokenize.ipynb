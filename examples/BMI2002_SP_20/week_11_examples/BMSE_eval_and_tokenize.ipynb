{
  "nbformat": 4,
  "nbformat_minor": 0,
  "metadata": {
    "colab": {
      "name": "BMSE eval and tokenize.ipynb",
      "provenance": [],
      "collapsed_sections": []
    },
    "kernelspec": {
      "name": "python3",
      "display_name": "Python 3"
    }
  },
  "cells": [
    {
      "cell_type": "markdown",
      "metadata": {
        "id": "QczMesmQrOKl",
        "colab_type": "text"
      },
      "source": [
        "**Biomedical Software Engineering**\n",
        "\n",
        "**Prof. Arthur Goldberg**\n",
        "\n",
        "**Dept. Genetics and Genomic Sciences**\n",
        "\n",
        "**Spring 1, 2020**\n",
        "\n",
        "# `eval` and `tokenize`"
      ]
    },
    {
      "cell_type": "markdown",
      "metadata": {
        "id": "54UruBNW5zc9",
        "colab_type": "text"
      },
      "source": [
        "## `eval`"
      ]
    },
    {
      "cell_type": "code",
      "metadata": {
        "id": "Vmt8vf9K5yXX",
        "colab_type": "code",
        "colab": {
          "base_uri": "https://localhost:8080/",
          "height": 34
        },
        "outputId": "7190ae04-7f10-4975-cabe-9e94e96b23cb"
      },
      "source": [
        "eval('3+5')"
      ],
      "execution_count": 10,
      "outputs": [
        {
          "output_type": "execute_result",
          "data": {
            "text/plain": [
              "8"
            ]
          },
          "metadata": {
            "tags": []
          },
          "execution_count": 10
        }
      ]
    },
    {
      "cell_type": "code",
      "metadata": {
        "id": "MSG348uL57gO",
        "colab_type": "code",
        "colab": {
          "base_uri": "https://localhost:8080/",
          "height": 168
        },
        "outputId": "61c7ee9e-f55d-4f60-9fab-e6c81758999a"
      },
      "source": [
        "eval(3+7)"
      ],
      "execution_count": 11,
      "outputs": [
        {
          "output_type": "error",
          "ename": "TypeError",
          "evalue": "ignored",
          "traceback": [
            "\u001b[0;31m---------------------------------------------------------------------------\u001b[0m",
            "\u001b[0;31mTypeError\u001b[0m                                 Traceback (most recent call last)",
            "\u001b[0;32m<ipython-input-11-805344a257b6>\u001b[0m in \u001b[0;36m<module>\u001b[0;34m()\u001b[0m\n\u001b[0;32m----> 1\u001b[0;31m \u001b[0meval\u001b[0m\u001b[0;34m(\u001b[0m\u001b[0;36m3\u001b[0m\u001b[0;34m+\u001b[0m\u001b[0;36m7\u001b[0m\u001b[0;34m)\u001b[0m\u001b[0;34m\u001b[0m\u001b[0;34m\u001b[0m\u001b[0m\n\u001b[0m",
            "\u001b[0;31mTypeError\u001b[0m: eval() arg 1 must be a string, bytes or code object"
          ]
        }
      ]
    },
    {
      "cell_type": "code",
      "metadata": {
        "id": "yahb249H6BMv",
        "colab_type": "code",
        "colab": {
          "base_uri": "https://localhost:8080/",
          "height": 34
        },
        "outputId": "6768fc13-66b1-4d1f-a71e-f62b46ff771e"
      },
      "source": [
        "x = 3\n",
        "y = 22\n",
        "def f():\n",
        "  print(eval('x+y'))\n",
        "f()"
      ],
      "execution_count": 14,
      "outputs": [
        {
          "output_type": "stream",
          "text": [
            "25\n"
          ],
          "name": "stdout"
        }
      ]
    },
    {
      "cell_type": "markdown",
      "metadata": {
        "id": "rEOuOLTp6Q0b",
        "colab_type": "text"
      },
      "source": [
        "`eval` examples in dynamical models of biochemistry:\n",
        "Consider a simple reaction R:\n",
        "\n",
        "R: A + B -> C\n",
        "\n",
        "To model R, we need to know its *rate*, the number of times it will execute per second, on average. Suppose the rate of R is:\n",
        "\n",
        "k * |A| * |B|\n",
        "\n",
        "where |x| indicates the population of species x. A reaction's rate is given by its *rate law*. Suppose we input a model with many reactions and their rate laws from a model file. Assume that the rate laws are given as Python expressions, using standard Python math and the ids of species to identify them.\n"
      ]
    },
    {
      "cell_type": "code",
      "metadata": {
        "id": "FhaAQnhJ6ZoT",
        "colab_type": "code",
        "colab": {
          "base_uri": "https://localhost:8080/",
          "height": 34
        },
        "outputId": "dc887198-6cda-4e34-e743-1487dade0d5c"
      },
      "source": [
        "# populations is a dictionary with species populations\n",
        "populations = dict(a=10, b=20)\n",
        "k = 0.5\n",
        "rate_law = 'k * a * b'\n",
        "# we tokenize the rate law and identify all the species\n",
        "# this transforms it to\n",
        "rate_law = \"k * populations['a'] * populations['b']\"\n",
        "# now we can eval it\n",
        "eval(rate_law, {'populations': populations, 'k': k})\n",
        "# eval(rate_law)"
      ],
      "execution_count": 18,
      "outputs": [
        {
          "output_type": "execute_result",
          "data": {
            "text/plain": [
              "100.0"
            ]
          },
          "metadata": {
            "tags": []
          },
          "execution_count": 18
        }
      ]
    }
  ]
}