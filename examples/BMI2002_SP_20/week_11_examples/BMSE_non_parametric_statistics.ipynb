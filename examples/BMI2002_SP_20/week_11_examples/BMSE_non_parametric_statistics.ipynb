{
  "nbformat": 4,
  "nbformat_minor": 0,
  "metadata": {
    "colab": {
      "name": "Non-parametric statistics.ipynb",
      "provenance": [],
      "collapsed_sections": []
    },
    "kernelspec": {
      "name": "python3",
      "display_name": "Python 3"
    }
  },
  "cells": [
    {
      "cell_type": "markdown",
      "metadata": {
        "id": "hAhbafN4aWqr",
        "colab_type": "text"
      },
      "source": [
        "**Biomedical Software Engineering**\n",
        "\n",
        "**Prof. Arthur Goldberg**\n",
        "\n",
        "**Dept. Genetics and Genomic Sciences**\n",
        "\n",
        "**Spring 1, 2020**\n",
        "\n",
        "# Non-parametric statistics"
      ]
    },
    {
      "cell_type": "markdown",
      "metadata": {
        "id": "IDihxCReadxA",
        "colab_type": "text"
      },
      "source": [
        "Is a coin fair?\n",
        "\n",
        "Assume so, and determine whether an observed set of tosses was likely."
      ]
    },
    {
      "cell_type": "code",
      "metadata": {
        "id": "1OX8_WFxaRtn",
        "colab_type": "code",
        "colab": {
          "base_uri": "https://localhost:8080/",
          "height": 382
        },
        "outputId": "d5a23ff3-5af3-4460-93ee-c2179d781815"
      },
      "source": [
        "from random import random\n",
        "\n",
        "class Coin():\n",
        "\n",
        "  FAIR_COIN = 0.5\n",
        "\n",
        "  def __init__(self, num_tosses, num_heads):\n",
        "    if num_heads/num_tosses <= self.FAIR_COIN:\n",
        "        raise ValueError(f\"this test assumes num_heads/num_tosses ({num_heads/num_tosses:.4f}) > P[heads] in a fair coin ({self.FAIR_COIN})\")\n",
        "    self.num_tosses = num_tosses\n",
        "    self.num_heads = num_heads\n",
        "\n",
        "  def experiment(self, num_tosses, num_heads, p_heads_fair=FAIR_COIN):\n",
        "    \"\"\" Determine whether `num_tosses` of a coin obtains at least `num_heads` heads\n",
        "\n",
        "    Args:\n",
        "      num_tosses (:obj:`int`): number of coin tosses to try\n",
        "      num_heads (:obj:`int`): number of heads obtained with the real coin\n",
        "      p_heads_fair (:obj:`float`, optional): the coin's hypothesized P[head]\n",
        "\n",
        "    Returns:\n",
        "        :obj:`bool`: whether the experiment obtained at least `num_heads` heads\n",
        "    \"\"\"\n",
        "    n_heads = 0\n",
        "    for _ in range(num_tosses):\n",
        "      if random() <= p_heads_fair:\n",
        "        n_heads += 1\n",
        "    return num_heads <= n_heads\n",
        "\n",
        "  def bootstrap(self, bootstraps=10000):\n",
        "    \"\"\" Estimate the probability that a fair coin would obtain the excess number of heads observed\n",
        "\n",
        "    Args:\n",
        "      bootstraps (:obj:`float`, optional): number of digital experiments to try\n",
        "    \"\"\"\n",
        "    successes = 0\n",
        "    for _ in range(bootstraps):\n",
        "        if self.experiment(self.num_tosses, self.num_heads):\n",
        "            successes += 1\n",
        "    print(f'Likelihood of {self.num_heads} heads in {self.num_tosses} tosses of a fair coin is {successes/bootstraps:.5f}')\n",
        "\n",
        "num_tosses = int(input('tosses: '))\n",
        "num_heads = int(input('heads: '))\n",
        "coin = Coin(num_tosses, num_heads)\n",
        "coin.bootstrap()"
      ],
      "execution_count": 16,
      "outputs": [
        {
          "output_type": "stream",
          "text": [
            "tosses: 5\n",
            "heads: 2\n"
          ],
          "name": "stdout"
        },
        {
          "output_type": "error",
          "ename": "ValueError",
          "evalue": "ignored",
          "traceback": [
            "\u001b[0;31m---------------------------------------------------------------------------\u001b[0m",
            "\u001b[0;31mValueError\u001b[0m                                Traceback (most recent call last)",
            "\u001b[0;32m<ipython-input-16-317684252ec0>\u001b[0m in \u001b[0;36m<module>\u001b[0;34m()\u001b[0m\n\u001b[1;32m     42\u001b[0m \u001b[0mnum_tosses\u001b[0m \u001b[0;34m=\u001b[0m \u001b[0mint\u001b[0m\u001b[0;34m(\u001b[0m\u001b[0minput\u001b[0m\u001b[0;34m(\u001b[0m\u001b[0;34m'tosses: '\u001b[0m\u001b[0;34m)\u001b[0m\u001b[0;34m)\u001b[0m\u001b[0;34m\u001b[0m\u001b[0;34m\u001b[0m\u001b[0m\n\u001b[1;32m     43\u001b[0m \u001b[0mnum_heads\u001b[0m \u001b[0;34m=\u001b[0m \u001b[0mint\u001b[0m\u001b[0;34m(\u001b[0m\u001b[0minput\u001b[0m\u001b[0;34m(\u001b[0m\u001b[0;34m'heads: '\u001b[0m\u001b[0;34m)\u001b[0m\u001b[0;34m)\u001b[0m\u001b[0;34m\u001b[0m\u001b[0;34m\u001b[0m\u001b[0m\n\u001b[0;32m---> 44\u001b[0;31m \u001b[0mcoin\u001b[0m \u001b[0;34m=\u001b[0m \u001b[0mCoin\u001b[0m\u001b[0;34m(\u001b[0m\u001b[0mnum_tosses\u001b[0m\u001b[0;34m,\u001b[0m \u001b[0mnum_heads\u001b[0m\u001b[0;34m)\u001b[0m\u001b[0;34m\u001b[0m\u001b[0;34m\u001b[0m\u001b[0m\n\u001b[0m\u001b[1;32m     45\u001b[0m \u001b[0mcoin\u001b[0m\u001b[0;34m.\u001b[0m\u001b[0mbootstrap\u001b[0m\u001b[0;34m(\u001b[0m\u001b[0;34m)\u001b[0m\u001b[0;34m\u001b[0m\u001b[0;34m\u001b[0m\u001b[0m\n",
            "\u001b[0;32m<ipython-input-16-317684252ec0>\u001b[0m in \u001b[0;36m__init__\u001b[0;34m(self, num_tosses, num_heads)\u001b[0m\n\u001b[1;32m      7\u001b[0m   \u001b[0;32mdef\u001b[0m \u001b[0m__init__\u001b[0m\u001b[0;34m(\u001b[0m\u001b[0mself\u001b[0m\u001b[0;34m,\u001b[0m \u001b[0mnum_tosses\u001b[0m\u001b[0;34m,\u001b[0m \u001b[0mnum_heads\u001b[0m\u001b[0;34m)\u001b[0m\u001b[0;34m:\u001b[0m\u001b[0;34m\u001b[0m\u001b[0;34m\u001b[0m\u001b[0m\n\u001b[1;32m      8\u001b[0m     \u001b[0;32mif\u001b[0m \u001b[0mnum_heads\u001b[0m\u001b[0;34m/\u001b[0m\u001b[0mnum_tosses\u001b[0m \u001b[0;34m<=\u001b[0m \u001b[0mself\u001b[0m\u001b[0;34m.\u001b[0m\u001b[0mFAIR_COIN\u001b[0m\u001b[0;34m:\u001b[0m\u001b[0;34m\u001b[0m\u001b[0;34m\u001b[0m\u001b[0m\n\u001b[0;32m----> 9\u001b[0;31m         \u001b[0;32mraise\u001b[0m \u001b[0mValueError\u001b[0m\u001b[0;34m(\u001b[0m\u001b[0;34mf\"this test assumes num_heads/num_tosses ({num_heads/num_tosses:.4f}) > P[heads] in a fair coin ({self.FAIR_COIN})\"\u001b[0m\u001b[0;34m)\u001b[0m\u001b[0;34m\u001b[0m\u001b[0;34m\u001b[0m\u001b[0m\n\u001b[0m\u001b[1;32m     10\u001b[0m     \u001b[0mself\u001b[0m\u001b[0;34m.\u001b[0m\u001b[0mnum_tosses\u001b[0m \u001b[0;34m=\u001b[0m \u001b[0mnum_tosses\u001b[0m\u001b[0;34m\u001b[0m\u001b[0;34m\u001b[0m\u001b[0m\n\u001b[1;32m     11\u001b[0m     \u001b[0mself\u001b[0m\u001b[0;34m.\u001b[0m\u001b[0mnum_heads\u001b[0m \u001b[0;34m=\u001b[0m \u001b[0mnum_heads\u001b[0m\u001b[0;34m\u001b[0m\u001b[0;34m\u001b[0m\u001b[0m\n",
            "\u001b[0;31mValueError\u001b[0m: this test assumes num_heads/num_tosses (0.4000) > P[heads] in a fair coin (0.5)"
          ]
        }
      ]
    }
  ]
}